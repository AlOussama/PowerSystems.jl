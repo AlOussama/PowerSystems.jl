{
 "cells": [
  {
   "cell_type": "markdown",
   "metadata": {
    "nbpresent": {
     "id": "fffddd02-1500-493c-aa01-cbed36711999"
    },
    "slideshow": {
     "slide_type": "slide"
    }
   },
   "source": [
    "# System Modeling and Dispatching\n",
    "\n",
    "This notebook is intended to show a power system modeling framework that exploits the capabilities of Julia to improve performance and allow modelers to develop modular system to analyze problems with different complexities. \n",
    "\n",
    "The example system for this notebook is the [Small Test Systems for Power System Economic Studies](http://ieeexplore.ieee.org/stamp/stamp.jsp?arnumber=5589973), modified to include a PV-Plant and a Wind plant and time series of load and renewable energy. The system data can also be accessed in [Matpower format](http://www.pserc.cornell.edu/matpower/docs/ref/matpower5.0/case5.html). "
   ]
  },
  {
   "cell_type": "markdown",
   "metadata": {
    "nbpresent": {
     "id": "862ec794-fd27-4ffd-acac-95acb3ebc058"
    },
    "slideshow": {
     "slide_type": "subslide"
    }
   },
   "source": [
    "## 5 - Bus system example\n",
    "\n",
    "It is possible to store the data for the 5-bus system described in the later sections in terms of the aforementioned type structure. \n",
    "\n",
    "The one-line diagram of the system is as follows, where the peak load of each bus is shown: \n",
    "\n",
    "![5_bus_system](5bus.png)\n",
    "\n",
    "First the nodes and system parameters are defined in terms of the system and bus types. Which eventually allows for the re-use of the same information is some other components of the system change. "
   ]
  },
  {
   "cell_type": "markdown",
   "metadata": {
    "nbpresent": {
     "id": "28f4fc3e-00b0-45fa-9423-5fb07042e524"
    },
    "slideshow": {
     "slide_type": "subslide"
    }
   },
   "source": [
    "## Intro\n",
    "The objecitve is to exploit Julia's integration of dynamic types with the function dispatch. As explained in Julia's documentation: \n",
    "\n",
    "\"Julia’s type system is dynamic, but gains some of the advantages of static type systems by making it possible to indicate that certain values are of specific types. This can be of great assistance in generating efficient code, but even more significantly, it allows method dispatch on the types of function arguments to be deeply integrated with the language.\"\n",
    "\n",
    "The way the types are defined for PowerSystems is by using immutable types. There are two kinds of composite types (in 0.6) ``struct`` (an immutable type, old name was ``immutable``) and ``mutable struct`` (a mutable type, old name was ``type``). ``mutable struct``s are always allocated on the heap. ``struct``s will be allocated on the stack under certain conditions. (One case where they won't be allocated on the stack right now is if they have a field that is a ``mutable struct``). If a ``struct`` only has e.g. bitstype fields, the ``struct`` should always end up on the stack, and for example an array of such a ``struct`` should have a really nice dense memory layout.\n",
    "\n",
    "For more details on Julia types, refer to the [documentation](https://docs.julialang.org/en/release-0.6/manual/types/)"
   ]
  },
  {
   "cell_type": "markdown",
   "metadata": {
    "slideshow": {
     "slide_type": "subslide"
    }
   },
   "source": [
    "## Packages\n",
    "\n",
    " - *[PowerSystems.jl](https://github.com/NREL/PowerSystems.jl)* We take advantage of Julia's dynamic types and functional dispatch in our implementation of PowerSystems to define data schemas for Power Systems Analysis problems.\n",
    "\n",
    " - *[PowerSimulations.jl](https://github.com/NREL/PowerSimulations.jl)* We leverage the schemas defined in PowerSystems to create functions for defining Power Systems Analysis Problems. "
   ]
  },
  {
   "cell_type": "markdown",
   "metadata": {
    "slideshow": {
     "slide_type": "slide"
    }
   },
   "source": [
    "# Basic Economic Dispatch Example\n",
    "\n"
   ]
  },
  {
   "cell_type": "markdown",
   "metadata": {
    "slideshow": {
     "slide_type": "subslide"
    }
   },
   "source": [
    "## Packages Modeling and Result Inspection"
   ]
  },
  {
   "cell_type": "code",
   "execution_count": 303,
   "metadata": {
    "slideshow": {
     "slide_type": "fragment"
    }
   },
   "outputs": [],
   "source": [
    "# Modeling Packages\n",
    "using PowerSystems;\n",
    "using JuMP;\n",
    "using Xpress; \n",
    "solver = Xpress.XpressSolver();"
   ]
  },
  {
   "cell_type": "code",
   "execution_count": 304,
   "metadata": {
    "nbpresent": {
     "id": "b066d2fc-bbc7-422d-b194-9bec2c2fe365"
    },
    "slideshow": {
     "slide_type": "fragment"
    }
   },
   "outputs": [],
   "source": [
    "# Result Inspection Packages\n",
    "using DataFrames;\n",
    "using Plotly;\n",
    "using Colors;"
   ]
  },
  {
   "cell_type": "markdown",
   "metadata": {
    "slideshow": {
     "slide_type": "subslide"
    }
   },
   "source": [
    "## Load the 5-Bus example"
   ]
  },
  {
   "cell_type": "code",
   "execution_count": 332,
   "metadata": {
    "nbpresent": {
     "id": "35475b73-ff4e-4f89-ba98-8b5ad8ab7833"
    },
    "slideshow": {
     "slide_type": "fragment"
    }
   },
   "outputs": [
    {
     "data": {
      "text/plain": [
       "PowerSystems.PowerSystem(PowerSystems.Bus[, , , , ], PowerSystems.Generator[, , , , , , ], PowerSystems.ElectricLoad[PowerSystems.StaticLoad(\"Bus2\", true, , \"P\", 300.0, 98.61, 24x1 TimeSeries.TimeArray{Float64,1,DateTime,Array{Float64,1}} 2024-01-01T00:00:00 to 2024-01-01T23:00:00\n",
       "│                     │        │\n",
       "├─────────────────────┼────────┤\n",
       "│ 2024-01-01T00:00:00 │ 0.7927 │\n",
       "│ 2024-01-01T01:00:00 │ 0.7232 │\n",
       "│ 2024-01-01T02:00:00 │ 0.711  │\n",
       "│ 2024-01-01T03:00:00 │ 0.6777 │\n",
       "│ 2024-01-01T04:00:00 │ 0.6682 │\n",
       "│ 2024-01-01T05:00:00 │ 0.6717 │\n",
       "│ 2024-01-01T06:00:00 │ 0.6876 │\n",
       "│ 2024-01-01T07:00:00 │ 0.7118 │\n",
       "│ 2024-01-01T08:00:00 │ 0.7563 │\n",
       "│ 2024-01-01T09:00:00 │ 0.7984 │\n",
       "│ 2024-01-01T10:00:00 │ 0.8278 │\n",
       "│ 2024-01-01T11:00:00 │ 0.8404 │\n",
       "   ⋮\n",
       "│ 2024-01-01T13:00:00 │ 0.8346 │\n",
       "│ 2024-01-01T14:00:00 │ 0.8229 │\n",
       "│ 2024-01-01T15:00:00 │ 0.8169 │\n",
       "│ 2024-01-01T16:00:00 │ 0.8241 │\n",
       "│ 2024-01-01T17:00:00 │ 0.9057 │\n",
       "│ 2024-01-01T18:00:00 │ 0.99   │\n",
       "│ 2024-01-01T19:00:00 │ 1.0    │\n",
       "│ 2024-01-01T20:00:00 │ 0.9912 │\n",
       "│ 2024-01-01T21:00:00 │ 0.9608 │\n",
       "│ 2024-01-01T22:00:00 │ 0.9215 │\n",
       "│ 2024-01-01T23:00:00 │ 0.837  │), PowerSystems.StaticLoad(\"Bus3\", true, , \"P\", 300.0, 98.61, 24x1 TimeSeries.TimeArray{Float64,1,DateTime,Array{Float64,1}} 2024-01-01T00:00:00 to 2024-01-01T23:00:00\n",
       "│                     │        │\n",
       "├─────────────────────┼────────┤\n",
       "│ 2024-01-01T00:00:00 │ 0.8311 │\n",
       "│ 2024-01-01T01:00:00 │ 0.6899 │\n",
       "│ 2024-01-01T02:00:00 │ 0.6661 │\n",
       "│ 2024-01-01T03:00:00 │ 0.627  │\n",
       "│ 2024-01-01T04:00:00 │ 0.6249 │\n",
       "│ 2024-01-01T05:00:00 │ 0.6286 │\n",
       "│ 2024-01-01T06:00:00 │ 0.6507 │\n",
       "│ 2024-01-01T07:00:00 │ 0.6834 │\n",
       "│ 2024-01-01T08:00:00 │ 0.7509 │\n",
       "│ 2024-01-01T09:00:00 │ 0.8283 │\n",
       "│ 2024-01-01T10:00:00 │ 0.8842 │\n",
       "│ 2024-01-01T11:00:00 │ 0.8885 │\n",
       "   ⋮\n",
       "│ 2024-01-01T13:00:00 │ 0.8475 │\n",
       "│ 2024-01-01T14:00:00 │ 0.8228 │\n",
       "│ 2024-01-01T15:00:00 │ 0.8038 │\n",
       "│ 2024-01-01T16:00:00 │ 0.8133 │\n",
       "│ 2024-01-01T17:00:00 │ 0.9076 │\n",
       "│ 2024-01-01T18:00:00 │ 0.9868 │\n",
       "│ 2024-01-01T19:00:00 │ 1.0    │\n",
       "│ 2024-01-01T20:00:00 │ 0.9905 │\n",
       "│ 2024-01-01T21:00:00 │ 0.9525 │\n",
       "│ 2024-01-01T22:00:00 │ 0.9066 │\n",
       "│ 2024-01-01T23:00:00 │ 0.8243 │), PowerSystems.StaticLoad(\"Bus4\", true, , \"P\", 400.0, 131.47, 24x1 TimeSeries.TimeArray{Float64,1,DateTime,Array{Float64,1}} 2024-01-01T00:00:00 to 2024-01-01T23:00:00\n",
       "│                     │        │\n",
       "├─────────────────────┼────────┤\n",
       "│ 2024-01-01T00:00:00 │ 0.8713 │\n",
       "│ 2024-01-01T01:00:00 │ 0.6705 │\n",
       "│ 2024-01-01T02:00:00 │ 0.6428 │\n",
       "│ 2024-01-01T03:00:00 │ 0.6301 │\n",
       "│ 2024-01-01T04:00:00 │ 0.653  │\n",
       "│ 2024-01-01T05:00:00 │ 0.672  │\n",
       "│ 2024-01-01T06:00:00 │ 0.7163 │\n",
       "│ 2024-01-01T07:00:00 │ 0.7709 │\n",
       "│ 2024-01-01T08:00:00 │ 0.8101 │\n",
       "│ 2024-01-01T09:00:00 │ 0.8556 │\n",
       "│ 2024-01-01T10:00:00 │ 0.8924 │\n",
       "│ 2024-01-01T11:00:00 │ 0.9107 │\n",
       "   ⋮\n",
       "│ 2024-01-01T13:00:00 │ 0.8984 │\n",
       "│ 2024-01-01T14:00:00 │ 0.8798 │\n",
       "│ 2024-01-01T15:00:00 │ 0.8964 │\n",
       "│ 2024-01-01T16:00:00 │ 0.9786 │\n",
       "│ 2024-01-01T17:00:00 │ 0.9652 │\n",
       "│ 2024-01-01T18:00:00 │ 1.0    │\n",
       "│ 2024-01-01T19:00:00 │ 0.9696 │\n",
       "│ 2024-01-01T20:00:00 │ 0.9012 │\n",
       "│ 2024-01-01T21:00:00 │ 0.8189 │\n",
       "│ 2024-01-01T22:00:00 │ 0.771  │\n",
       "│ 2024-01-01T23:00:00 │ 0.7178 │), PowerSystems.InterruptibleLoad(\"IloadBus4\", true, , \"P\", 100.0, 0.0, 50.0, 2400.0, 24x1 TimeSeries.TimeArray{Float64,1,DateTime,Array{Float64,1}} 2024-01-01T00:00:00 to 2024-01-01T23:00:00\n",
       "│                     │        │\n",
       "├─────────────────────┼────────┤\n",
       "│ 2024-01-01T00:00:00 │ 0.8713 │\n",
       "│ 2024-01-01T01:00:00 │ 0.6705 │\n",
       "│ 2024-01-01T02:00:00 │ 0.6428 │\n",
       "│ 2024-01-01T03:00:00 │ 0.6301 │\n",
       "│ 2024-01-01T04:00:00 │ 0.653  │\n",
       "│ 2024-01-01T05:00:00 │ 0.672  │\n",
       "│ 2024-01-01T06:00:00 │ 0.7163 │\n",
       "│ 2024-01-01T07:00:00 │ 0.7709 │\n",
       "│ 2024-01-01T08:00:00 │ 0.8101 │\n",
       "│ 2024-01-01T09:00:00 │ 0.8556 │\n",
       "│ 2024-01-01T10:00:00 │ 0.8924 │\n",
       "│ 2024-01-01T11:00:00 │ 0.9107 │\n",
       "   ⋮\n",
       "│ 2024-01-01T13:00:00 │ 0.8984 │\n",
       "│ 2024-01-01T14:00:00 │ 0.8798 │\n",
       "│ 2024-01-01T15:00:00 │ 0.8964 │\n",
       "│ 2024-01-01T16:00:00 │ 0.9786 │\n",
       "│ 2024-01-01T17:00:00 │ 0.9652 │\n",
       "│ 2024-01-01T18:00:00 │ 1.0    │\n",
       "│ 2024-01-01T19:00:00 │ 0.9696 │\n",
       "│ 2024-01-01T20:00:00 │ 0.9012 │\n",
       "│ 2024-01-01T21:00:00 │ 0.8189 │\n",
       "│ 2024-01-01T22:00:00 │ 0.771  │\n",
       "│ 2024-01-01T23:00:00 │ 0.7178 │)], PowerSystems.Network(PowerSystems.Branch[PowerSystems.Line(\"1\", true, (, ), 0.00281, 0.0281, 0.00712, 400.0, nothing), PowerSystems.Line(\"2\", true, (, ), 0.00304, 0.0304, 0.00658, Inf, nothing), PowerSystems.Line(\"3\", true, (, ), 0.00064, 0.0064, 0.03126, Inf, nothing), PowerSystems.Line(\"4\", true, (, ), 0.00108, 0.0108, 0.01852, Inf, nothing), PowerSystems.Line(\"5\", true, (, ), 0.00297, 0.0297, 0.00674, Inf, nothing), PowerSystems.Line(\"6\", true, (, ), 0.00297, 0.0297, 0.00674, 240.0, nothing)], 6, \n",
       "  [1, 1]  =  22.2507-222.484im\n",
       "  [2, 1]  =  -3.52348+35.2348im\n",
       "  [4, 1]  =  -3.2569+32.569im\n",
       "  [5, 1]  =  -15.4703+154.703im\n",
       "  [1, 2]  =  -3.52348+35.2348im\n",
       "  [2, 2]  =  12.6911-126.898im\n",
       "  [3, 2]  =  -9.16758+91.6758im\n",
       "  [2, 3]  =  -9.16758+91.6758im\n",
       "  [3, 3]  =  12.5013-125.0im\n",
       "  [4, 3]  =  -3.33367+33.3367im\n",
       "  [1, 4]  =  -3.2569+32.569im\n",
       "  [3, 4]  =  -3.33367+33.3367im\n",
       "  [4, 4]  =  9.92424-99.2324im\n",
       "  [5, 4]  =  -3.33367+33.3367im\n",
       "  [1, 5]  =  -15.4703+154.703im\n",
       "  [4, 5]  =  -3.33367+33.3367im\n",
       "  [5, 5]  =  18.804-188.021im, [0.0343786 -0.635433 … -0.159538 0.0; 0.077578 -0.101667 … -0.36001 0.0; … ; 0.0343786 0.364567 … -0.159538 0.0; 0.111957 0.2629 … 0.480452 0.0], [1 1 … 0 0; -1 0 … 0 0; … ; 0 -1 … -1 1; 0 0 … 0 -1]), nothing, 230.0, 1000.0, 24, false)"
      ]
     },
     "execution_count": 332,
     "metadata": {},
     "output_type": "execute_result"
    },
    {
     "name": "stdout",
     "output_type": "stream",
     "text": [
      "Name: nodeA, Type: PVName: nodeB, Type: PQName: nodeC, Type: PVName: nodeD, Type: PVName: nodeE, Type: SFThermal Gen: \n",
      "   Name: Alta, Status: trueThermal Gen: \n",
      "   Name: Park City, Status: trueThermal Gen: \n",
      "   Name: Solitude, Status: trueThermal Gen: \n",
      "   Name: Sundance, Status: trueThermal Gen: \n",
      "   Name: Brighton, Status: trueRenewableFix: \n",
      "   Name: SolarBusC, Status: trueRenewableCurtailment: \n",
      "   Name: WindBusA, Status: trueName: nodeB, Type: PQName: nodeC, Type: PVName: nodeD, Type: PVName: nodeD, Type: PVName: nodeA, Type: PVName: nodeB, Type: PQName: nodeA, Type: PVName: nodeD, Type: PVName: nodeA, Type: PVName: nodeE, Type: SFName: nodeB, Type: PQName: nodeC, Type: PVName: nodeC, Type: PVName: nodeD, Type: PVName: nodeD, Type: PVName: nodeE, Type: SF"
     ]
    }
   ],
   "source": [
    "sys = include(expanduser(\"~/.julia/v0.6/PowerSystems/data_files/data_5bus.jl\"))\n"
   ]
  },
  {
   "cell_type": "markdown",
   "metadata": {
    "slideshow": {
     "slide_type": "slide"
    }
   },
   "source": [
    "## Populate Economic Dispatch Problem\n",
    "Create a function that populates an economic dispatch problem based on the data defined in the PowerSystems instance"
   ]
  },
  {
   "cell_type": "markdown",
   "metadata": {
    "slideshow": {
     "slide_type": "subslide"
    }
   },
   "source": [
    "## Modular function:"
   ]
  },
  {
   "cell_type": "code",
   "execution_count": 319,
   "metadata": {
    "slideshow": {
     "slide_type": "fragment"
    }
   },
   "outputs": [
    {
     "data": {
      "text/plain": [
       "makeED (generic function with 1 method)"
      ]
     },
     "execution_count": 319,
     "metadata": {},
     "output_type": "execute_result"
    }
   ],
   "source": [
    "# Thermal Generator Operating Limits\n",
    "function powerconstraints(m, Pg, Generator::ThermalGen)\n",
    "    for var in Pg\n",
    "        @constraint(m, var >= Generator.tech.realpowerlimits.min)\n",
    "        @constraint(m, var <= Generator.tech.realpowerlimits.max)\n",
    "    end\n",
    "end\n",
    "\n",
    "# RE Generator Operating Limits\n",
    "function powerconstraints(m, Pg, Generator::RenewableGen)\n",
    "    for (time, var) in enumerate(Pg)\n",
    "        @constraint(m, var <= Generator.tech.installedcapacity*Generator.scalingfactor.values[time])\n",
    "    end\n",
    "end\n",
    "\n",
    "function makeED(sys,solver)\n",
    "    EconomicDispatch = Model(solver=solver)\n",
    "    gSet = [sys.generators[i].name for i in 1:length(sys.generators)]\n",
    "    @variable(EconomicDispatch, Pg[gSet, t = 1:sys.timesteps] >=0 )\n",
    "\n",
    "    for (ix, name) in enumerate(Pg.indexsets[1])\n",
    "        if name == sys.generators[ix].name\n",
    "            powerconstraints(EconomicDispatch, Pg[name,:], sys.generators[ix])\n",
    "            \n",
    "        else\n",
    "            error(\"Bus name in Array and variable do not match\")\n",
    "        end\n",
    "    end\n",
    "    \n",
    "    # Power Balance\n",
    "    @constraint(EconomicDispatch, Pbal[t = 1:sys.timesteps], sum(Pg[gen.name,t] for gen in sys.generators) == sum(ld.maxrealpower*ld.scalingfactor.values[t] for ld in sys.loads));\n",
    "    \n",
    "    # Objective\n",
    "    @objective(EconomicDispatch, :Min, sum(sum(Pg[gen.name,i]*gen.econ.variablecost for gen in sys.generators if typeof(gen)==PowerSystems.ThermalGen) for i in 1:sys.timesteps)) ;\n",
    "\n",
    "    return(EconomicDispatch)\n",
    "end"
   ]
  },
  {
   "cell_type": "markdown",
   "metadata": {
    "slideshow": {
     "slide_type": "subslide"
    }
   },
   "source": [
    "## Populate an Economic Dispatch Problem using 5-Bus case"
   ]
  },
  {
   "cell_type": "code",
   "execution_count": 320,
   "metadata": {
    "slideshow": {
     "slide_type": "fragment"
    }
   },
   "outputs": [
    {
     "data": {
      "text/latex": [
       "$$ \\begin{alignat*}{1}\\min\\quad & 14 Pg_{Alta,1} + 15 Pg_{Park City,1} + 30 Pg_{Solitude,1} + 40 Pg_{Sundance,1} + 10 Pg_{Brighton,1} + 14 Pg_{Alta,2} + 15 Pg_{Park City,2} + 30 Pg_{Solitude,2} + 40 Pg_{Sundance,2} + 10 Pg_{Brighton,2} + 14 Pg_{Alta,3} + 15 Pg_{Park City,3} + 30 Pg_{Solitude,3} + 40 Pg_{Sundance,3} + 10 Pg_{Brighton,3} + 14 Pg_{Alta,4} + 15 Pg_{Park City,4} + 30 Pg_{Solitude,4} + 40 Pg_{Sundance,4} + 10 Pg_{Brighton,4} + 14 Pg_{Alta,5} + 15 Pg_{Park City,5} + 30 Pg_{Solitude,5} + 40 Pg_{Sundance,5} + 10 Pg_{Brighton,5} + 14 Pg_{Alta,6} + 15 Pg_{Park City,6} + 30 Pg_{Solitude,6} + 40 Pg_{Sundance,6} + 10 Pg_{Brighton,6} + 14 Pg_{Alta,7} + 15 Pg_{Park City,7} + 30 Pg_{Solitude,7} + 40 Pg_{Sundance,7} + 10 Pg_{Brighton,7} + 14 Pg_{Alta,8} + 15 Pg_{Park City,8} + 30 Pg_{Solitude,8} + 40 Pg_{Sundance,8} + 10 Pg_{Brighton,8} + 14 Pg_{Alta,9} + 15 Pg_{Park City,9} + 30 Pg_{Solitude,9} + 40 Pg_{Sundance,9} + 10 Pg_{Brighton,9} + 14 Pg_{Alta,10} + 15 Pg_{Park City,10} + 30 Pg_{Solitude,10} + 40 Pg_{Sundance,10} + 10 Pg_{Brighton,10} + 14 Pg_{Alta,11} + 15 Pg_{Park City,11} + 30 Pg_{Solitude,11} + 40 Pg_{Sundance,11} + 10 Pg_{Brighton,11} + 14 Pg_{Alta,12} + 15 Pg_{Park City,12} + 30 Pg_{Solitude,12} + 40 Pg_{Sundance,12} + 10 Pg_{Brighton,12} + 14 Pg_{Alta,13} + 15 Pg_{Park City,13} + 30 Pg_{Solitude,13} + 40 Pg_{Sundance,13} + 10 Pg_{Brighton,13} + 14 Pg_{Alta,14} + 15 Pg_{Park City,14} + 30 Pg_{Solitude,14} + 40 Pg_{Sundance,14} + 10 Pg_{Brighton,14} + 14 Pg_{Alta,15} + 15 Pg_{Park City,15} + 30 Pg_{Solitude,15} + 40 Pg_{Sundance,15} + 10 Pg_{Brighton,15} + 14 Pg_{Alta,16} + 15 Pg_{Park City,16} + 30 Pg_{Solitude,16} + 40 Pg_{Sundance,16} + 10 Pg_{Brighton,16} + 14 Pg_{Alta,17} + 15 Pg_{Park City,17} + 30 Pg_{Solitude,17} + 40 Pg_{Sundance,17} + 10 Pg_{Brighton,17} + 14 Pg_{Alta,18} + 15 Pg_{Park City,18} + 30 Pg_{Solitude,18} + 40 Pg_{Sundance,18} + 10 Pg_{Brighton,18} + 14 Pg_{Alta,19} + 15 Pg_{Park City,19} + 30 Pg_{Solitude,19} + 40 Pg_{Sundance,19} + 10 Pg_{Brighton,19} + 14 Pg_{Alta,20} + 15 Pg_{Park City,20} + 30 Pg_{Solitude,20} + 40 Pg_{Sundance,20} + 10 Pg_{Brighton,20} + 14 Pg_{Alta,21} + 15 Pg_{Park City,21} + 30 Pg_{Solitude,21} + 40 Pg_{Sundance,21} + 10 Pg_{Brighton,21} + 14 Pg_{Alta,22} + 15 Pg_{Park City,22} + 30 Pg_{Solitude,22} + 40 Pg_{Sundance,22} + 10 Pg_{Brighton,22} + 14 Pg_{Alta,23} + 15 Pg_{Park City,23} + 30 Pg_{Solitude,23} + 40 Pg_{Sundance,23} + 10 Pg_{Brighton,23} + 14 Pg_{Alta,24} + 15 Pg_{Park City,24} + 30 Pg_{Solitude,24} + 40 Pg_{Sundance,24} + 10 Pg_{Brighton,24}\\\\\n",
       "\\text{Subject to} \\quad & Pg_{Alta,1} \\geq 0\\\\\n",
       " & Pg_{Alta,1} \\leq 40\\\\\n",
       " & Pg_{Alta,2} \\geq 0\\\\\n",
       " & Pg_{Alta,2} \\leq 40\\\\\n",
       " & Pg_{Alta,3} \\geq 0\\\\\n",
       " & Pg_{Alta,3} \\leq 40\\\\\n",
       " & Pg_{Alta,4} \\geq 0\\\\\n",
       " & Pg_{Alta,4} \\leq 40\\\\\n",
       " & Pg_{Alta,5} \\geq 0\\\\\n",
       " & Pg_{Alta,5} \\leq 40\\\\\n",
       " & Pg_{Alta,6} \\geq 0\\\\\n",
       " & Pg_{Alta,6} \\leq 40\\\\\n",
       " & Pg_{Alta,7} \\geq 0\\\\\n",
       " & Pg_{Alta,7} \\leq 40\\\\\n",
       " & Pg_{Alta,8} \\geq 0\\\\\n",
       " & Pg_{Alta,8} \\leq 40\\\\\n",
       " & Pg_{Alta,9} \\geq 0\\\\\n",
       " & Pg_{Alta,9} \\leq 40\\\\\n",
       " & Pg_{Alta,10} \\geq 0\\\\\n",
       " & Pg_{Alta,10} \\leq 40\\\\\n",
       " & Pg_{Alta,11} \\geq 0\\\\\n",
       " & Pg_{Alta,11} \\leq 40\\\\\n",
       " & Pg_{Alta,12} \\geq 0\\\\\n",
       " & Pg_{Alta,12} \\leq 40\\\\\n",
       " & Pg_{Alta,13} \\geq 0\\\\\n",
       " & Pg_{Alta,13} \\leq 40\\\\\n",
       " & Pg_{Alta,14} \\geq 0\\\\\n",
       " & Pg_{Alta,14} \\leq 40\\\\\n",
       " & Pg_{Alta,15} \\geq 0\\\\\n",
       " & Pg_{Alta,15} \\leq 40\\\\\n",
       " & Pg_{Alta,16} \\geq 0\\\\\n",
       " & Pg_{Alta,16} \\leq 40\\\\\n",
       " & Pg_{Alta,17} \\geq 0\\\\\n",
       " & Pg_{Alta,17} \\leq 40\\\\\n",
       " & Pg_{Alta,18} \\geq 0\\\\\n",
       " & Pg_{Alta,18} \\leq 40\\\\\n",
       " & Pg_{Alta,19} \\geq 0\\\\\n",
       " & Pg_{Alta,19} \\leq 40\\\\\n",
       " & Pg_{Alta,20} \\geq 0\\\\\n",
       " & Pg_{Alta,20} \\leq 40\\\\\n",
       " & Pg_{Alta,21} \\geq 0\\\\\n",
       " & Pg_{Alta,21} \\leq 40\\\\\n",
       " & Pg_{Alta,22} \\geq 0\\\\\n",
       " & Pg_{Alta,22} \\leq 40\\\\\n",
       " & Pg_{Alta,23} \\geq 0\\\\\n",
       " & Pg_{Alta,23} \\leq 40\\\\\n",
       " & Pg_{Alta,24} \\geq 0\\\\\n",
       " & Pg_{Alta,24} \\leq 40\\\\\n",
       " & Pg_{Park City,1} \\geq 0\\\\\n",
       " & Pg_{Park City,1} \\leq 170\\\\\n",
       " & Pg_{Park City,2} \\geq 0\\\\\n",
       " & Pg_{Park City,2} \\leq 170\\\\\n",
       " & Pg_{Park City,3} \\geq 0\\\\\n",
       " & Pg_{Park City,3} \\leq 170\\\\\n",
       " & Pg_{Park City,4} \\geq 0\\\\\n",
       " & Pg_{Park City,4} \\leq 170\\\\\n",
       " & Pg_{Park City,5} \\geq 0\\\\\n",
       " & Pg_{Park City,5} \\leq 170\\\\\n",
       " & Pg_{Park City,6} \\geq 0\\\\\n",
       " & Pg_{Park City,6} \\leq 170\\\\\n",
       " & Pg_{Park City,7} \\geq 0\\\\\n",
       " & Pg_{Park City,7} \\leq 170\\\\\n",
       " & Pg_{Park City,8} \\geq 0\\\\\n",
       " & Pg_{Park City,8} \\leq 170\\\\\n",
       " & Pg_{Park City,9} \\geq 0\\\\\n",
       " & Pg_{Park City,9} \\leq 170\\\\\n",
       " & Pg_{Park City,10} \\geq 0\\\\\n",
       " & Pg_{Park City,10} \\leq 170\\\\\n",
       " & Pg_{Park City,11} \\geq 0\\\\\n",
       " & Pg_{Park City,11} \\leq 170\\\\\n",
       " & Pg_{Park City,12} \\geq 0\\\\\n",
       " & Pg_{Park City,12} \\leq 170\\\\\n",
       " & Pg_{Park City,13} \\geq 0\\\\\n",
       " & Pg_{Park City,13} \\leq 170\\\\\n",
       " & Pg_{Park City,14} \\geq 0\\\\\n",
       " & Pg_{Park City,14} \\leq 170\\\\\n",
       " & Pg_{Park City,15} \\geq 0\\\\\n",
       " & Pg_{Park City,15} \\leq 170\\\\\n",
       " & Pg_{Park City,16} \\geq 0\\\\\n",
       " & Pg_{Park City,16} \\leq 170\\\\\n",
       " & Pg_{Park City,17} \\geq 0\\\\\n",
       " & Pg_{Park City,17} \\leq 170\\\\\n",
       " & Pg_{Park City,18} \\geq 0\\\\\n",
       " & Pg_{Park City,18} \\leq 170\\\\\n",
       " & Pg_{Park City,19} \\geq 0\\\\\n",
       " & Pg_{Park City,19} \\leq 170\\\\\n",
       " & Pg_{Park City,20} \\geq 0\\\\\n",
       " & Pg_{Park City,20} \\leq 170\\\\\n",
       " & Pg_{Park City,21} \\geq 0\\\\\n",
       " & Pg_{Park City,21} \\leq 170\\\\\n",
       " & Pg_{Park City,22} \\geq 0\\\\\n",
       " & Pg_{Park City,22} \\leq 170\\\\\n",
       " & Pg_{Park City,23} \\geq 0\\\\\n",
       " & Pg_{Park City,23} \\leq 170\\\\\n",
       " & Pg_{Park City,24} \\geq 0\\\\\n",
       " & Pg_{Park City,24} \\leq 170\\\\\n",
       " & Pg_{Solitude,1} \\geq 0\\\\\n",
       " & Pg_{Solitude,1} \\leq 520\\\\\n",
       " & Pg_{Solitude,2} \\geq 0\\\\\n",
       " & Pg_{Solitude,2} \\leq 520\\\\\n",
       " & Pg_{Solitude,3} \\geq 0\\\\\n",
       " & Pg_{Solitude,3} \\leq 520\\\\\n",
       " & Pg_{Solitude,4} \\geq 0\\\\\n",
       " & Pg_{Solitude,4} \\leq 520\\\\\n",
       " & Pg_{Solitude,5} \\geq 0\\\\\n",
       " & Pg_{Solitude,5} \\leq 520\\\\\n",
       " & Pg_{Solitude,6} \\geq 0\\\\\n",
       " & Pg_{Solitude,6} \\leq 520\\\\\n",
       " & Pg_{Solitude,7} \\geq 0\\\\\n",
       " & Pg_{Solitude,7} \\leq 520\\\\\n",
       " & Pg_{Solitude,8} \\geq 0\\\\\n",
       " & Pg_{Solitude,8} \\leq 520\\\\\n",
       " & Pg_{Solitude,9} \\geq 0\\\\\n",
       " & Pg_{Solitude,9} \\leq 520\\\\\n",
       " & Pg_{Solitude,10} \\geq 0\\\\\n",
       " & Pg_{Solitude,10} \\leq 520\\\\\n",
       " & Pg_{Solitude,11} \\geq 0\\\\\n",
       " & Pg_{Solitude,11} \\leq 520\\\\\n",
       " & Pg_{Solitude,12} \\geq 0\\\\\n",
       " & Pg_{Solitude,12} \\leq 520\\\\\n",
       " & Pg_{Solitude,13} \\geq 0\\\\\n",
       " & Pg_{Solitude,13} \\leq 520\\\\\n",
       " & Pg_{Solitude,14} \\geq 0\\\\\n",
       " & Pg_{Solitude,14} \\leq 520\\\\\n",
       " & Pg_{Solitude,15} \\geq 0\\\\\n",
       " & Pg_{Solitude,15} \\leq 520\\\\\n",
       " & Pg_{Solitude,16} \\geq 0\\\\\n",
       " & Pg_{Solitude,16} \\leq 520\\\\\n",
       " & Pg_{Solitude,17} \\geq 0\\\\\n",
       " & Pg_{Solitude,17} \\leq 520\\\\\n",
       " & Pg_{Solitude,18} \\geq 0\\\\\n",
       " & Pg_{Solitude,18} \\leq 520\\\\\n",
       " & Pg_{Solitude,19} \\geq 0\\\\\n",
       " & Pg_{Solitude,19} \\leq 520\\\\\n",
       " & Pg_{Solitude,20} \\geq 0\\\\\n",
       " & Pg_{Solitude,20} \\leq 520\\\\\n",
       " & Pg_{Solitude,21} \\geq 0\\\\\n",
       " & Pg_{Solitude,21} \\leq 520\\\\\n",
       " & Pg_{Solitude,22} \\geq 0\\\\\n",
       " & Pg_{Solitude,22} \\leq 520\\\\\n",
       " & Pg_{Solitude,23} \\geq 0\\\\\n",
       " & Pg_{Solitude,23} \\leq 520\\\\\n",
       " & Pg_{Solitude,24} \\geq 0\\\\\n",
       " & Pg_{Solitude,24} \\leq 520\\\\\n",
       " & Pg_{Sundance,1} \\geq 0\\\\\n",
       " & Pg_{Sundance,1} \\leq 200\\\\\n",
       " & Pg_{Sundance,2} \\geq 0\\\\\n",
       " & Pg_{Sundance,2} \\leq 200\\\\\n",
       " & Pg_{Sundance,3} \\geq 0\\\\\n",
       " & Pg_{Sundance,3} \\leq 200\\\\\n",
       " & Pg_{Sundance,4} \\geq 0\\\\\n",
       " & Pg_{Sundance,4} \\leq 200\\\\\n",
       " & Pg_{Sundance,5} \\geq 0\\\\\n",
       " & Pg_{Sundance,5} \\leq 200\\\\\n",
       " & Pg_{Sundance,6} \\geq 0\\\\\n",
       " & Pg_{Sundance,6} \\leq 200\\\\\n",
       " & Pg_{Sundance,7} \\geq 0\\\\\n",
       " & Pg_{Sundance,7} \\leq 200\\\\\n",
       " & Pg_{Sundance,8} \\geq 0\\\\\n",
       " & Pg_{Sundance,8} \\leq 200\\\\\n",
       " & Pg_{Sundance,9} \\geq 0\\\\\n",
       " & Pg_{Sundance,9} \\leq 200\\\\\n",
       " & Pg_{Sundance,10} \\geq 0\\\\\n",
       " & Pg_{Sundance,10} \\leq 200\\\\\n",
       " & Pg_{Sundance,11} \\geq 0\\\\\n",
       " & Pg_{Sundance,11} \\leq 200\\\\\n",
       " & Pg_{Sundance,12} \\geq 0\\\\\n",
       " & Pg_{Sundance,12} \\leq 200\\\\\n",
       " & Pg_{Sundance,13} \\geq 0\\\\\n",
       " & Pg_{Sundance,13} \\leq 200\\\\\n",
       " & Pg_{Sundance,14} \\geq 0\\\\\n",
       " & Pg_{Sundance,14} \\leq 200\\\\\n",
       " & Pg_{Sundance,15} \\geq 0\\\\\n",
       " & Pg_{Sundance,15} \\leq 200\\\\\n",
       " & Pg_{Sundance,16} \\geq 0\\\\\n",
       " & Pg_{Sundance,16} \\leq 200\\\\\n",
       " & Pg_{Sundance,17} \\geq 0\\\\\n",
       " & Pg_{Sundance,17} \\leq 200\\\\\n",
       " & Pg_{Sundance,18} \\geq 0\\\\\n",
       " & Pg_{Sundance,18} \\leq 200\\\\\n",
       " & Pg_{Sundance,19} \\geq 0\\\\\n",
       " & Pg_{Sundance,19} \\leq 200\\\\\n",
       " & Pg_{Sundance,20} \\geq 0\\\\\n",
       " & Pg_{Sundance,20} \\leq 200\\\\\n",
       " & Pg_{Sundance,21} \\geq 0\\\\\n",
       " & Pg_{Sundance,21} \\leq 200\\\\\n",
       " & Pg_{Sundance,22} \\geq 0\\\\\n",
       " & Pg_{Sundance,22} \\leq 200\\\\\n",
       " & Pg_{Sundance,23} \\geq 0\\\\\n",
       " & Pg_{Sundance,23} \\leq 200\\\\\n",
       " & Pg_{Sundance,24} \\geq 0\\\\\n",
       " & Pg_{Sundance,24} \\leq 200\\\\\n",
       " & Pg_{Brighton,1} \\geq 0\\\\\n",
       " & Pg_{Brighton,1} \\leq 600\\\\\n",
       " & Pg_{Brighton,2} \\geq 0\\\\\n",
       " & Pg_{Brighton,2} \\leq 600\\\\\n",
       " & Pg_{Brighton,3} \\geq 0\\\\\n",
       " & Pg_{Brighton,3} \\leq 600\\\\\n",
       " & Pg_{Brighton,4} \\geq 0\\\\\n",
       " & Pg_{Brighton,4} \\leq 600\\\\\n",
       " & Pg_{Brighton,5} \\geq 0\\\\\n",
       " & Pg_{Brighton,5} \\leq 600\\\\\n",
       " & Pg_{Brighton,6} \\geq 0\\\\\n",
       " & Pg_{Brighton,6} \\leq 600\\\\\n",
       " & Pg_{Brighton,7} \\geq 0\\\\\n",
       " & Pg_{Brighton,7} \\leq 600\\\\\n",
       " & Pg_{Brighton,8} \\geq 0\\\\\n",
       " & Pg_{Brighton,8} \\leq 600\\\\\n",
       " & Pg_{Brighton,9} \\geq 0\\\\\n",
       " & Pg_{Brighton,9} \\leq 600\\\\\n",
       " & Pg_{Brighton,10} \\geq 0\\\\\n",
       " & Pg_{Brighton,10} \\leq 600\\\\\n",
       " & Pg_{Brighton,11} \\geq 0\\\\\n",
       " & Pg_{Brighton,11} \\leq 600\\\\\n",
       " & Pg_{Brighton,12} \\geq 0\\\\\n",
       " & Pg_{Brighton,12} \\leq 600\\\\\n",
       " & Pg_{Brighton,13} \\geq 0\\\\\n",
       " & Pg_{Brighton,13} \\leq 600\\\\\n",
       " & Pg_{Brighton,14} \\geq 0\\\\\n",
       " & Pg_{Brighton,14} \\leq 600\\\\\n",
       " & Pg_{Brighton,15} \\geq 0\\\\\n",
       " & Pg_{Brighton,15} \\leq 600\\\\\n",
       " & Pg_{Brighton,16} \\geq 0\\\\\n",
       " & Pg_{Brighton,16} \\leq 600\\\\\n",
       " & Pg_{Brighton,17} \\geq 0\\\\\n",
       " & Pg_{Brighton,17} \\leq 600\\\\\n",
       " & Pg_{Brighton,18} \\geq 0\\\\\n",
       " & Pg_{Brighton,18} \\leq 600\\\\\n",
       " & Pg_{Brighton,19} \\geq 0\\\\\n",
       " & Pg_{Brighton,19} \\leq 600\\\\\n",
       " & Pg_{Brighton,20} \\geq 0\\\\\n",
       " & Pg_{Brighton,20} \\leq 600\\\\\n",
       " & Pg_{Brighton,21} \\geq 0\\\\\n",
       " & Pg_{Brighton,21} \\leq 600\\\\\n",
       " & Pg_{Brighton,22} \\geq 0\\\\\n",
       " & Pg_{Brighton,22} \\leq 600\\\\\n",
       " & Pg_{Brighton,23} \\geq 0\\\\\n",
       " & Pg_{Brighton,23} \\leq 600\\\\\n",
       " & Pg_{Brighton,24} \\geq 0\\\\\n",
       " & Pg_{Brighton,24} \\leq 600\\\\\n",
       " & Pg_{SolarBusC,1} \\leq 0\\\\\n",
       " & Pg_{SolarBusC,2} \\leq 0\\\\\n",
       " & Pg_{SolarBusC,3} \\leq 0\\\\\n",
       " & Pg_{SolarBusC,4} \\leq 0\\\\\n",
       " & Pg_{SolarBusC,5} \\leq 0\\\\\n",
       " & Pg_{SolarBusC,6} \\leq 0\\\\\n",
       " & Pg_{SolarBusC,7} \\leq 0\\\\\n",
       " & Pg_{SolarBusC,8} \\leq 0\\\\\n",
       " & Pg_{SolarBusC,9} \\leq 0\\\\\n",
       " & Pg_{SolarBusC,10} \\leq 21.066341039999998\\\\\n",
       " & Pg_{SolarBusC,11} \\leq 37.95217596\\\\\n",
       " & Pg_{SolarBusC,12} \\leq 59.678354999999996\\\\\n",
       " & Pg_{SolarBusC,13} \\leq 60\\\\\n",
       " & Pg_{SolarBusC,14} \\leq 56.65423698\\\\\n",
       " & Pg_{SolarBusC,15} \\leq 23.80087404\\\\\n",
       " & Pg_{SolarBusC,16} \\leq 21.99068568\\\\\n",
       " & Pg_{SolarBusC,17} \\leq 9.307549739999999\\\\\n",
       " & Pg_{SolarBusC,18} \\leq 2.45236164\\\\\n",
       " & Pg_{SolarBusC,19} \\leq 0\\\\\n",
       " & Pg_{SolarBusC,20} \\leq 0\\\\\n",
       " & Pg_{SolarBusC,21} \\leq 0\\\\\n",
       " & Pg_{SolarBusC,22} \\leq 0\\\\\n",
       " & Pg_{SolarBusC,23} \\leq 0\\\\\n",
       " & Pg_{SolarBusC,24} \\leq 0\\\\\n",
       " & Pg_{WindBusA,1} \\leq 118.22464944000001\\\\\n",
       " & Pg_{WindBusA,2} \\leq 119.01496428\\\\\n",
       " & Pg_{WindBusA,3} \\leq 119.71849728\\\\\n",
       " & Pg_{WindBusA,4} \\leq 120\\\\\n",
       " & Pg_{WindBusA,5} \\leq 119.83964796\\\\\n",
       " & Pg_{WindBusA,6} \\leq 119.45965788\\\\\n",
       " & Pg_{WindBusA,7} \\leq 119.08974803999999\\\\\n",
       " & Pg_{WindBusA,8} \\leq 117.90290159999999\\\\\n",
       " & Pg_{WindBusA,9} \\leq 114.86441124000001\\\\\n",
       " & Pg_{WindBusA,10} \\leq 111.31810931999999\\\\\n",
       " & Pg_{WindBusA,11} \\leq 108.86183868\\\\\n",
       " & Pg_{WindBusA,12} \\leq 106.69150956\\\\\n",
       " & Pg_{WindBusA,13} \\leq 101.78240616\\\\\n",
       " & Pg_{WindBusA,14} \\leq 92.01766152\\\\\n",
       " & Pg_{WindBusA,15} \\leq 78.48630372000001\\\\\n",
       " & Pg_{WindBusA,16} \\leq 63.04033572\\\\\n",
       " & Pg_{WindBusA,17} \\leq 47.53176048\\\\\n",
       " & Pg_{WindBusA,18} \\leq 33.812581079999994\\\\\n",
       " & Pg_{WindBusA,19} \\leq 23.73480048\\\\\n",
       " & Pg_{WindBusA,20} \\leq 18.38892144\\\\\n",
       " & Pg_{WindBusA,21} \\leq 15.76270248\\\\\n",
       " & Pg_{WindBusA,22} \\leq 13.642577280000001\\\\\n",
       " & Pg_{WindBusA,23} \\leq 11.91631872\\\\\n",
       " & Pg_{WindBusA,24} \\leq 8.34835536\\\\\n",
       " & Pg_{Alta,1} + Pg_{Park City,1} + Pg_{Solitude,1} + Pg_{Sundance,1} + Pg_{Brighton,1} + Pg_{SolarBusC,1} + Pg_{WindBusA,1} = 922.795799\\\\\n",
       " & Pg_{Alta,2} + Pg_{Park City,2} + Pg_{Solitude,2} + Pg_{Sundance,2} + Pg_{Brighton,2} + Pg_{SolarBusC,2} + Pg_{WindBusA,2} = 759.1643151\\\\\n",
       " & Pg_{Alta,3} + Pg_{Park City,3} + Pg_{Solitude,3} + Pg_{Sundance,3} + Pg_{Brighton,3} + Pg_{SolarBusC,3} + Pg_{WindBusA,3} = 734.5093047999999\\\\\n",
       " & Pg_{Alta,4} + Pg_{Park City,4} + Pg_{Solitude,4} + Pg_{Sundance,4} + Pg_{Brighton,4} + Pg_{SolarBusC,4} + Pg_{WindBusA,4} = 706.4582692000001\\\\\n",
       " & Pg_{Alta,5} + Pg_{Park City,5} + Pg_{Solitude,5} + Pg_{Sundance,5} + Pg_{Brighton,5} + Pg_{SolarBusC,5} + Pg_{WindBusA,5} = 714.4408604\\\\\n",
       " & Pg_{Alta,6} + Pg_{Park City,6} + Pg_{Solitude,6} + Pg_{Sundance,6} + Pg_{Brighton,6} + Pg_{SolarBusC,6} + Pg_{WindBusA,6} = 726.0633695\\\\\n",
       " & Pg_{Alta,7} + Pg_{Park City,7} + Pg_{Solitude,7} + Pg_{Sundance,7} + Pg_{Brighton,7} + Pg_{SolarBusC,7} + Pg_{WindBusA,7} = 759.6421525000001\\\\\n",
       " & Pg_{Alta,8} + Pg_{Park City,8} + Pg_{Solitude,8} + Pg_{Sundance,8} + Pg_{Brighton,8} + Pg_{SolarBusC,8} + Pg_{WindBusA,8} = 804.0165850999999\\\\\n",
       " & Pg_{Alta,9} + Pg_{Park City,9} + Pg_{Solitude,9} + Pg_{Sundance,9} + Pg_{Brighton,9} + Pg_{SolarBusC,9} + Pg_{WindBusA,9} = 857.1967308\\\\\n",
       " & Pg_{Alta,10} + Pg_{Park City,10} + Pg_{Solitude,10} + Pg_{Sundance,10} + Pg_{Brighton,10} + Pg_{SolarBusC,10} + Pg_{WindBusA,10} = 915.8376722999999\\\\\n",
       " & Pg_{Alta,11} + Pg_{Park City,11} + Pg_{Solitude,11} + Pg_{Sundance,11} + Pg_{Brighton,11} + Pg_{SolarBusC,11} + Pg_{WindBusA,11} = 959.8458138999999\\\\\n",
       " & Pg_{Alta,12} + Pg_{Park City,12} + Pg_{Solitude,12} + Pg_{Sundance,12} + Pg_{Brighton,12} + Pg_{SolarBusC,12} + Pg_{WindBusA,12} = 973.9960466999999\\\\\n",
       " & Pg_{Alta,13} + Pg_{Park City,13} + Pg_{Solitude,13} + Pg_{Sundance,13} + Pg_{Brighton,13} + Pg_{SolarBusC,13} + Pg_{WindBusA,13} = 977.8573365\\\\\n",
       " & Pg_{Alta,14} + Pg_{Park City,14} + Pg_{Solitude,14} + Pg_{Sundance,14} + Pg_{Brighton,14} + Pg_{SolarBusC,14} + Pg_{WindBusA,14} = 953.8466469\\\\\n",
       " & Pg_{Alta,15} + Pg_{Park City,15} + Pg_{Solitude,15} + Pg_{Sundance,15} + Pg_{Brighton,15} + Pg_{SolarBusC,15} + Pg_{WindBusA,15} = 933.6228672999999\\\\\n",
       " & Pg_{Alta,16} + Pg_{Park City,16} + Pg_{Solitude,16} + Pg_{Sundance,16} + Pg_{Brighton,16} + Pg_{SolarBusC,16} + Pg_{WindBusA,16} = 934.4207472999999\\\\\n",
       " & Pg_{Alta,17} + Pg_{Park City,17} + Pg_{Solitude,17} + Pg_{Sundance,17} + Pg_{Brighton,17} + Pg_{SolarBusC,17} + Pg_{WindBusA,17} = 980.5081166\\\\\n",
       " & Pg_{Alta,18} + Pg_{Park City,18} + Pg_{Solitude,18} + Pg_{Sundance,18} + Pg_{Brighton,18} + Pg_{SolarBusC,18} + Pg_{WindBusA,18} = 1026.6121352999999\\\\\n",
       " & Pg_{Alta,19} + Pg_{Park City,19} + Pg_{Solitude,19} + Pg_{Sundance,19} + Pg_{Brighton,19} + Pg_{SolarBusC,19} + Pg_{WindBusA,19} = 1093.0296584\\\\\n",
       " & Pg_{Alta,20} + Pg_{Park City,20} + Pg_{Solitude,20} + Pg_{Sundance,20} + Pg_{Brighton,20} + Pg_{SolarBusC,20} + Pg_{WindBusA,20} = 1084.8132515\\\\\n",
       " & Pg_{Alta,21} + Pg_{Park City,21} + Pg_{Solitude,21} + Pg_{Sundance,21} + Pg_{Brighton,21} + Pg_{SolarBusC,21} + Pg_{WindBusA,21} = 1045.1216012\\\\\n",
       " & Pg_{Alta,22} + Pg_{Park City,22} + Pg_{Solitude,22} + Pg_{Sundance,22} + Pg_{Brighton,22} + Pg_{SolarBusC,22} + Pg_{WindBusA,22} = 983.4801808\\\\\n",
       " & Pg_{Alta,23} + Pg_{Park City,23} + Pg_{Solitude,23} + Pg_{Sundance,23} + Pg_{Brighton,23} + Pg_{SolarBusC,23} + Pg_{WindBusA,23} = 933.9254397\\\\\n",
       " & Pg_{Alta,24} + Pg_{Park City,24} + Pg_{Solitude,24} + Pg_{Sundance,24} + Pg_{Brighton,24} + Pg_{SolarBusC,24} + Pg_{WindBusA,24} = 857.3165453\\\\\n",
       " & Pg_{i,t} \\geq 0 \\quad\\forall i \\in \\{Alta,Park City,\\dots,SolarBusC,WindBusA\\}, t \\in \\{1,2,\\dots,23,24\\}\\\\\n",
       "\\end{alignat*}\n",
       " $$"
      ],
      "text/plain": [
       "Minimization problem with:\n",
       " * 312 linear constraints\n",
       " * 168 variables\n",
       "Solver is Xpress"
      ]
     },
     "execution_count": 320,
     "metadata": {},
     "output_type": "execute_result"
    }
   ],
   "source": [
    "# populate an economic dispatch\n",
    "EconomicDispatch = makeED(sys,solver)"
   ]
  },
  {
   "cell_type": "markdown",
   "metadata": {
    "slideshow": {
     "slide_type": "subslide"
    }
   },
   "source": [
    "## Solve the problem and inspect results"
   ]
  },
  {
   "cell_type": "code",
   "execution_count": 335,
   "metadata": {
    "slideshow": {
     "slide_type": "fragment"
    }
   },
   "outputs": [
    {
     "data": {
      "text/plain": [
       ":Optimal"
      ]
     },
     "execution_count": 335,
     "metadata": {},
     "output_type": "execute_result"
    }
   ],
   "source": [
    "# run economic dispatch\n",
    "solve(EconomicDispatch)"
   ]
  },
  {
   "cell_type": "code",
   "execution_count": 336,
   "metadata": {
    "slideshow": {
     "slide_type": "fragment"
    }
   },
   "outputs": [
    {
     "data": {
      "text/plain": [
       "240051.94834426"
      ]
     },
     "execution_count": 336,
     "metadata": {},
     "output_type": "execute_result"
    }
   ],
   "source": [
    "# look at results\n",
    "getobjectivevalue(EconomicDispatch)"
   ]
  },
  {
   "cell_type": "code",
   "execution_count": 337,
   "metadata": {
    "slideshow": {
     "slide_type": "fragment"
    }
   },
   "outputs": [
    {
     "data": {
      "text/plain": [
       "0.0"
      ]
     },
     "execution_count": 337,
     "metadata": {},
     "output_type": "execute_result"
    }
   ],
   "source": [
    "getobjbound(EconomicDispatch)"
   ]
  },
  {
   "cell_type": "markdown",
   "metadata": {
    "slideshow": {
     "slide_type": "subslide"
    }
   },
   "source": [
    "## Results are contained in the model"
   ]
  },
  {
   "cell_type": "code",
   "execution_count": 338,
   "metadata": {
    "slideshow": {
     "slide_type": "fragment"
    }
   },
   "outputs": [
    {
     "data": {
      "text/plain": [
       "Dict{Symbol,Any} with 2 entries:\n",
       "  :Pg   => Pg[i,t] ≥ 0 ∀ i ∈ {Alta,Park City,…,SolarBusC,WindBusA}, t ∈ {1,2,…,…\n",
       "  :Pbal => JuMP.ConstraintRef[Pg[Alta,1] + Pg[Park City,1] + Pg[Solitude,1] + P…"
      ]
     },
     "execution_count": 338,
     "metadata": {},
     "output_type": "execute_result"
    }
   ],
   "source": [
    "EconomicDispatch.objDict"
   ]
  },
  {
   "cell_type": "code",
   "execution_count": 339,
   "metadata": {
    "slideshow": {
     "slide_type": "fragment"
    }
   },
   "outputs": [
    {
     "data": {
      "text/plain": [
       "Pg: 2 dimensions:\n",
       "[     Alta,:]\n",
       "  [     Alta, 1] = 40.0\n",
       "  [     Alta, 2] = 40.0\n",
       "  [     Alta, 3] = 14.790807519999888\n",
       "  [     Alta, 4] = 0.0\n",
       "  [     Alta, 5] = 0.0\n",
       "  [     Alta, 6] = 6.603711620000027\n",
       "  [     Alta, 7] = 40.0\n",
       "  [     Alta, 8] = 40.0\n",
       "  [     Alta, 9] = 40.0\n",
       "  [     Alta,10] = 40.0\n",
       "  [     Alta,11] = 40.0\n",
       "  [     Alta,12] = 40.0\n",
       "  [     Alta,13] = 40.0\n",
       "  [     Alta,14] = 40.0\n",
       "  [     Alta,15] = 40.0\n",
       "  [     Alta,16] = 40.0\n",
       "  [     Alta,17] = 40.0\n",
       "  [     Alta,18] = 40.0\n",
       "  [     Alta,19] = 40.0\n",
       "  [     Alta,20] = 40.0\n",
       "  [     Alta,21] = 40.0\n",
       "  [     Alta,22] = 40.0\n",
       "  [     Alta,23] = 40.0\n",
       "  [     Alta,24] = 40.0\n",
       "[Park City,:]\n",
       "  [Park City, 1] = 164.57114955999998\n",
       "  [Park City, 2] = 0.14935081999995248\n",
       "  [Park City, 3] = 0.0\n",
       "  [Park City, 4] = 0.0\n",
       "  [Park City, 5] = 0.0\n",
       "  [Park City, 6] = 0.0\n",
       "  [Park City, 7] = 0.5524044600000764\n",
       "  [Park City, 8] = 46.11368349999994\n",
       "  [Park City, 9] = 102.33231955999995\n",
       "  [Park City,10] = 143.4532219399999\n",
       "  [Park City,11] = 170.0\n",
       "  [Park City,12] = 167.62618213999986\n",
       "  [Park City,13] = 170.0\n",
       "  [Park City,14] = 165.1747484\n",
       "  [Park City,15] = 170.0\n",
       "  [Park City,16] = 170.0\n",
       "  [Park City,17] = 170.0\n",
       "  [Park City,18] = 170.0\n",
       "  [Park City,19] = 170.0\n",
       "  [Park City,20] = 170.0\n",
       "  [Park City,21] = 170.0\n",
       "  [Park City,22] = 170.0\n",
       "  [Park City,23] = 170.0\n",
       "  [Park City,24] = 170.0\n",
       "[ Solitude,:]\n",
       "  [ Solitude, 1] = 0.0\n",
       "  [ Solitude, 2] = 0.0\n",
       "  [ Solitude, 3] = 0.0\n",
       "  [ Solitude, 4] = 0.0\n",
       "  [ Solitude, 5] = 0.0\n",
       "  [ Solitude, 6] = 0.0\n",
       "  [ Solitude, 7] = 0.0\n",
       "  [ Solitude, 8] = 0.0\n",
       "  [ Solitude, 9] = 0.0\n",
       "  [ Solitude,10] = 0.0\n",
       "  [ Solitude,11] = 3.0317992599999286\n",
       "  [ Solitude,12] = 0.0\n",
       "  [ Solitude,13] = 6.07493033999998\n",
       "  [ Solitude,14] = 0.0\n",
       "  [ Solitude,15] = 21.335689539999933\n",
       "  [ Solitude,16] = 39.3897258999999\n",
       "  [ Solitude,17] = 113.66880637999999\n",
       "  [ Solitude,18] = 180.34719257999984\n",
       "  [ Solitude,19] = 259.29485792\n",
       "  [ Solitude,20] = 256.42433006\n",
       "  [ Solitude,21] = 219.35889872\n",
       "  [ Solitude,22] = 159.83760352000002\n",
       "  [ Solitude,23] = 112.00912097999998\n",
       "  [ Solitude,24] = 38.96818994000003\n",
       "[ Sundance,:]\n",
       "  [ Sundance, 1] = 0.0\n",
       "  [ Sundance, 2] = 0.0\n",
       "  [ Sundance, 3] = 0.0\n",
       "  [ Sundance, 4] = 0.0\n",
       "  [ Sundance, 5] = 0.0\n",
       "  [ Sundance, 6] = 0.0\n",
       "  [ Sundance, 7] = 0.0\n",
       "  [ Sundance, 8] = 0.0\n",
       "  [ Sundance, 9] = 0.0\n",
       "  [ Sundance,10] = 0.0\n",
       "  [ Sundance,11] = 0.0\n",
       "  [ Sundance,12] = 0.0\n",
       "  [ Sundance,13] = 0.0\n",
       "  [ Sundance,14] = 0.0\n",
       "  [ Sundance,15] = 0.0\n",
       "  [ Sundance,16] = 0.0\n",
       "  [ Sundance,17] = 0.0\n",
       "  [ Sundance,18] = 0.0\n",
       "  [ Sundance,19] = 0.0\n",
       "  [ Sundance,20] = 0.0\n",
       "  [ Sundance,21] = 0.0\n",
       "  [ Sundance,22] = 0.0\n",
       "  [ Sundance,23] = 0.0\n",
       "  [ Sundance,24] = 0.0\n",
       "[ Brighton,:]\n",
       "  [ Brighton, 1] = 600.0\n",
       "  [ Brighton, 2] = 600.0\n",
       "  [ Brighton, 3] = 600.0\n",
       "  [ Brighton, 4] = 586.4582692000001\n",
       "  [ Brighton, 5] = 594.60121244\n",
       "  [ Brighton, 6] = 600.0\n",
       "  [ Brighton, 7] = 600.0\n",
       "  [ Brighton, 8] = 600.0\n",
       "  [ Brighton, 9] = 600.0\n",
       "  [ Brighton,10] = 600.0\n",
       "  [ Brighton,11] = 600.0\n",
       "  [ Brighton,12] = 600.0\n",
       "  [ Brighton,13] = 600.0\n",
       "  [ Brighton,14] = 600.0\n",
       "  [ Brighton,15] = 600.0\n",
       "  [ Brighton,16] = 600.0\n",
       "  [ Brighton,17] = 600.0\n",
       "  [ Brighton,18] = 600.0\n",
       "  [ Brighton,19] = 600.0\n",
       "  [ Brighton,20] = 600.0\n",
       "  [ Brighton,21] = 600.0\n",
       "  [ Brighton,22] = 600.0\n",
       "  [ Brighton,23] = 600.0\n",
       "  [ Brighton,24] = 600.0\n",
       "[SolarBusC,:]\n",
       "  [SolarBusC, 1] = 0.0\n",
       "  [SolarBusC, 2] = 0.0\n",
       "  [SolarBusC, 3] = 0.0\n",
       "  [SolarBusC, 4] = 0.0\n",
       "  [SolarBusC, 5] = 0.0\n",
       "  [SolarBusC, 6] = 0.0\n",
       "  [SolarBusC, 7] = 0.0\n",
       "  [SolarBusC, 8] = 0.0\n",
       "  [SolarBusC, 9] = 0.0\n",
       "  [SolarBusC,10] = 21.066341039999998\n",
       "  [SolarBusC,11] = 37.95217596\n",
       "  [SolarBusC,12] = 59.678354999999996\n",
       "  [SolarBusC,13] = 60.0\n",
       "  [SolarBusC,14] = 56.65423698\n",
       "  [SolarBusC,15] = 23.80087404\n",
       "  [SolarBusC,16] = 21.99068568\n",
       "  [SolarBusC,17] = 9.307549739999999\n",
       "  [SolarBusC,18] = 2.45236164\n",
       "  [SolarBusC,19] = 0.0\n",
       "  [SolarBusC,20] = 0.0\n",
       "  [SolarBusC,21] = 0.0\n",
       "  [SolarBusC,22] = 0.0\n",
       "  [SolarBusC,23] = 0.0\n",
       "  [SolarBusC,24] = 0.0\n",
       "[ WindBusA,:]\n",
       "  [ WindBusA, 1] = 118.22464944000001\n",
       "  [ WindBusA, 2] = 119.01496428\n",
       "  [ WindBusA, 3] = 119.71849728\n",
       "  [ WindBusA, 4] = 120.0\n",
       "  [ WindBusA, 5] = 119.83964796\n",
       "  [ WindBusA, 6] = 119.45965788\n",
       "  [ WindBusA, 7] = 119.08974803999999\n",
       "  [ WindBusA, 8] = 117.90290159999999\n",
       "  [ WindBusA, 9] = 114.86441124000001\n",
       "  [ WindBusA,10] = 111.31810931999999\n",
       "  [ WindBusA,11] = 108.86183868\n",
       "  [ WindBusA,12] = 106.69150956\n",
       "  [ WindBusA,13] = 101.78240616\n",
       "  [ WindBusA,14] = 92.01766152\n",
       "  [ WindBusA,15] = 78.48630372000001\n",
       "  [ WindBusA,16] = 63.04033572\n",
       "  [ WindBusA,17] = 47.53176048\n",
       "  [ WindBusA,18] = 33.812581079999994\n",
       "  [ WindBusA,19] = 23.73480048\n",
       "  [ WindBusA,20] = 18.38892144\n",
       "  [ WindBusA,21] = 15.76270248\n",
       "  [ WindBusA,22] = 13.642577280000001\n",
       "  [ WindBusA,23] = 11.91631872\n",
       "  [ WindBusA,24] = 8.34835536"
      ]
     },
     "execution_count": 339,
     "metadata": {},
     "output_type": "execute_result"
    }
   ],
   "source": [
    "getvalue(EconomicDispatch.objDict[:Pg])"
   ]
  },
  {
   "cell_type": "markdown",
   "metadata": {
    "slideshow": {
     "slide_type": "subslide"
    }
   },
   "source": [
    "## Create a function to extract results into a useful structure"
   ]
  },
  {
   "cell_type": "code",
   "execution_count": 326,
   "metadata": {
    "slideshow": {
     "slide_type": "fragment"
    }
   },
   "outputs": [
    {
     "data": {
      "text/plain": [
       "getEDresult (generic function with 1 method)"
      ]
     },
     "execution_count": 326,
     "metadata": {},
     "output_type": "execute_result"
    }
   ],
   "source": [
    "# A function to collect results\n",
    "function getEDresult(EconomicDispatch,sys)\n",
    "    res = getvalue(EconomicDispatch.objDict[:Pg]);\n",
    "    res = DataFrame(Dict(gen.name=>res[gen.name,:] for gen in sys.generators));\n",
    "    return(res)\n",
    "end"
   ]
  },
  {
   "cell_type": "code",
   "execution_count": 340,
   "metadata": {
    "slideshow": {
     "slide_type": "fragment"
    }
   },
   "outputs": [
    {
     "data": {
      "text/html": [
       "<table class=\"data-frame\"><thead><tr><th></th><th>Alta</th><th>Brighton</th><th>Park City</th><th>SolarBusC</th><th>Solitude</th><th>Sundance</th><th>WindBusA</th></tr></thead><tbody><tr><th>1</th><td>40.0</td><td>600.0</td><td>164.571</td><td>0.0</td><td>0.0</td><td>0.0</td><td>118.225</td></tr><tr><th>2</th><td>40.0</td><td>600.0</td><td>0.149351</td><td>0.0</td><td>0.0</td><td>0.0</td><td>119.015</td></tr><tr><th>3</th><td>14.7908</td><td>600.0</td><td>0.0</td><td>0.0</td><td>0.0</td><td>0.0</td><td>119.718</td></tr><tr><th>4</th><td>0.0</td><td>586.458</td><td>0.0</td><td>0.0</td><td>0.0</td><td>0.0</td><td>120.0</td></tr><tr><th>5</th><td>0.0</td><td>594.601</td><td>0.0</td><td>0.0</td><td>0.0</td><td>0.0</td><td>119.84</td></tr><tr><th>6</th><td>6.60371</td><td>600.0</td><td>0.0</td><td>0.0</td><td>0.0</td><td>0.0</td><td>119.46</td></tr><tr><th>7</th><td>40.0</td><td>600.0</td><td>0.552404</td><td>0.0</td><td>0.0</td><td>0.0</td><td>119.09</td></tr><tr><th>8</th><td>40.0</td><td>600.0</td><td>46.1137</td><td>0.0</td><td>0.0</td><td>0.0</td><td>117.903</td></tr><tr><th>9</th><td>40.0</td><td>600.0</td><td>102.332</td><td>0.0</td><td>0.0</td><td>0.0</td><td>114.864</td></tr><tr><th>10</th><td>40.0</td><td>600.0</td><td>143.453</td><td>21.0663</td><td>0.0</td><td>0.0</td><td>111.318</td></tr><tr><th>11</th><td>40.0</td><td>600.0</td><td>170.0</td><td>37.9522</td><td>3.0318</td><td>0.0</td><td>108.862</td></tr><tr><th>12</th><td>40.0</td><td>600.0</td><td>167.626</td><td>59.6784</td><td>0.0</td><td>0.0</td><td>106.692</td></tr><tr><th>13</th><td>40.0</td><td>600.0</td><td>170.0</td><td>60.0</td><td>6.07493</td><td>0.0</td><td>101.782</td></tr><tr><th>14</th><td>40.0</td><td>600.0</td><td>165.175</td><td>56.6542</td><td>0.0</td><td>0.0</td><td>92.0177</td></tr><tr><th>15</th><td>40.0</td><td>600.0</td><td>170.0</td><td>23.8009</td><td>21.3357</td><td>0.0</td><td>78.4863</td></tr><tr><th>16</th><td>40.0</td><td>600.0</td><td>170.0</td><td>21.9907</td><td>39.3897</td><td>0.0</td><td>63.0403</td></tr><tr><th>17</th><td>40.0</td><td>600.0</td><td>170.0</td><td>9.30755</td><td>113.669</td><td>0.0</td><td>47.5318</td></tr><tr><th>18</th><td>40.0</td><td>600.0</td><td>170.0</td><td>2.45236</td><td>180.347</td><td>0.0</td><td>33.8126</td></tr><tr><th>19</th><td>40.0</td><td>600.0</td><td>170.0</td><td>0.0</td><td>259.295</td><td>0.0</td><td>23.7348</td></tr><tr><th>20</th><td>40.0</td><td>600.0</td><td>170.0</td><td>0.0</td><td>256.424</td><td>0.0</td><td>18.3889</td></tr><tr><th>21</th><td>40.0</td><td>600.0</td><td>170.0</td><td>0.0</td><td>219.359</td><td>0.0</td><td>15.7627</td></tr><tr><th>22</th><td>40.0</td><td>600.0</td><td>170.0</td><td>0.0</td><td>159.838</td><td>0.0</td><td>13.6426</td></tr><tr><th>23</th><td>40.0</td><td>600.0</td><td>170.0</td><td>0.0</td><td>112.009</td><td>0.0</td><td>11.9163</td></tr><tr><th>24</th><td>40.0</td><td>600.0</td><td>170.0</td><td>0.0</td><td>38.9682</td><td>0.0</td><td>8.34836</td></tr></tbody></table>"
      ],
      "text/plain": [
       "24×7 DataFrames.DataFrame. Omitted printing of 1 columns\n",
       "│ Row │ Alta    │ Brighton │ Park City │ SolarBusC │ Solitude │ Sundance │\n",
       "├─────┼─────────┼──────────┼───────────┼───────────┼──────────┼──────────┤\n",
       "│ 1   │ 40.0    │ 600.0    │ 164.571   │ 0.0       │ 0.0      │ 0.0      │\n",
       "│ 2   │ 40.0    │ 600.0    │ 0.149351  │ 0.0       │ 0.0      │ 0.0      │\n",
       "│ 3   │ 14.7908 │ 600.0    │ 0.0       │ 0.0       │ 0.0      │ 0.0      │\n",
       "│ 4   │ 0.0     │ 586.458  │ 0.0       │ 0.0       │ 0.0      │ 0.0      │\n",
       "│ 5   │ 0.0     │ 594.601  │ 0.0       │ 0.0       │ 0.0      │ 0.0      │\n",
       "│ 6   │ 6.60371 │ 600.0    │ 0.0       │ 0.0       │ 0.0      │ 0.0      │\n",
       "│ 7   │ 40.0    │ 600.0    │ 0.552404  │ 0.0       │ 0.0      │ 0.0      │\n",
       "│ 8   │ 40.0    │ 600.0    │ 46.1137   │ 0.0       │ 0.0      │ 0.0      │\n",
       "│ 9   │ 40.0    │ 600.0    │ 102.332   │ 0.0       │ 0.0      │ 0.0      │\n",
       "│ 10  │ 40.0    │ 600.0    │ 143.453   │ 21.0663   │ 0.0      │ 0.0      │\n",
       "│ 11  │ 40.0    │ 600.0    │ 170.0     │ 37.9522   │ 3.0318   │ 0.0      │\n",
       "│ 12  │ 40.0    │ 600.0    │ 167.626   │ 59.6784   │ 0.0      │ 0.0      │\n",
       "│ 13  │ 40.0    │ 600.0    │ 170.0     │ 60.0      │ 6.07493  │ 0.0      │\n",
       "│ 14  │ 40.0    │ 600.0    │ 165.175   │ 56.6542   │ 0.0      │ 0.0      │\n",
       "│ 15  │ 40.0    │ 600.0    │ 170.0     │ 23.8009   │ 21.3357  │ 0.0      │\n",
       "│ 16  │ 40.0    │ 600.0    │ 170.0     │ 21.9907   │ 39.3897  │ 0.0      │\n",
       "│ 17  │ 40.0    │ 600.0    │ 170.0     │ 9.30755   │ 113.669  │ 0.0      │\n",
       "│ 18  │ 40.0    │ 600.0    │ 170.0     │ 2.45236   │ 180.347  │ 0.0      │\n",
       "│ 19  │ 40.0    │ 600.0    │ 170.0     │ 0.0       │ 259.295  │ 0.0      │\n",
       "│ 20  │ 40.0    │ 600.0    │ 170.0     │ 0.0       │ 256.424  │ 0.0      │\n",
       "│ 21  │ 40.0    │ 600.0    │ 170.0     │ 0.0       │ 219.359  │ 0.0      │\n",
       "│ 22  │ 40.0    │ 600.0    │ 170.0     │ 0.0       │ 159.838  │ 0.0      │\n",
       "│ 23  │ 40.0    │ 600.0    │ 170.0     │ 0.0       │ 112.009  │ 0.0      │\n",
       "│ 24  │ 40.0    │ 600.0    │ 170.0     │ 0.0       │ 38.9682  │ 0.0      │"
      ]
     },
     "execution_count": 340,
     "metadata": {},
     "output_type": "execute_result"
    }
   ],
   "source": [
    "getEDresult(EconomicDispatch,sys)"
   ]
  },
  {
   "cell_type": "markdown",
   "metadata": {
    "slideshow": {
     "slide_type": "subslide"
    }
   },
   "source": [
    "## Make a simple dispatch plot"
   ]
  },
  {
   "cell_type": "code",
   "execution_count": 329,
   "metadata": {
    "slideshow": {
     "slide_type": "fragment"
    }
   },
   "outputs": [
    {
     "data": {
      "application/vnd.plotly.v1+json": {
       "data": [
        {
         "name": "Alta",
         "type": "scatter",
         "x": [
          1,
          2,
          3,
          4,
          5,
          6,
          7,
          8,
          9,
          10,
          11,
          12,
          13,
          14,
          15,
          16,
          17,
          18,
          19,
          20,
          21,
          22,
          23,
          24
         ],
         "y": [
          40,
          40,
          14.79080751999993,
          0,
          0,
          6.603711620000013,
          40,
          40,
          40,
          40,
          40,
          40,
          40,
          40,
          40,
          40,
          40,
          40,
          40,
          40,
          40,
          40,
          40,
          40
         ]
        },
        {
         "name": "Brighton",
         "type": "scatter",
         "x": [
          1,
          2,
          3,
          4,
          5,
          6,
          7,
          8,
          9,
          10,
          11,
          12,
          13,
          14,
          15,
          16,
          17,
          18,
          19,
          20,
          21,
          22,
          23,
          24
         ],
         "y": [
          600,
          600,
          600,
          586.4582692000001,
          594.60121244,
          600,
          600,
          600,
          600,
          600,
          600,
          600,
          600,
          600,
          600,
          600,
          600,
          600,
          600,
          600,
          600,
          600,
          600,
          600
         ]
        },
        {
         "name": "Park City",
         "type": "scatter",
         "x": [
          1,
          2,
          3,
          4,
          5,
          6,
          7,
          8,
          9,
          10,
          11,
          12,
          13,
          14,
          15,
          16,
          17,
          18,
          19,
          20,
          21,
          22,
          23,
          24
         ],
         "y": [
          164.57114955999998,
          0.1493508199999951,
          0,
          0,
          0,
          0,
          0.552404460000048,
          46.11368349999998,
          102.33231955999997,
          143.45322193999993,
          170,
          167.62618213999986,
          170,
          165.1747484,
          170,
          170,
          170,
          170,
          170,
          170,
          170,
          170,
          170,
          170
         ]
        },
        {
         "name": "SolarBusC",
         "type": "scatter",
         "x": [
          1,
          2,
          3,
          4,
          5,
          6,
          7,
          8,
          9,
          10,
          11,
          12,
          13,
          14,
          15,
          16,
          17,
          18,
          19,
          20,
          21,
          22,
          23,
          24
         ],
         "y": [
          0,
          0,
          0,
          0,
          0,
          0,
          0,
          0,
          0,
          21.066341039999998,
          37.95217596,
          59.678354999999996,
          60,
          56.65423698,
          23.80087404,
          21.99068568,
          9.307549739999999,
          2.45236164,
          0,
          0,
          0,
          0,
          0,
          0
         ]
        },
        {
         "name": "Solitude",
         "type": "scatter",
         "x": [
          1,
          2,
          3,
          4,
          5,
          6,
          7,
          8,
          9,
          10,
          11,
          12,
          13,
          14,
          15,
          16,
          17,
          18,
          19,
          20,
          21,
          22,
          23,
          24
         ],
         "y": [
          0,
          0,
          0,
          0,
          0,
          0,
          0,
          0,
          0,
          0,
          3.031799259999957,
          0,
          6.074930340000037,
          0,
          21.335689539999976,
          39.38972589999992,
          113.66880637999998,
          180.34719257999984,
          259.29485792,
          256.42433006,
          219.35889872,
          159.83760352000002,
          112.00912097999992,
          38.96818994
         ]
        },
        {
         "name": "Sundance",
         "type": "scatter",
         "x": [
          1,
          2,
          3,
          4,
          5,
          6,
          7,
          8,
          9,
          10,
          11,
          12,
          13,
          14,
          15,
          16,
          17,
          18,
          19,
          20,
          21,
          22,
          23,
          24
         ],
         "y": [
          0,
          0,
          0,
          0,
          0,
          0,
          0,
          0,
          0,
          0,
          0,
          0,
          0,
          0,
          0,
          0,
          0,
          0,
          0,
          0,
          0,
          0,
          0,
          0
         ]
        },
        {
         "name": "WindBusA",
         "type": "scatter",
         "x": [
          1,
          2,
          3,
          4,
          5,
          6,
          7,
          8,
          9,
          10,
          11,
          12,
          13,
          14,
          15,
          16,
          17,
          18,
          19,
          20,
          21,
          22,
          23,
          24
         ],
         "y": [
          118.22464944000001,
          119.01496428,
          119.71849728,
          120,
          119.83964796,
          119.45965788,
          119.08974803999999,
          117.90290159999999,
          114.86441124000001,
          111.31810931999999,
          108.86183868,
          106.69150956,
          101.78240616,
          92.01766152,
          78.48630372000001,
          63.04033572,
          47.53176048,
          33.812581079999994,
          23.73480048,
          18.38892144,
          15.76270248,
          13.642577280000001,
          11.91631872,
          8.34835536
         ]
        }
       ],
       "layout": {
        "margin": {
         "b": 50,
         "l": 50,
         "r": 50,
         "t": 60
        },
        "title": "Generator Dispatch"
       }
      },
      "text/html": [
       "<div id=\"eb570aac-3592-47ac-910d-729c4b7a916d\" class=\"plotly-graph-div\"></div>\n",
       "\n",
       "<script>\n",
       "    (function() {\n",
       "        var data_eb570aac = [{\"y\":[40.0,40.0,14.79080751999993,0.0,0.0,6.603711620000013,40.0,40.0,40.0,40.0,40.0,40.0,40.0,40.0,40.0,40.0,40.0,40.0,40.0,40.0,40.0,40.0,40.0,40.0],\"type\":\"scatter\",\"name\":\"Alta\",\"x\":[1,2,3,4,5,6,7,8,9,10,11,12,13,14,15,16,17,18,19,20,21,22,23,24]},{\"y\":[600.0,600.0,600.0,586.4582692000001,594.60121244,600.0,600.0,600.0,600.0,600.0,600.0,600.0,600.0,600.0,600.0,600.0,600.0,600.0,600.0,600.0,600.0,600.0,600.0,600.0],\"type\":\"scatter\",\"name\":\"Brighton\",\"x\":[1,2,3,4,5,6,7,8,9,10,11,12,13,14,15,16,17,18,19,20,21,22,23,24]},{\"y\":[164.57114955999998,0.1493508199999951,0.0,0.0,0.0,0.0,0.552404460000048,46.11368349999998,102.33231955999997,143.45322193999993,170.0,167.62618213999986,170.0,165.1747484,170.0,170.0,170.0,170.0,170.0,170.0,170.0,170.0,170.0,170.0],\"type\":\"scatter\",\"name\":\"Park City\",\"x\":[1,2,3,4,5,6,7,8,9,10,11,12,13,14,15,16,17,18,19,20,21,22,23,24]},{\"y\":[0.0,0.0,0.0,0.0,0.0,0.0,0.0,0.0,0.0,21.066341039999998,37.95217596,59.678354999999996,60.0,56.65423698,23.80087404,21.99068568,9.307549739999999,2.45236164,0.0,0.0,0.0,0.0,0.0,0.0],\"type\":\"scatter\",\"name\":\"SolarBusC\",\"x\":[1,2,3,4,5,6,7,8,9,10,11,12,13,14,15,16,17,18,19,20,21,22,23,24]},{\"y\":[0.0,0.0,0.0,0.0,0.0,0.0,0.0,0.0,0.0,0.0,3.031799259999957,0.0,6.074930340000037,0.0,21.335689539999976,39.38972589999992,113.66880637999998,180.34719257999984,259.29485792,256.42433006,219.35889872,159.83760352000002,112.00912097999992,38.96818994],\"type\":\"scatter\",\"name\":\"Solitude\",\"x\":[1,2,3,4,5,6,7,8,9,10,11,12,13,14,15,16,17,18,19,20,21,22,23,24]},{\"y\":[0.0,0.0,0.0,0.0,0.0,0.0,0.0,0.0,0.0,0.0,0.0,0.0,0.0,0.0,0.0,0.0,0.0,0.0,0.0,0.0,0.0,0.0,0.0,0.0],\"type\":\"scatter\",\"name\":\"Sundance\",\"x\":[1,2,3,4,5,6,7,8,9,10,11,12,13,14,15,16,17,18,19,20,21,22,23,24]},{\"y\":[118.22464944000001,119.01496428,119.71849728,120.0,119.83964796,119.45965788,119.08974803999999,117.90290159999999,114.86441124000001,111.31810931999999,108.86183868,106.69150956,101.78240616,92.01766152,78.48630372000001,63.04033572,47.53176048,33.812581079999994,23.73480048,18.38892144,15.76270248,13.642577280000001,11.91631872,8.34835536],\"type\":\"scatter\",\"name\":\"WindBusA\",\"x\":[1,2,3,4,5,6,7,8,9,10,11,12,13,14,15,16,17,18,19,20,21,22,23,24]}];\n",
       "var layout_eb570aac = {\"margin\":{\"l\":50,\"b\":50,\"r\":50,\"t\":60},\"title\":\"Generator Dispatch\"};\n",
       "\n",
       "        if (!requirejs.specified('plotly')) {\n",
       "          requirejs.config({\n",
       "            paths: {\n",
       "              'plotly_cdn': ['https://cdn.plot.ly/plotly-latest.min']\n",
       "            },\n",
       "          });\n",
       "          require(['plotly_cdn'], function(Plotly) {\n",
       "            Plotly.newPlot('eb570aac-3592-47ac-910d-729c4b7a916d',\n",
       "    data_eb570aac, layout_eb570aac,\n",
       "    {showLink: false}\n",
       ");\n",
       "\n",
       "          });\n",
       "        } else {\n",
       "          require(['plotly'], function(Plotly) {\n",
       "            Plotly.newPlot('eb570aac-3592-47ac-910d-729c4b7a916d',\n",
       "    data_eb570aac, layout_eb570aac,\n",
       "    {showLink: false}\n",
       ");\n",
       "\n",
       "            if (window.Plotly == undefined) {\n",
       "                window.Plotly = Plotly;\n",
       "            }\n",
       "          });\n",
       "        }\n",
       "    })();\n",
       " </script>\n"
      ]
     },
     "execution_count": 329,
     "metadata": {},
     "output_type": "execute_result"
    }
   ],
   "source": [
    "p = Plot(melt(getEDresult(EconomicDispatch,sys)),x=1:size(res)[1],y=:value,group=:variable,Layout(title=\"Generator Dispatch\"))\n",
    "plot(p)"
   ]
  },
  {
   "cell_type": "markdown",
   "metadata": {
    "slideshow": {
     "slide_type": "subslide"
    }
   },
   "source": [
    "## More interesting dispatch stack"
   ]
  },
  {
   "cell_type": "code",
   "execution_count": 330,
   "metadata": {
    "slideshow": {
     "slide_type": "skip"
    }
   },
   "outputs": [],
   "source": [
    "# function to stack dispatch into area plot\n",
    "function area2(result)\n",
    "    function _stacked_area!(traces)\n",
    "        for (i, tr) in enumerate(traces[2:end])\n",
    "            for j in 1:min(length(traces[i][\"y\"]), length(tr[\"y\"]))\n",
    "                tr[\"y\"][j] += traces[i][\"y\"][j]\n",
    "            end\n",
    "        end\n",
    "        return(traces)\n",
    "    end\n",
    "    names = result.colindex.names\n",
    "    colors = distinguishable_colors(length(names))\n",
    "    traces = PlotlyBase.GenericTrace{Dict{Symbol,Any}}[]\n",
    "    for i in 1:length(names)\n",
    "        push!(traces,scatter(;name=names[i],x=1:sys.timesteps,y=result[names[i]],fill=\"tonexty\", fillcolor = colors[i],mode=\"none\"))\n",
    "    end\n",
    " \n",
    "    traces = _stacked_area!(traces)\n",
    "    plot(traces, Layout(title=\"Dispatch Stack\"))\n",
    "    #return(traces)\n",
    "end ;"
   ]
  },
  {
   "cell_type": "code",
   "execution_count": 331,
   "metadata": {
    "slideshow": {
     "slide_type": "fragment"
    }
   },
   "outputs": [
    {
     "data": {
      "application/vnd.plotly.v1+json": {
       "data": [
        {
         "fill": "tonexty",
         "fillcolor": "#000000",
         "mode": "none",
         "name": "Alta",
         "type": "scatter",
         "x": [
          1,
          2,
          3,
          4,
          5,
          6,
          7,
          8,
          9,
          10,
          11,
          12,
          13,
          14,
          15,
          16,
          17,
          18,
          19,
          20,
          21,
          22,
          23,
          24
         ],
         "y": [
          40,
          40,
          14.79080751999993,
          0,
          0,
          6.603711620000013,
          40,
          40,
          40,
          40,
          40,
          40,
          40,
          40,
          40,
          40,
          40,
          40,
          40,
          40,
          40,
          40,
          40,
          40
         ]
        },
        {
         "fill": "tonexty",
         "fillcolor": "#FFFF62",
         "mode": "none",
         "name": "Brighton",
         "type": "scatter",
         "x": [
          1,
          2,
          3,
          4,
          5,
          6,
          7,
          8,
          9,
          10,
          11,
          12,
          13,
          14,
          15,
          16,
          17,
          18,
          19,
          20,
          21,
          22,
          23,
          24
         ],
         "y": [
          640,
          640,
          614.7908075199999,
          586.4582692000001,
          594.60121244,
          606.60371162,
          640,
          640,
          640,
          640,
          640,
          640,
          640,
          640,
          640,
          640,
          640,
          640,
          640,
          640,
          640,
          640,
          640,
          640
         ]
        },
        {
         "fill": "tonexty",
         "fillcolor": "#FF9FFF",
         "mode": "none",
         "name": "Park City",
         "type": "scatter",
         "x": [
          1,
          2,
          3,
          4,
          5,
          6,
          7,
          8,
          9,
          10,
          11,
          12,
          13,
          14,
          15,
          16,
          17,
          18,
          19,
          20,
          21,
          22,
          23,
          24
         ],
         "y": [
          804.57114956,
          640.14935082,
          614.7908075199999,
          586.4582692000001,
          594.60121244,
          606.60371162,
          640.55240446,
          686.1136835,
          742.33231956,
          783.4532219399999,
          810,
          807.6261821399999,
          810,
          805.1747484,
          810,
          810,
          810,
          810,
          810,
          810,
          810,
          810,
          810,
          810
         ]
        },
        {
         "fill": "tonexty",
         "fillcolor": "#00D6FF",
         "mode": "none",
         "name": "SolarBusC",
         "type": "scatter",
         "x": [
          1,
          2,
          3,
          4,
          5,
          6,
          7,
          8,
          9,
          10,
          11,
          12,
          13,
          14,
          15,
          16,
          17,
          18,
          19,
          20,
          21,
          22,
          23,
          24
         ],
         "y": [
          804.57114956,
          640.14935082,
          614.7908075199999,
          586.4582692000001,
          594.60121244,
          606.60371162,
          640.55240446,
          686.1136835,
          742.33231956,
          804.5195629799999,
          847.95217596,
          867.3045371399999,
          870,
          861.82898538,
          833.80087404,
          831.99068568,
          819.30754974,
          812.45236164,
          810,
          810,
          810,
          810,
          810,
          810
         ]
        },
        {
         "fill": "tonexty",
         "fillcolor": "#D74400",
         "mode": "none",
         "name": "Solitude",
         "type": "scatter",
         "x": [
          1,
          2,
          3,
          4,
          5,
          6,
          7,
          8,
          9,
          10,
          11,
          12,
          13,
          14,
          15,
          16,
          17,
          18,
          19,
          20,
          21,
          22,
          23,
          24
         ],
         "y": [
          804.57114956,
          640.14935082,
          614.7908075199999,
          586.4582692000001,
          594.60121244,
          606.60371162,
          640.55240446,
          686.1136835,
          742.33231956,
          804.5195629799999,
          850.9839752199999,
          867.3045371399999,
          876.07493034,
          861.82898538,
          855.13656358,
          871.3804115799999,
          932.97635612,
          992.7995542199999,
          1069.2948579200001,
          1066.42433006,
          1029.35889872,
          969.83760352,
          922.0091209799999,
          848.96818994
         ]
        },
        {
         "fill": "tonexty",
         "fillcolor": "#008029",
         "mode": "none",
         "name": "Sundance",
         "type": "scatter",
         "x": [
          1,
          2,
          3,
          4,
          5,
          6,
          7,
          8,
          9,
          10,
          11,
          12,
          13,
          14,
          15,
          16,
          17,
          18,
          19,
          20,
          21,
          22,
          23,
          24
         ],
         "y": [
          804.57114956,
          640.14935082,
          614.7908075199999,
          586.4582692000001,
          594.60121244,
          606.60371162,
          640.55240446,
          686.1136835,
          742.33231956,
          804.5195629799999,
          850.9839752199999,
          867.3045371399999,
          876.07493034,
          861.82898538,
          855.13656358,
          871.3804115799999,
          932.97635612,
          992.7995542199999,
          1069.2948579200001,
          1066.42433006,
          1029.35889872,
          969.83760352,
          922.0091209799999,
          848.96818994
         ]
        },
        {
         "fill": "tonexty",
         "fillcolor": "#005FD5",
         "mode": "none",
         "name": "WindBusA",
         "type": "scatter",
         "x": [
          1,
          2,
          3,
          4,
          5,
          6,
          7,
          8,
          9,
          10,
          11,
          12,
          13,
          14,
          15,
          16,
          17,
          18,
          19,
          20,
          21,
          22,
          23,
          24
         ],
         "y": [
          922.795799,
          759.1643151,
          734.5093047999999,
          706.4582692000001,
          714.4408604,
          726.0633695,
          759.6421525000001,
          804.0165850999999,
          857.1967308,
          915.8376722999999,
          959.8458138999999,
          973.9960466999999,
          977.8573365,
          953.8466469,
          933.6228673,
          934.4207472999999,
          980.5081166,
          1026.6121352999999,
          1093.0296584000002,
          1084.8132515000002,
          1045.1216012,
          983.4801808,
          933.9254397,
          857.3165453
         ]
        }
       ],
       "layout": {
        "margin": {
         "b": 50,
         "l": 50,
         "r": 50,
         "t": 60
        },
        "title": "Dispatch Stack"
       }
      },
      "text/html": [
       "<div id=\"0e56105f-6d34-4068-a3d8-42f12771d7cd\" class=\"plotly-graph-div\"></div>\n",
       "\n",
       "<script>\n",
       "    (function() {\n",
       "        var data_0e56105f = [{\"mode\":\"none\",\"fillcolor\":\"#000000\",\"y\":[40.0,40.0,14.79080751999993,0.0,0.0,6.603711620000013,40.0,40.0,40.0,40.0,40.0,40.0,40.0,40.0,40.0,40.0,40.0,40.0,40.0,40.0,40.0,40.0,40.0,40.0],\"type\":\"scatter\",\"name\":\"Alta\",\"fill\":\"tonexty\",\"x\":[1,2,3,4,5,6,7,8,9,10,11,12,13,14,15,16,17,18,19,20,21,22,23,24]},{\"mode\":\"none\",\"fillcolor\":\"#FFFF62\",\"y\":[640.0,640.0,614.7908075199999,586.4582692000001,594.60121244,606.60371162,640.0,640.0,640.0,640.0,640.0,640.0,640.0,640.0,640.0,640.0,640.0,640.0,640.0,640.0,640.0,640.0,640.0,640.0],\"type\":\"scatter\",\"name\":\"Brighton\",\"fill\":\"tonexty\",\"x\":[1,2,3,4,5,6,7,8,9,10,11,12,13,14,15,16,17,18,19,20,21,22,23,24]},{\"mode\":\"none\",\"fillcolor\":\"#FF9FFF\",\"y\":[804.57114956,640.14935082,614.7908075199999,586.4582692000001,594.60121244,606.60371162,640.55240446,686.1136835,742.33231956,783.4532219399999,810.0,807.6261821399999,810.0,805.1747484,810.0,810.0,810.0,810.0,810.0,810.0,810.0,810.0,810.0,810.0],\"type\":\"scatter\",\"name\":\"Park City\",\"fill\":\"tonexty\",\"x\":[1,2,3,4,5,6,7,8,9,10,11,12,13,14,15,16,17,18,19,20,21,22,23,24]},{\"mode\":\"none\",\"fillcolor\":\"#00D6FF\",\"y\":[804.57114956,640.14935082,614.7908075199999,586.4582692000001,594.60121244,606.60371162,640.55240446,686.1136835,742.33231956,804.5195629799999,847.95217596,867.3045371399999,870.0,861.82898538,833.80087404,831.99068568,819.30754974,812.45236164,810.0,810.0,810.0,810.0,810.0,810.0],\"type\":\"scatter\",\"name\":\"SolarBusC\",\"fill\":\"tonexty\",\"x\":[1,2,3,4,5,6,7,8,9,10,11,12,13,14,15,16,17,18,19,20,21,22,23,24]},{\"mode\":\"none\",\"fillcolor\":\"#D74400\",\"y\":[804.57114956,640.14935082,614.7908075199999,586.4582692000001,594.60121244,606.60371162,640.55240446,686.1136835,742.33231956,804.5195629799999,850.9839752199999,867.3045371399999,876.07493034,861.82898538,855.13656358,871.3804115799999,932.97635612,992.7995542199999,1069.2948579200001,1066.42433006,1029.35889872,969.83760352,922.0091209799999,848.96818994],\"type\":\"scatter\",\"name\":\"Solitude\",\"fill\":\"tonexty\",\"x\":[1,2,3,4,5,6,7,8,9,10,11,12,13,14,15,16,17,18,19,20,21,22,23,24]},{\"mode\":\"none\",\"fillcolor\":\"#008029\",\"y\":[804.57114956,640.14935082,614.7908075199999,586.4582692000001,594.60121244,606.60371162,640.55240446,686.1136835,742.33231956,804.5195629799999,850.9839752199999,867.3045371399999,876.07493034,861.82898538,855.13656358,871.3804115799999,932.97635612,992.7995542199999,1069.2948579200001,1066.42433006,1029.35889872,969.83760352,922.0091209799999,848.96818994],\"type\":\"scatter\",\"name\":\"Sundance\",\"fill\":\"tonexty\",\"x\":[1,2,3,4,5,6,7,8,9,10,11,12,13,14,15,16,17,18,19,20,21,22,23,24]},{\"mode\":\"none\",\"fillcolor\":\"#005FD5\",\"y\":[922.795799,759.1643151,734.5093047999999,706.4582692000001,714.4408604,726.0633695,759.6421525000001,804.0165850999999,857.1967308,915.8376722999999,959.8458138999999,973.9960466999999,977.8573365,953.8466469,933.6228673,934.4207472999999,980.5081166,1026.6121352999999,1093.0296584000002,1084.8132515000002,1045.1216012,983.4801808,933.9254397,857.3165453],\"type\":\"scatter\",\"name\":\"WindBusA\",\"fill\":\"tonexty\",\"x\":[1,2,3,4,5,6,7,8,9,10,11,12,13,14,15,16,17,18,19,20,21,22,23,24]}];\n",
       "var layout_0e56105f = {\"margin\":{\"l\":50,\"b\":50,\"r\":50,\"t\":60},\"title\":\"Dispatch Stack\"};\n",
       "\n",
       "        if (!requirejs.specified('plotly')) {\n",
       "          requirejs.config({\n",
       "            paths: {\n",
       "              'plotly_cdn': ['https://cdn.plot.ly/plotly-latest.min']\n",
       "            },\n",
       "          });\n",
       "          require(['plotly_cdn'], function(Plotly) {\n",
       "            Plotly.newPlot('0e56105f-6d34-4068-a3d8-42f12771d7cd',\n",
       "    data_0e56105f, layout_0e56105f,\n",
       "    {showLink: false}\n",
       ");\n",
       "\n",
       "          });\n",
       "        } else {\n",
       "          require(['plotly'], function(Plotly) {\n",
       "            Plotly.newPlot('0e56105f-6d34-4068-a3d8-42f12771d7cd',\n",
       "    data_0e56105f, layout_0e56105f,\n",
       "    {showLink: false}\n",
       ");\n",
       "\n",
       "            if (window.Plotly == undefined) {\n",
       "                window.Plotly = Plotly;\n",
       "            }\n",
       "          });\n",
       "        }\n",
       "    })();\n",
       " </script>\n"
      ]
     },
     "execution_count": 331,
     "metadata": {},
     "output_type": "execute_result"
    }
   ],
   "source": [
    "area2(getEDresult(EconomicDispatch,sys))"
   ]
  }
 ],
 "metadata": {
  "anaconda-cloud": {},
  "celltoolbar": "Slideshow",
  "kernelspec": {
   "display_name": "Julia 0.6.2",
   "language": "julia",
   "name": "julia-0.6"
  },
  "language_info": {
   "file_extension": ".jl",
   "mimetype": "application/julia",
   "name": "julia",
   "version": "0.6.2"
  },
  "nbpresent": {
   "slides": {
    "0184d025-1384-429a-b70a-f94f2ac478fe": {
     "id": "0184d025-1384-429a-b70a-f94f2ac478fe",
     "prev": "e7e7616d-3bb9-456e-8c0b-a5006039947a",
     "regions": {
      "63d94883-b8e7-438e-ae89-829cb4e36edc": {
       "attrs": {
        "height": 0.8,
        "width": 0.8,
        "x": 0.1,
        "y": 0.1
       },
       "content": {
        "cell": "a22698ad-0329-4c4b-ac68-bfb9d4ff5463",
        "part": "whole"
       },
       "id": "63d94883-b8e7-438e-ae89-829cb4e36edc"
      }
     }
    },
    "01a44cee-0218-4c32-9f64-4d0eac20596c": {
     "id": "01a44cee-0218-4c32-9f64-4d0eac20596c",
     "prev": "358b686c-6946-48a9-a7f5-de76c7b19c82",
     "regions": {
      "4d2af356-a78f-47f3-8785-ce060f69eab6": {
       "attrs": {
        "height": 0.8,
        "width": 0.8,
        "x": 0.1,
        "y": 0.1
       },
       "content": {
        "cell": "23dbb4d3-d34c-4c21-8866-8f4c074660af",
        "part": "whole"
       },
       "id": "4d2af356-a78f-47f3-8785-ce060f69eab6"
      }
     }
    },
    "0457aed7-3521-4f56-8aec-c528cfcfccda": {
     "id": "0457aed7-3521-4f56-8aec-c528cfcfccda",
     "prev": "58c3233f-0675-48b4-822d-4a2346bb9660",
     "regions": {
      "69f6e41c-89bc-4a71-9473-8add9264f537": {
       "attrs": {
        "height": 0.8,
        "width": 0.8,
        "x": 0.1,
        "y": 0.1
       },
       "content": {
        "cell": "ea344890-ba84-468c-895e-d0fd28b9890f",
        "part": "whole"
       },
       "id": "69f6e41c-89bc-4a71-9473-8add9264f537"
      }
     }
    },
    "05fb7217-6725-4889-ba62-d61de0b451d0": {
     "id": "05fb7217-6725-4889-ba62-d61de0b451d0",
     "prev": "7e8a5807-982b-4477-8df3-f980d9833b71",
     "regions": {
      "80f0a7dc-3a25-4593-955e-af1c6d96a743": {
       "attrs": {
        "height": 0.8,
        "width": 0.8,
        "x": 0.1,
        "y": 0.1
       },
       "content": {
        "cell": "95506e80-0405-45e5-b52b-f59ab5f76e2d",
        "part": "whole"
       },
       "id": "80f0a7dc-3a25-4593-955e-af1c6d96a743"
      }
     }
    },
    "0c918af2-ca55-4039-8ca6-acf4b2d74bc3": {
     "id": "0c918af2-ca55-4039-8ca6-acf4b2d74bc3",
     "prev": "b3455ab9-b5da-4b4f-be59-829158a1e7f8",
     "regions": {
      "75f30432-d612-4155-9661-368d43203a5c": {
       "attrs": {
        "height": 0.8,
        "width": 0.8,
        "x": 0.1,
        "y": 0.1
       },
       "content": {
        "cell": "d6ae95d7-0195-4efb-b01f-e69cadfe0c81",
        "part": "whole"
       },
       "id": "75f30432-d612-4155-9661-368d43203a5c"
      }
     }
    },
    "0daa11e0-e1e6-4ee5-a39f-820fc8952389": {
     "id": "0daa11e0-e1e6-4ee5-a39f-820fc8952389",
     "prev": "265b040e-21c5-4f6a-881e-efb51a6b2178",
     "regions": {
      "cde89b25-cb56-444c-846d-841dfbfea555": {
       "attrs": {
        "height": 0.8,
        "width": 0.8,
        "x": 0.1,
        "y": 0.1
       },
       "content": {
        "cell": "e69886f9-0e0b-4433-adfd-1cb0e0320ef3",
        "part": "whole"
       },
       "id": "cde89b25-cb56-444c-846d-841dfbfea555"
      }
     }
    },
    "10165560-9b66-4e8f-87f4-912f1473e9b9": {
     "id": "10165560-9b66-4e8f-87f4-912f1473e9b9",
     "prev": "9967c9ff-c114-4cb3-b5af-58ff6026caae",
     "regions": {
      "beff4832-16c6-417f-8674-2d610ade5032": {
       "attrs": {
        "height": 0.8,
        "width": 0.8,
        "x": 0.1,
        "y": 0.1
       },
       "content": {
        "cell": "f3624f25-7bd2-40d1-a92f-d130ccc467a6",
        "part": "whole"
       },
       "id": "beff4832-16c6-417f-8674-2d610ade5032"
      }
     }
    },
    "14a51173-dd44-485d-b7bd-58ec0f74a7a4": {
     "id": "14a51173-dd44-485d-b7bd-58ec0f74a7a4",
     "prev": "4f2df6b3-3c1f-4aae-8fbc-80cad14e3717",
     "regions": {
      "9799dd3c-48d0-45a2-94d7-dd261b1415c6": {
       "attrs": {
        "height": 0.8,
        "width": 0.8,
        "x": 0.1,
        "y": 0.1
       },
       "content": {
        "cell": "2675f938-1808-4b88-a7ca-ceca77a6386c",
        "part": "whole"
       },
       "id": "9799dd3c-48d0-45a2-94d7-dd261b1415c6"
      }
     }
    },
    "1574be27-9819-4786-8c8d-fcf6d6ed0c71": {
     "id": "1574be27-9819-4786-8c8d-fcf6d6ed0c71",
     "prev": "7c7cd354-ac3a-4528-9a55-cc635273b4c4",
     "regions": {
      "e7210187-6a90-42b7-974a-e7bb5bf62cf1": {
       "attrs": {
        "height": 0.8,
        "width": 0.8,
        "x": 0.1,
        "y": 0.1
       },
       "content": {
        "cell": "7420fa3e-b20b-436d-863b-5281501f3d6f",
        "part": "whole"
       },
       "id": "e7210187-6a90-42b7-974a-e7bb5bf62cf1"
      }
     }
    },
    "17073b36-3de3-4db8-94ad-8d5d898e55ec": {
     "id": "17073b36-3de3-4db8-94ad-8d5d898e55ec",
     "prev": "8a20ed3e-9f99-4978-912f-0704fc52baa9",
     "regions": {
      "82ff934c-686c-46eb-abbb-6992a47d0b7e": {
       "attrs": {
        "height": 0.8,
        "width": 0.8,
        "x": 0.1,
        "y": 0.1
       },
       "content": {
        "cell": "a49c5342-dbf3-49c2-854a-dd2a0d7e3a90",
        "part": "whole"
       },
       "id": "82ff934c-686c-46eb-abbb-6992a47d0b7e"
      }
     }
    },
    "265b040e-21c5-4f6a-881e-efb51a6b2178": {
     "id": "265b040e-21c5-4f6a-881e-efb51a6b2178",
     "prev": "ae2691d9-55ce-48c4-8bf1-f1dcf0b27bce",
     "regions": {
      "6e6103ee-d829-4310-99e2-74653280e73c": {
       "attrs": {
        "height": 0.8,
        "width": 0.8,
        "x": 0.1,
        "y": 0.1
       },
       "content": {
        "cell": "7bf286cb-7002-4baf-b492-3595aaadf083",
        "part": "whole"
       },
       "id": "6e6103ee-d829-4310-99e2-74653280e73c"
      }
     }
    },
    "26c61762-1703-4205-95d9-ae2de65cfb67": {
     "id": "26c61762-1703-4205-95d9-ae2de65cfb67",
     "prev": "fc29dd40-65f6-4a73-a856-5b22857e897a",
     "regions": {
      "77039d95-a62d-422a-a738-dcd1761dd03c": {
       "attrs": {
        "height": 0.8,
        "width": 0.8,
        "x": 0.1,
        "y": 0.1
       },
       "content": {
        "cell": "2a54d9b6-4757-482b-9e00-e31c056cf849",
        "part": "whole"
       },
       "id": "77039d95-a62d-422a-a738-dcd1761dd03c"
      }
     }
    },
    "2a9b76cf-4bcb-4c1d-95c5-98b5bba7c06a": {
     "id": "2a9b76cf-4bcb-4c1d-95c5-98b5bba7c06a",
     "prev": "10165560-9b66-4e8f-87f4-912f1473e9b9",
     "regions": {
      "8ef14517-652c-4d13-a64d-e8c055cdf48d": {
       "attrs": {
        "height": 0.8,
        "width": 0.8,
        "x": 0.1,
        "y": 0.1
       },
       "content": {
        "cell": "8e25320e-b326-4106-8ae2-8bc173fa630d",
        "part": "whole"
       },
       "id": "8ef14517-652c-4d13-a64d-e8c055cdf48d"
      }
     }
    },
    "34aa4cec-d0cd-4e70-8239-73309960857c": {
     "id": "34aa4cec-d0cd-4e70-8239-73309960857c",
     "prev": "0457aed7-3521-4f56-8aec-c528cfcfccda",
     "regions": {
      "b7e19bc0-a504-4297-9f4a-fa79a4f5201c": {
       "attrs": {
        "height": 0.8,
        "width": 0.8,
        "x": 0.1,
        "y": 0.1
       },
       "content": {
        "cell": "0f995e49-f9dc-4211-ae91-71fee000cb27",
        "part": "whole"
       },
       "id": "b7e19bc0-a504-4297-9f4a-fa79a4f5201c"
      }
     }
    },
    "358b686c-6946-48a9-a7f5-de76c7b19c82": {
     "id": "358b686c-6946-48a9-a7f5-de76c7b19c82",
     "prev": "0daa11e0-e1e6-4ee5-a39f-820fc8952389",
     "regions": {
      "3208f9bd-da59-4bb0-a7b8-69e01eb2f0e9": {
       "attrs": {
        "height": 0.8,
        "width": 0.8,
        "x": 0.1,
        "y": 0.1
       },
       "content": {
        "cell": "78c84a84-a7cd-4e73-b0fb-932b6daa541b",
        "part": "whole"
       },
       "id": "3208f9bd-da59-4bb0-a7b8-69e01eb2f0e9"
      }
     }
    },
    "3863485a-e818-4f02-9ddf-b3d307fdffeb": {
     "id": "3863485a-e818-4f02-9ddf-b3d307fdffeb",
     "prev": "b968b8d1-e2f1-45ab-a783-ea1c6bd1de87",
     "regions": {
      "eab1ee44-32c6-4ad2-a5cc-b465557b850d": {
       "attrs": {
        "height": 0.8,
        "width": 0.8,
        "x": 0.1,
        "y": 0.1
       },
       "content": {
        "cell": "53a7d044-11ec-493f-a774-55e31a821181",
        "part": "whole"
       },
       "id": "eab1ee44-32c6-4ad2-a5cc-b465557b850d"
      }
     }
    },
    "39e415bc-dc48-4e61-8f5c-e94413afbb05": {
     "id": "39e415bc-dc48-4e61-8f5c-e94413afbb05",
     "prev": "72a470f4-7a8f-4a12-afbc-63b7ea726022",
     "regions": {
      "49c6e55a-e4de-464d-a60b-e2292243f7e0": {
       "attrs": {
        "height": 1,
        "width": 1,
        "x": 0,
        "y": 0
       },
       "id": "49c6e55a-e4de-464d-a60b-e2292243f7e0"
      }
     }
    },
    "421afb18-4a72-44cc-9e7c-eee4a1a79522": {
     "id": "421afb18-4a72-44cc-9e7c-eee4a1a79522",
     "prev": "e70c2bf0-572f-4460-86e0-89663cc9d227",
     "regions": {
      "60ad3d4e-8d68-4fec-a4c3-84a88ef2de08": {
       "attrs": {
        "height": 0.8,
        "width": 0.8,
        "x": 0.1,
        "y": 0.1
       },
       "content": {
        "cell": "03483329-37ef-4257-93b2-31b5ad895827",
        "part": "whole"
       },
       "id": "60ad3d4e-8d68-4fec-a4c3-84a88ef2de08"
      }
     }
    },
    "46d33742-9942-479e-81d6-60b7e58f0ef4": {
     "id": "46d33742-9942-479e-81d6-60b7e58f0ef4",
     "prev": "b552927d-6640-40a6-8b86-aaf808d8324c",
     "regions": {
      "dd58989c-da8c-4ca3-af7a-4323efc55946": {
       "attrs": {
        "height": 0.8,
        "width": 0.8,
        "x": 0.1,
        "y": 0.1
       },
       "content": {
        "cell": "28f4fc3e-00b0-45fa-9423-5fb07042e524",
        "part": "source"
       },
       "id": "dd58989c-da8c-4ca3-af7a-4323efc55946"
      }
     }
    },
    "4aaca4e7-0a19-4be9-ae10-4f8c025bb19c": {
     "id": "4aaca4e7-0a19-4be9-ae10-4f8c025bb19c",
     "prev": "c185f0a9-0f12-4bdb-80b8-080297d5103a",
     "regions": {
      "ec8cf162-3cdf-4a5b-a1ec-3086ba1415c5": {
       "attrs": {
        "height": 0.8,
        "width": 0.8,
        "x": 0.1,
        "y": 0.1
       },
       "content": {
        "cell": "115a8071-fef8-4100-a9e3-6ac699c0ccc1",
        "part": "whole"
       },
       "id": "ec8cf162-3cdf-4a5b-a1ec-3086ba1415c5"
      }
     }
    },
    "4ad32d78-93fb-48b6-a1dd-19648968e402": {
     "id": "4ad32d78-93fb-48b6-a1dd-19648968e402",
     "prev": "f37b2c86-9030-46db-84ec-c7d5b1efd8e9",
     "regions": {
      "45b7b4eb-feeb-4ef5-b489-68f0e2e2743b": {
       "attrs": {
        "height": 0.8,
        "width": 0.8,
        "x": 0.1,
        "y": 0.1
       },
       "content": {
        "cell": "5a372df1-0578-4c15-b50e-d15cdd8ce86a",
        "part": "whole"
       },
       "id": "45b7b4eb-feeb-4ef5-b489-68f0e2e2743b"
      }
     }
    },
    "4ce0b7ac-30de-4ba7-ba84-3a3571cd7459": {
     "id": "4ce0b7ac-30de-4ba7-ba84-3a3571cd7459",
     "layout": "manual",
     "prev": "c36c88ed-e016-4418-ba5e-9759493f603d",
     "regions": {
      "018e28f2-ce80-46e2-ba87-5658374d3af3": {
       "attrs": {
        "height": 0.8,
        "width": 0.8,
        "x": 0.1,
        "y": 0.1
       },
       "id": "018e28f2-ce80-46e2-ba87-5658374d3af3"
      }
     }
    },
    "4f2df6b3-3c1f-4aae-8fbc-80cad14e3717": {
     "id": "4f2df6b3-3c1f-4aae-8fbc-80cad14e3717",
     "prev": "8621831b-fe4e-41d1-93b4-f14cbec82d13",
     "regions": {
      "daf51a06-4d43-4cf3-802d-d92cfad25a13": {
       "attrs": {
        "height": 0.8,
        "width": 0.8,
        "x": 0.1,
        "y": 0.1
       },
       "content": {
        "cell": "e04ddcb3-6c58-4afc-bec1-fef821c36412",
        "part": "whole"
       },
       "id": "daf51a06-4d43-4cf3-802d-d92cfad25a13"
      }
     }
    },
    "58c3233f-0675-48b4-822d-4a2346bb9660": {
     "id": "58c3233f-0675-48b4-822d-4a2346bb9660",
     "prev": "26c61762-1703-4205-95d9-ae2de65cfb67",
     "regions": {
      "5c215909-d4e2-41f0-ab5b-955ad1ed21c4": {
       "attrs": {
        "height": 0.8,
        "width": 0.8,
        "x": 0.1,
        "y": 0.1
       },
       "content": {
        "cell": "de425e26-21b5-4fab-91d5-49381aff4c40",
        "part": "whole"
       },
       "id": "5c215909-d4e2-41f0-ab5b-955ad1ed21c4"
      }
     }
    },
    "5fa79401-806e-4c9f-accf-1d6a791fa600": {
     "id": "5fa79401-806e-4c9f-accf-1d6a791fa600",
     "prev": "4ad32d78-93fb-48b6-a1dd-19648968e402",
     "regions": {
      "8fceb85e-afa4-4221-a84f-708d0a610b78": {
       "attrs": {
        "height": 0.8,
        "width": 0.8,
        "x": 0.1,
        "y": 0.1
       },
       "content": {
        "cell": "b768af26-c293-452d-8011-9f8da5962050",
        "part": "whole"
       },
       "id": "8fceb85e-afa4-4221-a84f-708d0a610b78"
      }
     }
    },
    "62cb52f4-48b2-400a-8cb7-127e6fd4fc77": {
     "id": "62cb52f4-48b2-400a-8cb7-127e6fd4fc77",
     "prev": "b22dccf5-6c74-4c01-9199-6f0a1d485070",
     "regions": {
      "2ffe4bdd-956f-4df6-8c1c-aff6725de1d0": {
       "attrs": {
        "height": 0.8,
        "width": 0.8,
        "x": 0.1,
        "y": 0.1
       },
       "content": {
        "cell": "ec576c95-02a0-444c-9c2d-93cde70cbe60",
        "part": "whole"
       },
       "id": "2ffe4bdd-956f-4df6-8c1c-aff6725de1d0"
      }
     }
    },
    "6799c8e2-5169-44e9-b93c-753d9442061c": {
     "id": "6799c8e2-5169-44e9-b93c-753d9442061c",
     "prev": "6b73efd1-874f-4ce7-8d91-902e1d11e172",
     "regions": {
      "6d13a707-1ed9-4b32-a7a8-ceb2d23a488b": {
       "attrs": {
        "height": 0.8,
        "width": 0.8,
        "x": 0.1,
        "y": 0.1
       },
       "content": {
        "cell": "8a3696db-c51d-4bbc-8216-2a380de2ad8a",
        "part": "whole"
       },
       "id": "6d13a707-1ed9-4b32-a7a8-ceb2d23a488b"
      }
     }
    },
    "688ab6c6-60d3-4374-b2b3-05a79becb240": {
     "id": "688ab6c6-60d3-4374-b2b3-05a79becb240",
     "prev": "3863485a-e818-4f02-9ddf-b3d307fdffeb",
     "regions": {
      "67a5ea27-cbd5-43c9-969c-3b1045c642f9": {
       "attrs": {
        "height": 0.8,
        "width": 0.8,
        "x": 0.1,
        "y": 0.1
       },
       "content": {
        "cell": "5fc3ce07-688b-4556-9c2c-5a26ed1b23fc",
        "part": "whole"
       },
       "id": "67a5ea27-cbd5-43c9-969c-3b1045c642f9"
      }
     }
    },
    "6b73efd1-874f-4ce7-8d91-902e1d11e172": {
     "id": "6b73efd1-874f-4ce7-8d91-902e1d11e172",
     "prev": "b4e943fd-ce83-4044-8a01-36295221709a",
     "regions": {
      "da616e0a-a8e1-4ce7-87d5-31abee319278": {
       "attrs": {
        "height": 0.8,
        "width": 0.8,
        "x": 0.1,
        "y": 0.1
       },
       "content": {
        "cell": "05febce4-896d-4af7-a331-4c68a60e31d6",
        "part": "whole"
       },
       "id": "da616e0a-a8e1-4ce7-87d5-31abee319278"
      }
     }
    },
    "70edeafb-e662-4526-87d9-e462f31b823b": {
     "id": "70edeafb-e662-4526-87d9-e462f31b823b",
     "prev": "1574be27-9819-4786-8c8d-fcf6d6ed0c71",
     "regions": {
      "62b3f8da-ad4a-414c-8295-27f69cc04d88": {
       "attrs": {
        "height": 0.8,
        "width": 0.8,
        "x": 0.1,
        "y": 0.1
       },
       "content": {
        "cell": "1c577840-33e2-4b4e-9091-78b604114c61",
        "part": "whole"
       },
       "id": "62b3f8da-ad4a-414c-8295-27f69cc04d88"
      }
     }
    },
    "71a8f7ee-005c-4adf-83c4-3d9c6a43a42d": {
     "id": "71a8f7ee-005c-4adf-83c4-3d9c6a43a42d",
     "prev": "b64e5941-2540-4240-8827-5984442b83ef",
     "regions": {
      "b8561555-0979-49e9-8a37-cb36257dc44d": {
       "attrs": {
        "height": 0.8,
        "width": 0.8,
        "x": 0.1,
        "y": 0.1
       },
       "content": {
        "cell": "862ec794-fd27-4ffd-acac-95acb3ebc058",
        "part": "whole"
       },
       "id": "b8561555-0979-49e9-8a37-cb36257dc44d"
      }
     }
    },
    "7276af48-a856-4f9d-8154-2e72712e68e7": {
     "id": "7276af48-a856-4f9d-8154-2e72712e68e7",
     "prev": "71a8f7ee-005c-4adf-83c4-3d9c6a43a42d",
     "regions": {
      "fc6f33cb-03d0-4db7-97fc-e493d6c42882": {
       "attrs": {
        "height": 0.8,
        "width": 0.8,
        "x": 0.1,
        "y": 0.1
       },
       "content": {
        "cell": "28f4fc3e-00b0-45fa-9423-5fb07042e524",
        "part": "whole"
       },
       "id": "fc6f33cb-03d0-4db7-97fc-e493d6c42882"
      }
     }
    },
    "72a470f4-7a8f-4a12-afbc-63b7ea726022": {
     "id": "72a470f4-7a8f-4a12-afbc-63b7ea726022",
     "layout": "grid",
     "prev": "d6e5dc1c-4f4b-488c-ade1-415bf14a6a5b",
     "regions": {
      "4ac7f33e-0066-439a-91fc-f2da8aebf423": {
       "attrs": {
        "height": 0.6666666666666666,
        "pad": 0.01,
        "treemap:weight": 1,
        "width": 0.5,
        "x": 0,
        "y": 0
       },
       "id": "4ac7f33e-0066-439a-91fc-f2da8aebf423"
      },
      "ea002b11-250b-4486-819a-56352d210e94": {
       "attrs": {
        "height": 0.3333333333333333,
        "pad": 0.01,
        "treemap:weight": 1,
        "width": 1,
        "x": 0,
        "y": 0.6666666666666666
       },
       "content": {
        "cell": "6b5e15ff-d797-48fc-8633-127e07c88700",
        "part": "whole"
       },
       "id": "ea002b11-250b-4486-819a-56352d210e94"
      },
      "f216a551-a17d-4036-a7b3-d82466d64b72": {
       "attrs": {
        "height": 0.6666666666666666,
        "pad": 0.01,
        "treemap:weight": 1,
        "width": 0.5,
        "x": 0.5,
        "y": 0
       },
       "id": "f216a551-a17d-4036-a7b3-d82466d64b72"
      }
     }
    },
    "7be0052a-bf5b-4aec-b3f5-eb2eac87c9a4": {
     "id": "7be0052a-bf5b-4aec-b3f5-eb2eac87c9a4",
     "prev": "7276af48-a856-4f9d-8154-2e72712e68e7",
     "regions": {
      "df712425-f3ef-44c9-a2b0-668f8b8179f3": {
       "attrs": {
        "height": 0.8,
        "width": 0.8,
        "x": 0.1,
        "y": 0.1
       },
       "content": {
        "cell": "b066d2fc-bbc7-422d-b194-9bec2c2fe365",
        "part": "whole"
       },
       "id": "df712425-f3ef-44c9-a2b0-668f8b8179f3"
      }
     }
    },
    "7c7cd354-ac3a-4528-9a55-cc635273b4c4": {
     "id": "7c7cd354-ac3a-4528-9a55-cc635273b4c4",
     "prev": "2a9b76cf-4bcb-4c1d-95c5-98b5bba7c06a",
     "regions": {
      "5fb95a4f-b6f9-4fb6-9ca4-266a41a0a5fd": {
       "attrs": {
        "height": 0.8,
        "width": 0.8,
        "x": 0.1,
        "y": 0.1
       },
       "content": {
        "cell": "fb966b0b-7d3b-4b3c-91f1-ac7bb26e2f98",
        "part": "whole"
       },
       "id": "5fb95a4f-b6f9-4fb6-9ca4-266a41a0a5fd"
      }
     }
    },
    "7ca6c3b2-b480-4ba5-b5e2-85d791cdb5e6": {
     "id": "7ca6c3b2-b480-4ba5-b5e2-85d791cdb5e6",
     "prev": "05fb7217-6725-4889-ba62-d61de0b451d0",
     "regions": {
      "3a36d351-226f-4a2d-9856-05a9d743e19d": {
       "attrs": {
        "height": 0.8,
        "width": 0.8,
        "x": 0.1,
        "y": 0.1
       },
       "content": {
        "cell": "cbe19561-25eb-4786-8aeb-36d8810d3c65",
        "part": "whole"
       },
       "id": "3a36d351-226f-4a2d-9856-05a9d743e19d"
      }
     }
    },
    "7e8a5807-982b-4477-8df3-f980d9833b71": {
     "id": "7e8a5807-982b-4477-8df3-f980d9833b71",
     "prev": "cdbb6cd2-0c90-4c4a-9fe8-867d0c86d211",
     "regions": {
      "db03223f-391c-412a-be04-92f385be7e1e": {
       "attrs": {
        "height": 0.8,
        "width": 0.8,
        "x": 0.1,
        "y": 0.1
       },
       "content": {
        "cell": "9a4137c9-18ef-4f82-95b5-51c23417648c",
        "part": "whole"
       },
       "id": "db03223f-391c-412a-be04-92f385be7e1e"
      }
     }
    },
    "7ee800c4-a395-4724-93ea-f5bbe25ee1c2": {
     "id": "7ee800c4-a395-4724-93ea-f5bbe25ee1c2",
     "prev": "7ca6c3b2-b480-4ba5-b5e2-85d791cdb5e6",
     "regions": {
      "b2410b36-111d-4355-a497-21a05827c24e": {
       "attrs": {
        "height": 0.8,
        "width": 0.8,
        "x": 0.1,
        "y": 0.1
       },
       "content": {
        "cell": "61720fab-88bc-425f-a091-6a2173abf22d",
        "part": "whole"
       },
       "id": "b2410b36-111d-4355-a497-21a05827c24e"
      }
     }
    },
    "8621831b-fe4e-41d1-93b4-f14cbec82d13": {
     "id": "8621831b-fe4e-41d1-93b4-f14cbec82d13",
     "prev": "70edeafb-e662-4526-87d9-e462f31b823b",
     "regions": {
      "dd44c912-01d1-41cd-91f0-7f7c4734308e": {
       "attrs": {
        "height": 0.8,
        "width": 0.8,
        "x": 0.1,
        "y": 0.1
       },
       "content": {
        "cell": "fd9e74a9-bd81-46f2-bfcb-f990cd45cc9a",
        "part": "whole"
       },
       "id": "dd44c912-01d1-41cd-91f0-7f7c4734308e"
      }
     }
    },
    "8a20ed3e-9f99-4978-912f-0704fc52baa9": {
     "id": "8a20ed3e-9f99-4978-912f-0704fc52baa9",
     "prev": "d53ae342-378a-49fa-8aaf-82f13a95253a",
     "regions": {
      "01ffb413-25af-4527-bffb-dc055baafe10": {
       "attrs": {
        "height": 0.8,
        "width": 0.8,
        "x": 0.1,
        "y": 0.1
       },
       "content": {
        "cell": "79719532-17c7-46c6-b536-c1a83187ba03",
        "part": "whole"
       },
       "id": "01ffb413-25af-4527-bffb-dc055baafe10"
      }
     }
    },
    "8c1fa249-ae7a-4ea9-bda7-9c21eab8292d": {
     "id": "8c1fa249-ae7a-4ea9-bda7-9c21eab8292d",
     "prev": "e57091a6-3dbe-44c9-96d5-7acfa77a3962",
     "regions": {
      "7a7a5d36-e142-424d-ace5-358bb5957618": {
       "attrs": {
        "height": 0.8,
        "width": 0.8,
        "x": 0.1,
        "y": 0.1
       },
       "content": {
        "cell": "1d54665b-222f-4261-8f0e-43f18b473361",
        "part": "whole"
       },
       "id": "7a7a5d36-e142-424d-ace5-358bb5957618"
      }
     }
    },
    "98158f56-8333-458a-801b-d20eaf0cdc3a": {
     "id": "98158f56-8333-458a-801b-d20eaf0cdc3a",
     "prev": null,
     "regions": {}
    },
    "9967c9ff-c114-4cb3-b5af-58ff6026caae": {
     "id": "9967c9ff-c114-4cb3-b5af-58ff6026caae",
     "prev": "4ce0b7ac-30de-4ba7-ba84-3a3571cd7459",
     "regions": {
      "0bee0d8b-62cf-4e0f-bcea-b3f5bdb0dd4e": {
       "attrs": {
        "height": 0.8,
        "width": 0.8,
        "x": 0.1,
        "y": 0.1
       },
       "content": {
        "cell": "19655bc8-7ea5-45ae-88de-ebc37a26bcca",
        "part": "whole"
       },
       "id": "0bee0d8b-62cf-4e0f-bcea-b3f5bdb0dd4e"
      }
     }
    },
    "a385fe27-f822-40bc-8622-293e230218c5": {
     "id": "a385fe27-f822-40bc-8622-293e230218c5",
     "prev": "14a51173-dd44-485d-b7bd-58ec0f74a7a4",
     "regions": {
      "a931e9fc-8910-478c-9c32-47464b295039": {
       "attrs": {
        "height": 0.8,
        "width": 0.8,
        "x": 0.1,
        "y": 0.1
       },
       "content": {
        "cell": "9f20dffe-a5bc-40aa-826c-ed127dc27773",
        "part": "whole"
       },
       "id": "a931e9fc-8910-478c-9c32-47464b295039"
      }
     }
    },
    "ae2691d9-55ce-48c4-8bf1-f1dcf0b27bce": {
     "id": "ae2691d9-55ce-48c4-8bf1-f1dcf0b27bce",
     "prev": "a385fe27-f822-40bc-8622-293e230218c5",
     "regions": {
      "ffdd7390-75d5-4a11-9912-8b04e2c686da": {
       "attrs": {
        "height": 0.8,
        "width": 0.8,
        "x": 0.1,
        "y": 0.1
       },
       "content": {
        "cell": "17afc5ee-6049-4f86-a40b-34cb4808d5b3",
        "part": "whole"
       },
       "id": "ffdd7390-75d5-4a11-9912-8b04e2c686da"
      }
     }
    },
    "ae3a2e9a-61f3-409f-9248-436fa8b0f8e7": {
     "id": "ae3a2e9a-61f3-409f-9248-436fa8b0f8e7",
     "prev": "f5929481-b8f6-4c74-a865-b04f901f7e69",
     "regions": {
      "d40ba0dc-6497-4411-bc00-4fad420180f2": {
       "attrs": {
        "height": 0.8,
        "width": 0.8,
        "x": 0.1,
        "y": 0.1
       },
       "content": {
        "cell": "4c2f5def-67a9-4b03-98d0-c8925b8ecb9a",
        "part": "whole"
       },
       "id": "d40ba0dc-6497-4411-bc00-4fad420180f2"
      }
     }
    },
    "b22dccf5-6c74-4c01-9199-6f0a1d485070": {
     "id": "b22dccf5-6c74-4c01-9199-6f0a1d485070",
     "prev": "688ab6c6-60d3-4374-b2b3-05a79becb240",
     "regions": {
      "40dc8bea-2c1a-4f68-82bd-89180c60286e": {
       "attrs": {
        "height": 0.8,
        "width": 0.8,
        "x": 0.1,
        "y": 0.1
       },
       "content": {
        "cell": "c5dca432-fc9f-498b-93ac-66f5349b61ba",
        "part": "whole"
       },
       "id": "40dc8bea-2c1a-4f68-82bd-89180c60286e"
      }
     }
    },
    "b3455ab9-b5da-4b4f-be59-829158a1e7f8": {
     "id": "b3455ab9-b5da-4b4f-be59-829158a1e7f8",
     "prev": "7ee800c4-a395-4724-93ea-f5bbe25ee1c2",
     "regions": {
      "cfc504f2-5ce9-4566-9c25-543b3f134421": {
       "attrs": {
        "height": 0.8,
        "width": 0.8,
        "x": 0.1,
        "y": 0.1
       },
       "content": {
        "cell": "6310c4de-e3d1-49d6-89e2-fb0d73e8b0e8",
        "part": "whole"
       },
       "id": "cfc504f2-5ce9-4566-9c25-543b3f134421"
      }
     }
    },
    "b4e943fd-ce83-4044-8a01-36295221709a": {
     "id": "b4e943fd-ce83-4044-8a01-36295221709a",
     "prev": "39e415bc-dc48-4e61-8f5c-e94413afbb05",
     "regions": {
      "59e989d7-4451-4abd-946e-cf05e1291c42": {
       "attrs": {
        "height": 0.8,
        "width": 0.8,
        "x": 0.1,
        "y": 0.1
       },
       "content": {
        "cell": "bd9a5ac9-a713-41d7-9e48-859953b50f28",
        "part": "whole"
       },
       "id": "59e989d7-4451-4abd-946e-cf05e1291c42"
      }
     }
    },
    "b552927d-6640-40a6-8b86-aaf808d8324c": {
     "id": "b552927d-6640-40a6-8b86-aaf808d8324c",
     "prev": "17073b36-3de3-4db8-94ad-8d5d898e55ec",
     "regions": {
      "69664871-6e53-4a7e-ad05-738fd269960e": {
       "attrs": {
        "height": 0.8,
        "width": 0.8,
        "x": 0.1,
        "y": 0.1
       },
       "content": {
        "cell": "fffddd02-1500-493c-aa01-cbed36711999",
        "part": "source"
       },
       "id": "69664871-6e53-4a7e-ad05-738fd269960e"
      }
     }
    },
    "b64e5941-2540-4240-8827-5984442b83ef": {
     "id": "b64e5941-2540-4240-8827-5984442b83ef",
     "prev": "98158f56-8333-458a-801b-d20eaf0cdc3a",
     "regions": {
      "f0e68525-5714-48d9-8155-a2c35b941af5": {
       "attrs": {
        "height": 0.8,
        "width": 0.8,
        "x": 0.1,
        "y": 0.1
       },
       "content": {
        "cell": "fffddd02-1500-493c-aa01-cbed36711999",
        "part": "whole"
       },
       "id": "f0e68525-5714-48d9-8155-a2c35b941af5"
      }
     }
    },
    "b968b8d1-e2f1-45ab-a783-ea1c6bd1de87": {
     "id": "b968b8d1-e2f1-45ab-a783-ea1c6bd1de87",
     "prev": "5fa79401-806e-4c9f-accf-1d6a791fa600",
     "regions": {
      "81e149ad-d8ae-4c54-afe7-6bc54c0d7500": {
       "attrs": {
        "height": 0.8,
        "width": 0.8,
        "x": 0.1,
        "y": 0.1
       },
       "content": {
        "cell": "09950b3f-1098-4346-b9e1-802bd4fc1eeb",
        "part": "whole"
       },
       "id": "81e149ad-d8ae-4c54-afe7-6bc54c0d7500"
      }
     }
    },
    "c185f0a9-0f12-4bdb-80b8-080297d5103a": {
     "id": "c185f0a9-0f12-4bdb-80b8-080297d5103a",
     "prev": "01a44cee-0218-4c32-9f64-4d0eac20596c",
     "regions": {
      "d415f3df-100f-4549-b868-8debad92018f": {
       "attrs": {
        "height": 0.8,
        "width": 0.8,
        "x": 0.1,
        "y": 0.1
       },
       "content": {
        "cell": "862ec794-fd27-4ffd-acac-95acb3ebc058",
        "part": "source"
       },
       "id": "d415f3df-100f-4549-b868-8debad92018f"
      }
     }
    },
    "c36c88ed-e016-4418-ba5e-9759493f603d": {
     "id": "c36c88ed-e016-4418-ba5e-9759493f603d",
     "prev": "62cb52f4-48b2-400a-8cb7-127e6fd4fc77",
     "regions": {
      "b9790d8a-5f97-4f86-b611-eef7ab81ae2c": {
       "attrs": {
        "height": 0.8,
        "width": 0.8,
        "x": 0.1,
        "y": 0.1
       },
       "content": {
        "cell": "8b06c3ee-b889-4cd7-923f-49fc4dadd763",
        "part": "whole"
       },
       "id": "b9790d8a-5f97-4f86-b611-eef7ab81ae2c"
      }
     }
    },
    "cdbb6cd2-0c90-4c4a-9fe8-867d0c86d211": {
     "id": "cdbb6cd2-0c90-4c4a-9fe8-867d0c86d211",
     "prev": "6799c8e2-5169-44e9-b93c-753d9442061c",
     "regions": {
      "d17169c9-5810-4d81-97c0-ec48e47d800d": {
       "attrs": {
        "height": 0.8,
        "width": 0.8,
        "x": 0.1,
        "y": 0.1
       },
       "content": {
        "cell": "d1f42c7d-b661-4989-9064-5557b44a0751",
        "part": "whole"
       },
       "id": "d17169c9-5810-4d81-97c0-ec48e47d800d"
      }
     }
    },
    "d53ae342-378a-49fa-8aaf-82f13a95253a": {
     "id": "d53ae342-378a-49fa-8aaf-82f13a95253a",
     "prev": "34aa4cec-d0cd-4e70-8239-73309960857c",
     "regions": {
      "659df49b-0ba5-4165-8e38-4d8f95157373": {
       "attrs": {
        "height": 0.8,
        "width": 0.8,
        "x": 0.1,
        "y": 0.1
       },
       "content": {
        "cell": "190bdd82-281f-4049-82ab-80ce9b6dfbf5",
        "part": "whole"
       },
       "id": "659df49b-0ba5-4165-8e38-4d8f95157373"
      }
     }
    },
    "d6e5dc1c-4f4b-488c-ade1-415bf14a6a5b": {
     "id": "d6e5dc1c-4f4b-488c-ade1-415bf14a6a5b",
     "prev": "f7875718-0a89-4f30-8fbf-0e5042e9bca9",
     "regions": {
      "71acbc8c-f47d-4398-b6b1-bd64f348d9b2": {
       "attrs": {
        "height": 0.8,
        "width": 0.8,
        "x": 0.1,
        "y": 0.1
       },
       "content": {
        "cell": "102a8976-eb56-4c13-9eef-9ff713c17608",
        "part": "whole"
       },
       "id": "71acbc8c-f47d-4398-b6b1-bd64f348d9b2"
      }
     }
    },
    "e57091a6-3dbe-44c9-96d5-7acfa77a3962": {
     "id": "e57091a6-3dbe-44c9-96d5-7acfa77a3962",
     "prev": "0c918af2-ca55-4039-8ca6-acf4b2d74bc3",
     "regions": {
      "80844f78-e34c-423c-81a2-d3cce836b6a5": {
       "attrs": {
        "height": 0.8,
        "width": 0.8,
        "x": 0.1,
        "y": 0.1
       },
       "content": {
        "cell": "016c770e-c8ed-4a2a-bc23-2f64f2321f41",
        "part": "whole"
       },
       "id": "80844f78-e34c-423c-81a2-d3cce836b6a5"
      }
     }
    },
    "e70c2bf0-572f-4460-86e0-89663cc9d227": {
     "id": "e70c2bf0-572f-4460-86e0-89663cc9d227",
     "layout": "manual",
     "prev": "7be0052a-bf5b-4aec-b3f5-eb2eac87c9a4",
     "regions": {}
    },
    "e7e7616d-3bb9-456e-8c0b-a5006039947a": {
     "id": "e7e7616d-3bb9-456e-8c0b-a5006039947a",
     "prev": "421afb18-4a72-44cc-9e7c-eee4a1a79522",
     "regions": {
      "92f787f8-3b81-4545-8c56-d25c35499df0": {
       "attrs": {
        "height": 0.8,
        "width": 0.8,
        "x": 0.1,
        "y": 0.1
       },
       "content": {
        "cell": "62b5620b-ddfd-42f3-9261-6747d9eacadf",
        "part": "whole"
       },
       "id": "92f787f8-3b81-4545-8c56-d25c35499df0"
      }
     }
    },
    "f37b2c86-9030-46db-84ec-c7d5b1efd8e9": {
     "id": "f37b2c86-9030-46db-84ec-c7d5b1efd8e9",
     "prev": "46d33742-9942-479e-81d6-60b7e58f0ef4",
     "regions": {
      "d416daa4-62b4-4de9-9c62-eb45fe5612b5": {
       "attrs": {
        "height": 0.8,
        "width": 0.8,
        "x": 0.1,
        "y": 0.1
       },
       "content": {
        "cell": "c3728e5a-18b0-4b7e-b995-5b1b45ac8f94",
        "part": "whole"
       },
       "id": "d416daa4-62b4-4de9-9c62-eb45fe5612b5"
      }
     }
    },
    "f5929481-b8f6-4c74-a865-b04f901f7e69": {
     "id": "f5929481-b8f6-4c74-a865-b04f901f7e69",
     "prev": "4aaca4e7-0a19-4be9-ae10-4f8c025bb19c",
     "regions": {
      "500e31e8-8738-4550-8d60-fd3f125fa1a2": {
       "attrs": {
        "height": 0.8,
        "width": 0.8,
        "x": 0.1,
        "y": 0.1
       },
       "content": {
        "cell": "d603110e-8c30-46b2-a691-949e9556b974",
        "part": "whole"
       },
       "id": "500e31e8-8738-4550-8d60-fd3f125fa1a2"
      }
     }
    },
    "f7875718-0a89-4f30-8fbf-0e5042e9bca9": {
     "id": "f7875718-0a89-4f30-8fbf-0e5042e9bca9",
     "prev": "ae3a2e9a-61f3-409f-9248-436fa8b0f8e7",
     "regions": {
      "8d9db515-14f2-4f8b-8ca9-2b6541b5c542": {
       "attrs": {
        "height": 0.8,
        "width": 0.8,
        "x": 0.1,
        "y": 0.1
       },
       "content": {
        "cell": "f467ede4-b36d-4024-8674-cc79086ad5e2",
        "part": "whole"
       },
       "id": "8d9db515-14f2-4f8b-8ca9-2b6541b5c542"
      }
     }
    },
    "fc29dd40-65f6-4a73-a856-5b22857e897a": {
     "id": "fc29dd40-65f6-4a73-a856-5b22857e897a",
     "prev": "0184d025-1384-429a-b70a-f94f2ac478fe",
     "regions": {
      "11cfe959-1280-4d55-8d96-694672ba3c8f": {
       "attrs": {
        "height": 0.8,
        "width": 0.8,
        "x": 0.1,
        "y": 0.1
       },
       "content": {
        "cell": "30607fb7-2667-4bed-b32a-c9ff15e72912",
        "part": "whole"
       },
       "id": "11cfe959-1280-4d55-8d96-694672ba3c8f"
      }
     }
    },
    "fee26d03-2863-4ebf-ae6c-2d86c04cf9cb": {
     "id": "fee26d03-2863-4ebf-ae6c-2d86c04cf9cb",
     "prev": "8c1fa249-ae7a-4ea9-bda7-9c21eab8292d",
     "regions": {
      "d1083b10-d117-4d69-9bbc-5d786de8ca18": {
       "attrs": {
        "height": 0.8,
        "width": 0.8,
        "x": 0.1,
        "y": 0.1
       },
       "content": {
        "cell": "4a5bf267-5063-45e4-808f-64acdd743e86",
        "part": "whole"
       },
       "id": "d1083b10-d117-4d69-9bbc-5d786de8ca18"
      }
     }
    }
   },
   "themes": {}
  }
 },
 "nbformat": 4,
 "nbformat_minor": 2
}
