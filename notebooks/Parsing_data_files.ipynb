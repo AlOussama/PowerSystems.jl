{
 "cells": [
  {
   "cell_type": "markdown",
   "metadata": {},
   "source": [
    "# Parsing System Files Code \n",
    "This notebook is intended to show how the parsing of matpower, pss/e and plexos data can be done to integrate it with the PowerSystems platform. "
   ]
  },
  {
   "cell_type": "markdown",
   "metadata": {},
   "source": [
    "Run Pkg.build(\"PowerSystems\") on the feature-parsing branch to be able to run this notebook"
   ]
  },
  {
   "cell_type": "code",
   "execution_count": 1,
   "metadata": {},
   "outputs": [
    {
     "name": "stderr",
     "output_type": "stream",
     "text": [
      "\u001b[1m\u001b[36mINFO: \u001b[39m\u001b[22m\u001b[36mRecompiling stale cache file /Users/sdalvi/.julia/lib/v0.6/PowerModels.ji for module PowerModels.\n",
      "\u001b[39m"
     ]
    }
   ],
   "source": [
    "using PowerSystems\n",
    "using TimeSeries"
   ]
  },
  {
   "cell_type": "markdown",
   "metadata": {},
   "source": [
    "- To disable PowerModels warnings \n",
    "  - Edit : PowerModels=>src=>PowerModels.jl :line 21\n",
    "  - Memento.config!(LOGGER, \"warn\")  =>  Memento.config!(LOGGER, \"error\")"
   ]
  },
  {
   "cell_type": "markdown",
   "metadata": {},
   "source": [
    "- Read Data files (matpower/psse/cdm) "
   ]
  },
  {
   "cell_type": "code",
   "execution_count": 2,
   "metadata": {},
   "outputs": [
    {
     "data": {
      "text/plain": [
       "Dict{String,Any} with 13 entries:\n",
       "  \"bus\"            => Dict{String,Any}(Pair{String,Any}(\"109\", Dict{String,Any}…\n",
       "  \"source_type\"    => \"matpower\"\n",
       "  \"name\"           => \"RTS_GMLC\"\n",
       "  \"dcline\"         => Dict{String,Any}(Pair{String,Any}(\"1\", Dict{String,Any}(P…\n",
       "  \"source_version\" => v\"2.0.0\"\n",
       "  \"gen\"            => Dict{String,Any}(Pair{String,Any}(\"32\", Dict{String,Any}(…\n",
       "  \"branch\"         => Dict{String,Any}(Pair{String,Any}(\"32\", Dict{String,Any}(…\n",
       "  \"version\"        => v\"0.7.2+\"\n",
       "  \"baseMVA\"        => 100.0\n",
       "  \"per_unit\"       => true\n",
       "  \"areas\"          => Dict{String,Any}(Pair{String,Any}(\"1\", Dict{String,Any}(P…\n",
       "  \"shunt\"          => Dict{String,Any}(Pair{String,Any}(\"1\", Dict{String,Any}(P…\n",
       "  \"load\"           => Dict{String,Any}(Pair{String,Any}(\"32\", Dict{String,Any}(…"
      ]
     },
     "execution_count": 2,
     "metadata": {},
     "output_type": "execute_result"
    }
   ],
   "source": [
    "data = PowerSystems.ParseStandardFiles(Pkg.dir(\"PowerSystems/data/matpower/RTS_GMLC.m\"))"
   ]
  },
  {
   "cell_type": "markdown",
   "metadata": {},
   "source": [
    "- Parse PowerModels dict to PowerSystems dict"
   ]
  },
  {
   "cell_type": "code",
   "execution_count": 3,
   "metadata": {},
   "outputs": [],
   "source": [
    "ps_dict = PowerSystems.pm2ps_dict(data);"
   ]
  },
  {
   "cell_type": "markdown",
   "metadata": {},
   "source": [
    "- Parse TimeSeries data files (CSV) to dict"
   ]
  },
  {
   "cell_type": "code",
   "execution_count": 4,
   "metadata": {},
   "outputs": [
    {
     "name": "stdout",
     "output_type": "stream",
     "text": [
      "Parsing csv timeseries files in CSP ...\n",
      "Successfully parsed CSP\n",
      "Parsing csv timeseries files in HYDRO ...\n",
      "Successfully parsed HYDRO\n",
      "Parsing csv timeseries files in Load ...\n",
      "Successfully parsed Load\n",
      "Parsing csv timeseries files in PV ...\n",
      "Successfully parsed PV\n",
      "Parsing csv timeseries files in RTPV ...\n",
      "Successfully parsed RTPV\n",
      "Parsing csv timeseries files in WIND ...\n",
      "Successfully parsed WIND\n"
     ]
    }
   ],
   "source": [
    "time_series = PowerSystems.read_data_files(Pkg.dir(\"PowerSystems/data/forecasts/RTS_GMLC_forecasts\"));"
   ]
  },
  {
   "cell_type": "markdown",
   "metadata": {},
   "source": [
    "- Add RealTime Simulation data to PowerSystems Dict"
   ]
  },
  {
   "cell_type": "code",
   "execution_count": 5,
   "metadata": {},
   "outputs": [],
   "source": [
    "ps_dict = PowerSystems.add_realtime_ts(ps_dict,time_series);"
   ]
  },
  {
   "cell_type": "markdown",
   "metadata": {},
   "source": [
    "- PowerSystems Dict to PowerSystems Struct "
   ]
  },
  {
   "cell_type": "code",
   "execution_count": 6,
   "metadata": {},
   "outputs": [],
   "source": [
    "Buses, Generators, Storage, Branches, Loads, LoadZones  = PowerSystems.ps_dict2ps_struct(ps_dict);"
   ]
  },
  {
   "cell_type": "markdown",
   "metadata": {},
   "source": [
    "- Parse TimeSeries to Forecast Dict"
   ]
  },
  {
   "cell_type": "code",
   "execution_count": 7,
   "metadata": {
    "scrolled": true
   },
   "outputs": [
    {
     "name": "stdout",
     "output_type": "stream",
     "text": [
      "No forecast found for 322_CT_6 \n",
      "No forecast found for 321_CC_1 \n",
      "No forecast found for 202_STEAM_3 \n",
      "No forecast found for 315_STEAM_1 \n",
      "No forecast found for 223_CT_4 \n",
      "No forecast found for 213_CT_1 \n",
      "No forecast found for 313_CC_1 \n",
      "No forecast found for 123_STEAM_2 \n",
      "No forecast found for 223_CT_6 \n",
      "No forecast found for 202_CT_2 \n",
      "No forecast found for 101_STEAM_3 \n",
      "No forecast found for 302_CT_1 \n",
      "No forecast found for 123_CT_1 \n",
      "No forecast found for 113_CT_3 \n",
      "No forecast found for 302_CT_3 \n",
      "No forecast found for 215_CT_4 \n",
      "No forecast found for 102_STEAM_3 \n",
      "No forecast found for 301_CT_4 \n",
      "No forecast found for 202_CT_1 \n",
      "No forecast found for 113_CT_2 \n",
      "No forecast found for 221_CC_1 \n",
      "No forecast found for 315_CT_7 \n",
      "No forecast found for 223_CT_5 \n",
      "No forecast found for 215_CT_5 \n",
      "No forecast found for 114_SYNC_COND_1 \n",
      "No forecast found for 323_CC_1 \n",
      "No forecast found for 101_STEAM_4 \n",
      "No forecast found for 113_CT_1 \n",
      "No forecast found for 223_STEAM_3 \n",
      "No forecast found for 318_CC_1 \n",
      "No forecast found for 307_CT_2 \n",
      "No forecast found for 213_CT_2 \n",
      "No forecast found for 113_CT_4 \n",
      "No forecast found for 315_STEAM_3 \n",
      "No forecast found for 118_CC_1 \n",
      "No forecast found for 315_CT_8 \n",
      "No forecast found for 302_CT_2 \n",
      "No forecast found for 218_CC_1 \n",
      "No forecast found for 213_CC_3 \n",
      "No forecast found for 115_STEAM_3 \n",
      "No forecast found for 323_CC_2 \n",
      "No forecast found for 101_CT_1 \n",
      "No forecast found for 314_SYNC_COND_1 \n",
      "No forecast found for 115_STEAM_2 \n",
      "No forecast found for 101_CT_2 \n",
      "No forecast found for 322_CT_5 \n",
      "No forecast found for 214_SYNC_COND_1 \n",
      "No forecast found for 315_STEAM_5 \n",
      "No forecast found for 207_CT_2 \n",
      "No forecast found for 123_STEAM_3 \n",
      "No forecast found for 223_STEAM_1 \n",
      "No forecast found for 123_CT_5 \n",
      "No forecast found for 301_CT_1 \n",
      "No forecast found for 223_STEAM_2 \n",
      "No forecast found for 202_STEAM_4 \n",
      "No forecast found for 313_STORAGE_1 \n",
      "No forecast found for 116_STEAM_1 \n",
      "No forecast found for 315_STEAM_4 \n",
      "No forecast found for 315_STEAM_2 \n",
      "No forecast found for 115_STEAM_1 \n",
      "No forecast found for 121_NUCLEAR_1 \n",
      "No forecast found for 102_CT_2 \n",
      "No forecast found for 123_CT_4 \n",
      "No forecast found for 207_CT_1 \n",
      "No forecast found for 301_CT_3 \n",
      "No forecast found for 316_STEAM_1 \n",
      "No forecast found for 102_CT_1 \n",
      "No forecast found for 216_STEAM_1 \n",
      "No forecast found for 315_CT_6 \n",
      "No forecast found for 201_STEAM_3 \n",
      "No forecast found for 201_CT_2 \n",
      "No forecast found for 201_CT_1 \n",
      "No forecast found for 301_CT_2 \n",
      "No forecast found for 302_CT_4 \n",
      "No forecast found for 307_CT_1 \n",
      "No forecast found for 102_STEAM_4 \n",
      "No forecast found for 107_CC_1 \n"
     ]
    }
   ],
   "source": [
    "forecast_gen = PowerSystems.make_forecast_dict(time_series,Day(1),24,Generators)\n",
    "forecast_load = PowerSystems.make_forecast_dict(time_series,Day(1),24,Loads, LoadZones);"
   ]
  },
  {
   "cell_type": "markdown",
   "metadata": {},
   "source": [
    "- Parse Forecast Dict to Forecast Struct"
   ]
  },
  {
   "cell_type": "code",
   "execution_count": 8,
   "metadata": {},
   "outputs": [],
   "source": [
    "f_gen = PowerSystems.make_forecast_array(forecast_gen)\n",
    "f_load = PowerSystems.make_forecast_array(forecast_load);"
   ]
  },
  {
   "cell_type": "code",
   "execution_count": null,
   "metadata": {},
   "outputs": [],
   "source": []
  }
 ],
 "metadata": {
  "kernelspec": {
   "display_name": "Julia 0.6.2",
   "language": "julia",
   "name": "julia-0.6"
  },
  "language_info": {
   "file_extension": ".jl",
   "mimetype": "application/julia",
   "name": "julia",
   "version": "0.6.2"
  }
 },
 "nbformat": 4,
 "nbformat_minor": 2
}
