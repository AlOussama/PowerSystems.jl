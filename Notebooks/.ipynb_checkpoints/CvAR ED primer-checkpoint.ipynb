{
 "cells": [
  {
   "cell_type": "markdown",
   "metadata": {},
   "source": [
    "# CVaR Primer and Application to Economic Dispatch\n",
    "\n",
    "### Objective\n",
    "This notebook contains test code for the calculation of the Conditional Value at Risk (CVaR) and its application to the Economic Dispatch (ED) problem. \n",
    "\n",
    "The objective is to implement the method presented in [Bertsimas and Brown \\[1\\]](http://pubsonline.informs.org/doi/abs/10.1287/opre.1080.0646?journalCode=opre) for the formulation of uncertainty sets in linear programming settings. \n",
    "\n",
    "In this case, the data source for the uncertainty set are probabilistic forecasts of renewable energy and the linear programming setting is the Robust Counterpart of the ED problem.  \n",
    "\n",
    "More definitions and details are provided below. "
   ]
  },
  {
   "cell_type": "code",
   "execution_count": 1,
   "metadata": {},
   "outputs": [],
   "source": [
    "using Distributions\n",
    "using JuMP\n",
    "using Plots\n",
    "using Gurobi\n",
    "using LaTeXStrings \n",
    "gr();"
   ]
  },
  {
   "cell_type": "markdown",
   "metadata": {},
   "source": [
    "## Risk measures\n",
    "\n",
    "This section of the notebook explores the concepts of risk measures, in particular [Value at Risk](https://en.wikipedia.org/wiki/Value_at_risk) (VaR) and [Conditional Value at Risk](https://en.wikipedia.org/wiki/Expected_shortfall) (CVaR), also known as Expected Shortfall. \n",
    "\n",
    "Consider a random variable $\\widetilde{z}$ in the probability space $\\mathcal{Z}$ and a function $\\mu: \\mathcal{Z} \\rightarrow \\mathbb{R}$, the function $\\mu$ is called the risk measure. In general terms, it translates the possible lossess/gains defined by the random variable $\\widetilde{z}$ into a real value. A more mathematically precise definition is provided in [1], this notebook has the objective of presenting a first approach to the problem. \n",
    "\n",
    "VaR short definition: Represents the losses at the $\\varepsilon$-percentile. This can be interpreted as having a $\\varepsilon\\%$ chance of incurring the VaR losses. Mathematically, the VaR can defined as follows: \n",
    "\n",
    "$$\n",
    "VaR_{\\varepsilon}(\\widetilde{z}) \\triangleq \\min \\left\\{ z \\, |  \\, \\mathbb{P}(\\widetilde{z} \\le z) \\ge \\varepsilon \\right\\}\n",
    "$$\n",
    "\n",
    "\n",
    "\n",
    "CVaR short definition: The expected shortfall at the $\\varepsilon$-level is the expected value of all the worse than $\\varepsilon\\%$ cases. Mathematically, the CVaR can be defined as follows: \n",
    "\n",
    "$$\n",
    "CVaR_{\\varepsilon}(\\widetilde{z}) \\triangleq \\min_{a} \\left(a+\\frac{1}{\\varepsilon}\\mathbb{E}\\left[\\left(-\\widetilde{z} -a\\right)^{+}\\right]\\right)\n",
    "$$\n",
    "\n",
    "It can be shown that $CVaR_{\\varepsilon}(\\widetilde{z}) \\le VaR_{\\varepsilon}(\\widetilde{z})$. Hence, the CVaR is often used as a conservative approximation of VaR \n",
    "\n",
    "There are important disctinctions between the measures that make CVaR prefereable for optimization applications, this characteristics are discussed at lenght by [Rockafellar and Uryasev \\[2\\]](http://www.ise.ufl.edu/uryasev/files/2011/11/CVaR1_JOR.pdf) and be summarized as follows: \n",
    "\n",
    "- Is has a linear representation, thus, it doesn't sacrifice the linearity of the LP. \n",
    "- Provides information of the loss accross the distribution's tail. \n",
    "- CVar is a coherent risk metric, which means that satisfies al desirable properties for a risk metric: \n",
    "    - Translation invariance: $\\mu\\left(\\widetilde{z} + c\\right) = \\mu\\left(\\widetilde{z}\\right) - c \\quad \\forall c \\in \\mathbb{R}$   \n",
    "    - Positive homogeneity: For $\\lambda \\ge 0$, then $\\mu\\left(\\lambda\\widetilde{z}\\right) = \\lambda \\mu\\left(\\widetilde{z}\\right)$\n",
    "    - Monotonicity: given 2 random variables in the same space $\\mathcal{Z}$, $\\widetilde{z}$ and $\\widetilde{y}$, if $\\widetilde{z} \\ge \\widetilde{y}$, then $\\mu\\left(\\widetilde{z}\\right) \\ge \\mu\\left(\\widetilde{y}\\right)$\n",
    "    - Convexity: given 2 random variables in the same space $\\mathcal{Z}$, $\\widetilde{z}$ and $\\widetilde{y}$ and $\\lambda \\in [0,1]$, then $\\mu\\left(\\lambda\\widetilde{z}+(1-\\lambda)\\widetilde{y}\\right) \\le \\lambda\\mu\\left(\\widetilde{z}\\right) + \\left(1-\\lambda\\right)\\mu\\left(\\widetilde{y}\\right) $ \n",
    "    \n",
    "The interest of describing the mathematical properties of these two risk measures lies on the fact that they will be used as part of the process of decision making under uncertainty, in particular the coherence property of the CVaR measure allows the formulation of robust counterparts to linear programming problems with uncertain data"
   ]
  },
  {
   "cell_type": "markdown",
   "metadata": {},
   "source": [
    "### Calculation of VaR and CVaR\n",
    "\n",
    "For the purpose of describing and explaning the aforementioned measures and their characteristics some dummy data is generated. In this case, a data set similar to what is expected from a renewable energy probablistic forecast is used.  \n",
    "\n",
    "The data for this test is as follows: "
   ]
  },
  {
   "cell_type": "code",
   "execution_count": null,
   "metadata": {},
   "outputs": [],
   "source": [
    "ϵ = 0.01 #desired confidence level\n",
    "d = Normal(1,0.5)\n",
    "x = -0.8:0.01:1.3\n",
    "p = pdf.(d,x)\n",
    "p_n = p/sum(p) #normalization of the probabilities such that \\sum(p) = 1\n",
    "M = length(x)\n",
    "expected_value = mean(Truncated(d, -0.8, 1.3))\n",
    "#data similar to what would be expected from a PV probabilistic forecast.\n",
    "println(\"The expected value of the data is $expected_value\")"
   ]
  },
  {
   "cell_type": "markdown",
   "metadata": {},
   "source": [
    "The VaR of for a given confidence interval $\\varepsilon \\in (0,1]$, is the $\\varepsilon$ percentile of the data provided. \n",
    "\n",
    "The CVaR for a given confidence interval $\\varepsilon \\in (0,1]$, is defined as the expected value of the losses higher than the $\\varepsilon$-quantile of the distribution. \n",
    "\n",
    "Both risk measures can be calculated for the data as follows:  "
   ]
  },
  {
   "cell_type": "code",
   "execution_count": null,
   "metadata": {},
   "outputs": [],
   "source": [
    "VaR = quantile(Truncated(d, -0.8, 1.3),ϵ)\n",
    "idx_cvar = (x .<= VaR);\n",
    "println(\"The Value at Risk of the data is $VaR\")\n",
    "p_cvar = p_n[idx_cvar];\n",
    "c_var = sum(x[idx_cvar].*p_n[idx_cvar])/ϵ;\n",
    "println(\"The Conditional Value at Risk of the data is $c_var\")"
   ]
  },
  {
   "cell_type": "markdown",
   "metadata": {},
   "source": [
    "As predicted by the theory, the CVaR is larger (in the sense of the lossess) than the VaR. This reflects the fact that CVaR provides information about the expected value in the tail of the distribution and not just the value at the percentile of interest. In classical financial applications of CVaR the decicion maker is interested only in one of the tails, in this case the negative valued one.\n",
    "\n",
    "The following plot depicts the results of the analysis for the provided data. "
   ]
  },
  {
   "cell_type": "code",
   "execution_count": null,
   "metadata": {},
   "outputs": [],
   "source": [
    "plot(x,p,lab = \"Random Variable\", ylabel = \"Probability [0-1]\")\n",
    "plot!([VaR], linetype=:vline, lab = \"VaR\")\n",
    "plot!([c_var], linetype=:vline, lab = \"CVaR\")\n",
    "plot!(x[idx_cvar],p[idx_cvar], fill=(0, :red), lab = \"CVaR_area\", xlabel = \"Gains\")"
   ]
  },
  {
   "cell_type": "markdown",
   "metadata": {},
   "source": [
    "### Bertsimas and Brown model \n",
    "\n",
    "[Bertsimas and Brown \\[1\\]](http://pubsonline.informs.org/doi/abs/10.1287/opre.1080.0646?journalCode=opre) presents a methodology for constructing uncertainty sets within a robust optimization framework for linear optimization problems with uncertain data. The motivation for the formulation is twofold; first, generally there are only a finite number of observations of the unknown data. Second, even if equiped with a perfect description of the uncertain data it is not clear how to construct an uncertainty set. \n",
    "\n",
    "In this notebook, we will attempt to reproduce the formulation from Bertsimas for a data set with distinct probabilities as expected from a probabilistic forecast. The objective is to obtain the same results for the risk measures using an statistical framework as well as an optimization setting. For the sake of a clear explanation, recall the definition of CVaR: \n",
    "\n",
    "$$\n",
    "CVaR_{\\varepsilon}(\\widetilde{z}) \\triangleq \\min_{a} \\left(a+\\frac{1}{\\varepsilon}\\mathbb{E}\\left[\\left(-\\widetilde{z} -a\\right)^{+}\\right]\\right)\n",
    "$$  \n",
    "\n",
    "Assuming that the random data $\\widetilde{z}$ is provided corresponds is discretized in $M$ samples with assigned probabilities $p^k$. The $CVaR$ for a confidence level $\\varepsilon$ can be calculated as follows: \n",
    "\n",
    "$$\n",
    "\\mathcal{U} = \\text{conv}\\left( \\left\\{\\frac{1}{\\varepsilon} \\sum_{i \\in I} p^i z^i  + \\left( 1-\\frac{1}{\\varepsilon}\\sum_{i \\in I}^M p^i\\right) z^j: I \\subset \\{1,...,M\\}, \\ j \\subset \\{1,...,M\\} \\setminus I,\\sum_{i \\in I} p^i \\le \\varepsilon \\right\\}\\right)\n",
    "$$\n",
    "\n",
    "This set formulation defines a polytope, which has the interpretation of the convex hull of all $j$-point averages of \n",
    "$\\widetilde{z}$. The intuition behind this model is that it is possible to define a convex hull from the discrete samples of the random variables, and the size is determined by a generating family $\\mathcal{Q} = \\left\\{conv\\left(\\left\\{q^1,...q^k\\right\\}\\right): q_k \\le \\frac{p_k}{\\varepsilon}\\right\\}$.\n",
    "\n",
    "This set can be implemented as an optimization problem as follows:\n",
    "\n",
    "$$\n",
    "\\begin{aligned}\n",
    "\\min_{a,y} \\ &a + \\frac{1}{\\varepsilon}\\sum_{k=1}^M p^k y^k\\\\\n",
    "       s.t.\\ &a + y^k \\ge z^k \\ &\\forall k = 1,...,M\\\\\n",
    "             & y^k \\ge 0 \\ &\\forall k = 1,...,M\\\\           \n",
    "\\end{aligned}\n",
    "$$         \n",
    "\n",
    "Where the dummy variables $y^k$ are introduced to handle the non-linear $(\\cdot)^{+}$ operator in the definition of the CVaR. This formulation also provides the value of the VaR for the same $\\varepsilon$, calculated with the variable $a$. "
   ]
  },
  {
   "cell_type": "code",
   "execution_count": null,
   "metadata": {},
   "outputs": [],
   "source": [
    "cvar_opt = Model(solver=GurobiSolver(Presolve=1));\n",
    "@variable(cvar_opt, a)\n",
    "@variable(cvar_opt, y[k = 1:M] >= 0);\n",
    "@constraint(cvar_opt, a + y[k = 1:M] .>= -1* x[k = 1:M]);\n",
    "@objective(cvar_opt, Min, a + 1/(ϵ)*sum((p_n[k]*y[k]) for k = 1:M))  ;\n",
    "solve(cvar_opt);\n",
    "println(\"\")            \n",
    "println(\"CVaR using primal optimization model $(-1*getobjectivevalue(cvar_opt))\")\n",
    "println(\"VaR using primal optimization model $(-1*getvalue(a))\")            "
   ]
  },
  {
   "cell_type": "markdown",
   "metadata": {},
   "source": [
    "The previous problem still requires the enumeration of all possible scenarios $k$, generating $M$ inequality constraints, which doesn't represent any improvement over classical stochastic optimization from the computational perspective. To overcome this limitation, the dual of the optimization problem can be formulated as follows and presented in [Natarajan, et. al. \\[3\\]](http://pubsonline.informs.org/doi/abs/10.1287/opre.1080.0683?journalCode=opre). \n",
    "\n",
    "\n",
    "$$\n",
    "\\begin{aligned}\n",
    "\\max_{\\bf{u}} \\ &\\sum_{k=1}^M u^k z^k\\\\\n",
    "       s.t.\\ & \\sum_{k=1}^M u^k  = 1\\\\\n",
    "             & 0 \\le u^k \\le \\frac{1}{\\varepsilon}p^k  &\\forall k = 1,...,M\\\\\n",
    "\\end{aligned}\n",
    "$$\n",
    "\n",
    "According to [Natarajan, et. al. \\[3\\]](http://pubsonline.informs.org/doi/abs/10.1287/opre.1080.0683?journalCode=opre), if the loss function is affine, the dual is equivalent to: \n",
    "\n",
    "$$\n",
    "\\begin{aligned}\n",
    "-\\min_{\\bf{u},\\bar{z}} \\ &\\bar{z}\\\\\n",
    "       s.t.\\ & \\bar{z} = \\sum_{k=1}^M u^k z^k\\\\\n",
    "             & \\sum_{k=1}^M u^k  = 1\\\\\n",
    "             & 0 \\le u^k \\le \\frac{1}{\\varepsilon}p^k  &\\forall k = 1,...,M\\\\\n",
    "\\end{aligned}\n",
    "$$\n",
    "\n",
    "The calibration parameter $\\varepsilon$ describes the confidence level. When $\\varepsilon \\rightarrow 1$ the value of CVaR tends to the $\\mathbb{E}[\\widetilde{z}]$ and when $\\varepsilon \\rightarrow 0$ the value of CVaR corresponds to the $\\inf$ of the values in the sample. In both optimization models this property holds, but it is more intuitive in the dual formulation. \n",
    "\n",
    "For $\\varepsilon = 1$, variables $u^k$ can take at maximum the value of $p^k$ and given the constraint that limits the values of $u^k$ to be in a convex hull forces $u^k = p^k$. Hence, $\\bar{z} = \\mathbb{E}[\\widetilde{z}]$. On the other hand when $\\varepsilon \\rightarrow 0$ the upper boundary of $u^k \\rightarrow \\infty$; however, the convex hull constraints $\\bf{u}$ to be $j$-th canonical vector with a 1 in the entry $j$ corresponding to the minimum value of $\\widetilde{z}$.  "
   ]
  },
  {
   "cell_type": "code",
   "execution_count": null,
   "metadata": {},
   "outputs": [],
   "source": [
    "cvar_opt2 = Model(solver=GurobiSolver(Presolve=1))\n",
    "@variable(cvar_opt2, z)\n",
    "@variable(cvar_opt2, 0 <= u[k = 1:M] <= p_n[k]/(ϵ))\n",
    "@constraint(cvar_opt2, z == sum(u[k]*x[k] for k = 1:M))\n",
    "@constraint(cvar_opt2, sum(u[k] for k = 1:M)  == 1)\n",
    "@objective(cvar_opt2, Min, z)  \n",
    "solve(cvar_opt2)\n",
    "println(\"\")   \n",
    "println(\"CVaR using primal optimization model $(getobjectivevalue(cvar_opt2))\")"
   ]
  },
  {
   "cell_type": "markdown",
   "metadata": {},
   "source": [
    "The results of the computational experiment show that the dual formulation is more efficient and describes the uncertainty set in a more compact way. The primal formulation for the example case has 211 rows and 212 columns, while the dual contains 2 rows and 212 columns. As a result, the dual converges within 1 iteration, while the primal formulation takes 59. "
   ]
  },
  {
   "cell_type": "markdown",
   "metadata": {},
   "source": [
    "# Basic one unit dispatch with CVaR constraints\n",
    "\n",
    "Having tested two possible formulations for the calculation of the CVaR of a random variable, this section of the notebook showcases the application of these models to the ED problem. In this particular case, the test system has only one conventional generator, one PV power plant and one load. The problem considers that the operator obtained a probabilistic forecast for the PV power plant from a provider that consists of the following data:"
   ]
  },
  {
   "cell_type": "code",
   "execution_count": null,
   "metadata": {},
   "outputs": [],
   "source": [
    "d = Normal(58,10)\n",
    "solar_output = 17:0.1:95 #In MW\n",
    "p = pdf.(d,solar_output)\n",
    "p_n_pv = p/sum(p) #Normalized probability\n",
    "M = length(solar_output);\n",
    "#The system data for the rest of the components is as follows\n",
    "load = 125;\n",
    "generator_max = 85;\n",
    "generator_min = 50;"
   ]
  },
  {
   "cell_type": "code",
   "execution_count": null,
   "metadata": {},
   "outputs": [],
   "source": [
    "println(\"Mean forecast value $(mean(Truncated(d, 10, 80))) MW\")\n",
    "plot(solar_output,p, lab = \"Solar Power Output\", xaxis = \"Power Output [MW]\", yaxis = \"Probabily [0-1]\")\n",
    "plot!([(mean(Truncated(d, 17, 95)))], linetype=:vline, lab = \"Expected Value of the PV output\")"
   ]
  },
  {
   "cell_type": "markdown",
   "metadata": {},
   "source": [
    "## Analysis of risk for ED \n",
    "\n",
    "Following the same method as before, this section performs the statistic analysis of the risk measure for the net load values in the ED case under study. First, we will explore the risk of not being able to supply energy for all the load, corresponding to the Left-hand-side tail of the forecast where the solar PV output is below the expected value.\n",
    "\n",
    "In order to perform this analysis, we formulate the risk in terms of the netload, which corresponds to the difference between the load and the solar output $P_{load} - P_{pv}$. Consider that $P_{pv}$ is a random variable, thus, making the net load a random variable as well.  "
   ]
  },
  {
   "cell_type": "code",
   "execution_count": null,
   "metadata": {},
   "outputs": [],
   "source": [
    "ϵ = 0.05\n",
    "VaR_pv = (load - quantile(Truncated(d, 17, 95),ϵ))\n",
    "println(\"VaR of Load Shedding is $VaR_pv\")\n",
    "idx_cvar_pv = ((load-solar_output) .> VaR_pv);\n",
    "p_cvar_pv = p_n_pv[idx_cvar_pv];\n",
    "c_var_pv = sum((load -solar_output[idx_cvar_pv]).*p_n_pv[idx_cvar_pv])/ϵ;\n",
    "println(\"CVaR of Load Shedding is $c_var_pv\")"
   ]
  },
  {
   "cell_type": "markdown",
   "metadata": {},
   "source": [
    "The following plot explains better the application of the concept to the dispatch problem . In this case, the value of the load to be supplied for $1-\\varepsilon$ confidence interval is 83.44 MW which is very safe considering that the generator capacity is equal to 85 MW. If the generator is dispatched at a level of 70 MW, the VaR of the load will be 13.44 MW; however, if the generator is dispatched at its maximum output, according to the metric, there is no VaR of load shedding.   \n",
    "\n",
    "However, if we use the CVaR measure is possible to determine that the expected value in these case is equal to 87.56 MW which is above the capacity of the generator, thus, in dispatched at maximum capacity in the tail we can expect 2.56 MW of load shedding. "
   ]
  },
  {
   "cell_type": "code",
   "execution_count": null,
   "metadata": {},
   "outputs": [],
   "source": [
    "net_load = load - solar_output;\n",
    "plot(net_load,p, lab = \"Total Net Load\", ylabel = \"Probability\", xticks = 20:10:125)\n",
    "plot!([generator_max], linetype=:vline, lab = \"Generator Upper Limit\")\n",
    "plot!([VaR_pv], linetype=:vline, lab = \"Load VaR\")\n",
    "plot!([c_var_pv], linetype=:vline, lab = \"Load CVaR\")\n",
    "plot!(net_load[idx_cvar_pv],p[idx_cvar_pv], fill=(0, :red), lab = \"CVaR Load\", xlabel = \"netload\")"
   ]
  },
  {
   "cell_type": "code",
   "execution_count": null,
   "metadata": {},
   "outputs": [],
   "source": [
    "function e_var()\n",
    "    var_mat = []\n",
    "    c_var_mat = []\n",
    "    solar_output = 17:0.1:95 #In MW\n",
    "    for ϵ = 0.01:0.01:0.999\n",
    "        VaR_pv = (quantile(Truncated(d, 17, 95),ϵ) - load)\n",
    "        idx_cvar_pv = ((solar_output-load) .<= VaR_pv);\n",
    "        p_cvar_pv = p_n_pv[idx_cvar_pv];\n",
    "        c_var_pv = sum((solar_output[idx_cvar_pv]-load).*p_n_pv[idx_cvar_pv])/ϵ;\n",
    "        push!(c_var_mat, c_var_pv)\n",
    "        push!(var_mat, VaR_pv)\n",
    "    end\n",
    "    return c_var_mat, var_mat\n",
    "end"
   ]
  },
  {
   "cell_type": "markdown",
   "metadata": {},
   "source": [
    "A different way of showcasing these results is by plotting the supply requirement for different values of $\\varepsilon$ in the case of load shedding. The plot shows that CVaR as a risk measure dominates over VaR, at the largest possible value of $\\varepsilon$, CVaR converges to the expected value of the solar power. \n",
    "\n",
    "This is a more practial explanation of what the risk measure means, if we assume that the probabilities provided by the probabilistic forecast are a perfect representation of the uncertain variables there is no risk of losing load because the generator maximum capacity is above the supply required. However, for small confidence intervals it is possible to assess the risks of not having enough installed capacity to supply the load. "
   ]
  },
  {
   "cell_type": "code",
   "execution_count": null,
   "metadata": {},
   "outputs": [],
   "source": [
    "t1, t2 = e_var();\n",
    "plot(0.01:0.01:0.999,-1*t2, yticks = 40:10:100, xticks = 0:0.1:1,\n",
    "    lab = \"VaR of Net Load\", yaxis= \"Supply required\")\n",
    "plot!(0.01:0.01:0.999,-1*t1, lab = \"CVaR of Net Load\", xaxis = L\"$\\epsilon$\")\n",
    "plot!([generator_max], linetype=:hline, lab = \"Generator Upper Limit\")\n",
    "scatter!([1],[load-mean(Truncated(d, 17, 95))],lab = \"Maximum confidence interval CVaR\")"
   ]
  },
  {
   "cell_type": "markdown",
   "metadata": {},
   "source": [
    "In order to test the optimization formulation, the next cells will show the models for CVaR adapted and calculated to replicate the results from the statistical analysis in terms of calculation of the supply needs. For this application, the loss function is defined as the difference between load and solar generation in the following fashion. \n",
    "\n",
    "$$\n",
    "\\begin{aligned}\n",
    "\\min_{a,y} \\ &a + \\frac{1}{\\varepsilon}\\sum_{k=1}^M p^k y^k\\\\\n",
    "       s.t.\\ &a + y^k \\ge -(P_{pv}^k - P_{load}) \\ &\\forall k = 1,...,M\\\\\n",
    "             & y^k \\ge 0 \\ &\\forall k = 1,...,M\\\\           \n",
    "\\end{aligned}\n",
    "$$  "
   ]
  },
  {
   "cell_type": "code",
   "execution_count": null,
   "metadata": {},
   "outputs": [],
   "source": [
    "cvar_opt_pv = Model(solver=GurobiSolver(Presolve=1));\n",
    "@variable(cvar_opt_pv, a)\n",
    "@variable(cvar_opt_pv, y[k = 1:M] >= 0);\n",
    "@constraint(cvar_opt_pv, a + y[k = 1:M] .>= -1* (solar_output[k = 1:M] - load));\n",
    "@objective(cvar_opt_pv, Min, a + 1/(ϵ)*sum((p_n_pv[k]*y[k]) for k = 1:M))  ;\n",
    "solve(cvar_opt_pv);\n",
    "println(\"\")            \n",
    "println(\"CVaR using primal optimization model $(getobjectivevalue(cvar_opt_pv))\")\n",
    "println(\"VaR using primal optimization $(getvalue(a))\")"
   ]
  },
  {
   "cell_type": "markdown",
   "metadata": {},
   "source": [
    "The challenge in the context of ED is that it is possible to suffer curtailment and not only loss of load, and the convention for risk measures is that a negative value implies that the risk associated with the violation of the uncertainty constraint is acceptable. \n",
    "\n",
    "For this reason, a formulation that considers CVaR as a risk measure has to be adapted to take into account under and over supply. Thus, it is possible to formulate the problem of oversupply as a negative netload as follows: "
   ]
  },
  {
   "cell_type": "code",
   "execution_count": null,
   "metadata": {},
   "outputs": [],
   "source": [
    "ϵ = 0.05\n",
    "VaR_pv = (load - quantile(Truncated(d, 17, 95),1-ϵ)) #For this calculation is easier to use the complement \\epsilon\n",
    "println(\"VaR of curtailment is $VaR_pv\")\n",
    "idx_cvar_pv = ((load - solar_output) .< VaR_pv);\n",
    "p_cvar_pv = p_n_pv[idx_cvar_pv];\n",
    "c_var_pv = sum((load-solar_output[idx_cvar_pv]).*p_n_pv[idx_cvar_pv])/(ϵ);\n",
    "println(\"CVaR of the net load is $c_var_pv\")"
   ]
  },
  {
   "cell_type": "markdown",
   "metadata": {},
   "source": [
    "The following plot explains better the application of the concept to the dispatch problem in the case of power curtailment. In this case, the value of power that can be absorbed for $\\varepsilon$ confidence interval is 50.56 MW which is acceptable considering that the generator minimum capacity is equal to 50 MW. Likewise in the load shedding case, if the generator is dispatched at 70 MW, the renewable energy at risk of curtailment is 19.44 MW.   \n",
    "\n",
    "However, if we use the CVaR measure is possible to determine that the expected value in these case is equal to 46.7 MW which is below the capacity of the generator, thus, in the worst case scenario in the tail we can expect 3.3 MW of power curtailment.  "
   ]
  },
  {
   "cell_type": "code",
   "execution_count": null,
   "metadata": {},
   "outputs": [],
   "source": [
    "net_load = load - solar_output;\n",
    "plot(net_load,p, lab = \"Total Net Load\", ylabel = \"Probability\", xticks = 20:10:125)\n",
    "plot!([generator_min], linetype=:vline, lab = \"Generator Lower Limit\")\n",
    "plot!([VaR_pv], linetype=:vline, lab = \"Minimal Loading VaR\")\n",
    "plot!([c_var_pv], linetype=:vline, lab = \"Minimal Loading CVaR\")\n",
    "plot!(net_load[idx_cvar_pv],p[idx_cvar_pv], fill=(0, :red), lab = \"CVaR Net Load\", xlabel = \"Net load\")"
   ]
  },
  {
   "cell_type": "code",
   "execution_count": null,
   "metadata": {},
   "outputs": [],
   "source": [
    "function e_var()\n",
    "    var_mat = []\n",
    "    c_var_mat = []\n",
    "    solar_output = 17:0.1:95 #In MW\n",
    "    for ϵ = 0.01:0.01:0.999\n",
    "        VaR_pv = (load - quantile(Truncated(d, 17, 95),1-ϵ)) \n",
    "        #For this calculation is easier to use the complement \\epsilon, makes the implementation easier\n",
    "        idx_cvar_pv = ((load - solar_output) .< VaR_pv);\n",
    "        p_cvar_pv = p_n_pv[idx_cvar_pv];\n",
    "        c_var_pv = sum((load-solar_output[idx_cvar_pv]).*p_n_pv[idx_cvar_pv])/(ϵ);\n",
    "        push!(c_var_mat, c_var_pv)\n",
    "        push!(var_mat, VaR_pv)\n",
    "    end\n",
    "    return c_var_mat, var_mat\n",
    "end"
   ]
  },
  {
   "cell_type": "markdown",
   "metadata": {},
   "source": [
    "These results can also be plotted for different values of $\\varepsilon$. In this case, the curves are inverted because the interested is related to the risk of hitting the lower limit of the generator. The relevant metric is no longer the maximum load to be supplied but the minimum loading.  \n",
    "\n",
    "For small confidence intervals it is possible to assess the risks of having to curtail power because the minimum generation is reached. Again, the CVaR dominated the VaR measure, but it does it by expecting that the minimum loading is reached for a large value of $\\varepsilon$. "
   ]
  },
  {
   "cell_type": "code",
   "execution_count": null,
   "metadata": {},
   "outputs": [],
   "source": [
    "t1, t2 = e_var();\n",
    "plot(0.1:0.01:0.999, t2, xticks = 0:0.1:1, \n",
    "    lab = \"VaR of Net Load\", yaxis= \"Min Loading\")\n",
    "plot!(0.1:0.01:0.999, t1, yaxis = 20:10:120, lab = \"CVaR of Net Load\", xaxis = L\"$\\epsilon$\")\n",
    "plot!([generator_min], linetype=:hline, lab = \"Generator lower Limit\")"
   ]
  },
  {
   "cell_type": "markdown",
   "metadata": {},
   "source": [
    "In order to test the optimization formulation to capture the Left-hand-side tail of the distribution, the optimization formulation has to be modified slightly. Namely, the sign of the loss function has to be reversed as follows: \n",
    "\n",
    "$$\n",
    "\\begin{aligned}\n",
    "\\min_{a,y} \\ &a + \\frac{1}{\\varepsilon}\\sum_{k=1}^M p^k y^k\\\\\n",
    "       s.t.\\ &a + y^k \\ge (P_{pv}^k - P_{load}) \\ &\\forall k = 1,...,M\\\\\n",
    "             & y^k \\ge 0 \\ &\\forall k = 1,...,M\\\\           \n",
    "\\end{aligned}\n",
    "$$  \n",
    "\n",
    "And the result of the optimization problem will be the negative of the CVaR and VaR. "
   ]
  },
  {
   "cell_type": "code",
   "execution_count": null,
   "metadata": {
    "scrolled": true
   },
   "outputs": [],
   "source": [
    "cvar_opt_pv = Model(solver=GurobiSolver(Presolve=1));\n",
    "@variable(cvar_opt_pv, a)\n",
    "@variable(cvar_opt_pv, y[k = 1:M] >= 0);\n",
    "@constraint(cvar_opt_pv, a + y[k = 1:M] .>= (solar_output[k = 1:M] - load));\n",
    "@objective(cvar_opt_pv, Min, a + 1/(ϵ)*sum((p_n_pv[k]*y[k]) for k = 1:M))  ;\n",
    "solve(cvar_opt_pv);\n",
    "println(\"\")\n",
    "println(\"CVaR using primal optimizatio model $(getobjectivevalue(cvar_opt_pv))\")\n",
    "println(\"VaR using primal optimization $(getvalue(a))\")"
   ]
  },
  {
   "cell_type": "markdown",
   "metadata": {},
   "source": [
    "## Two sided CVaR ED formulation v1 (using the primal of CVaR)\n",
    "\n",
    "The classic and simplest version of the ED problem for one generator $P_g$, one load $P_L$ and a PV power plant $\\bar{P_{pv}}$ can be formulated as follows: \n",
    "\n",
    "$$\n",
    "\\begin{aligned}\n",
    "\\min_{P_g} \\ &P_g\\\\\n",
    "       s.t.\\ & Pg \\in \\mathcal{X}_g\\\\\n",
    "             & P_g + \\bar{P_{pv}} - P_L = 0\n",
    "\\end{aligned}\n",
    "$$\n",
    "\n",
    "Where the objective is to find the least cost dispatch that meets the net load calculated using the expected value of the solar power output $\\bar{P_{pv}}$. However, in order to formulate the problem using risk measures it is necessary to consider all the information about the random variable.  \n",
    "\n",
    "First, the loss function $\\mathcal{L}()$ for the CVaR can be defined as the violation of the power balance, in this setting the power balance is modeled using two independent loss functions corresponding to the CVaR of the upper tail and the lower tail of the distribution of the random variable $\\widetilde{P_{pv}}$. It is known that one tail of the distribution represents the risk of under supply (load shedding) and the other tail corresponds to the risk of over supply (power curtailment). In order to introduce the two tailed risks, measured with the CVaR the power balance constraints are reformulated as follows: \n",
    "\n",
    "$$\n",
    "\\begin{aligned}\n",
    "\\min_{P_g} \\ &\\delta_1 + \\delta_2 + P_g\\\\\n",
    "       s.t.\\ & Pg \\in \\mathcal{X}_g\\\\\n",
    "             & CVaR_{\\varepsilon}\\left(P_g + \\widetilde{P_{pv}} - P_L\\right) \\le \\delta_1 & \\\\ \n",
    "             & CVaR_{\\varepsilon}\\left(-P_g - \\widetilde{P_{pv}} + P_L \\right) \\le \\delta_2 &\\\\\n",
    "\\end{aligned}             \n",
    "$$\n",
    "\n",
    "This mathematical program calculate the optimal value $P_g^*$ that also reduces the power balance constraint violation risk. Furthermore, the model can be reformulated as the robust counter part of the ED problem where uncertain variable is the expected value of the PV power plants $\\bar{P_{pv}}$, calculated within the uncertainty set defined by the risk measure. \n",
    "\n",
    "The aforementioned reformulation implies that two values $\\bar{P_{pv}}$ need be calculated, one for the curtailment risk and one for the load shedding risk. Moreover, in this setting $\\mathcal{U}_{pv}$ is actually two independent uncertainty sets corresponding to the CVaR of the upper tail and the lower tail of the distribution. It is possible to formulate a robust counterpart of the optimization model using the uncertainty set structure studied in the previous sections as follows: \n",
    "\n",
    "$$\n",
    "\\begin{equation}\n",
    "\\begin{aligned}\n",
    "\\min_{P_g, \\delta_1, \\delta_2} \\ &\\delta_1 + \\delta_2 + P_g\\\\\n",
    "s.t.\\ & Pg \\in \\mathcal{X}_g\\\\\n",
    "&\\left\\{\\begin{array}{l@{\\;}ll}\n",
    "\\min_{a_1, \\bf{y_1}} & a_1 + \\frac{1}{\\varepsilon}\\sum_{k=1}^M p^k y_1^k &\\\\\n",
    " s.t. & a_1 + y_1^k \\ge -\\left(P_g + P_{pv}^k - P_L \\right)  &\\forall k = 1,...,M\\\\\n",
    " & y_1^k \\ge 0 \\quad &\\forall k = 1,...,M\n",
    "\\end{array}\\right\\} \\le \\delta_1\\\\\n",
    "&\\left\\{\\begin{array}{l@{\\;}ll}\n",
    "\\min_{a_2, \\bf{y_2}} & a_2 + \\frac{1}{\\varepsilon}\\sum_{k=1}^M p^k y_2^k &\\\\\n",
    " s.t. & a_2 + y_2^k \\ge \\quad \\left(P_g + P_{pv}^k - P_L \\right)  &\\forall k = 1,...,M\\\\\n",
    " & y_2^k \\ge 0 \\quad &\\forall k = 1,...,M\n",
    "\\end{array}\\right\\} \\le \\delta_2\\\\\n",
    "&\\delta_1 \\ge 0, \\quad \\delta_2 \\ge 0\n",
    "\\end{aligned}\n",
    "\\end{equation}\n",
    "$$\n",
    "\n",
    "The model can be rewritten as follows: \n",
    "\n",
    "$$\n",
    "\\begin{aligned}\n",
    "\\min_{P_g, \\delta_1, \\delta_2} \\ &\\delta_1 + \\delta_2 + P_g\\\\\n",
    "s.t.\\ & Pg \\in \\mathcal{X}_g\\\\\n",
    "& a_1 + \\frac{1}{\\varepsilon}\\sum_{k=1}^M p^k y_1^k \\le \\delta_1\\\\\n",
    "& a_1 + y_1^k \\ge -\\left(P_g + P_{pv}^k - P_L \\right) &\\forall k = 1,...,M\\\\\n",
    "& y_1^k \\ge 0 \\ &\\forall k = 1,...,M\\\\\n",
    "& a_2 + \\frac{1}{\\varepsilon}\\sum_{k=1}^M p^k y_2^k \\le \\delta_2\\\\\n",
    "& a_2 + y_2^k \\ge \\left(P_g + P_{pv}^k - P_L \\right) &\\forall k = 1,...,M\\\\\n",
    "& y_2^k \\ge 0 \\ &\\forall k = 1,...,M\\\\\n",
    "&\\delta_1 \\ge 0, \\quad \\delta_2 \\ge 0\n",
    "\\end{aligned}\n",
    "$$\n",
    "\n",
    "The results of implementing this model are as follows: "
   ]
  },
  {
   "cell_type": "code",
   "execution_count": null,
   "metadata": {
    "code_folding": []
   },
   "outputs": [],
   "source": [
    "ϵ = 0.05\n",
    "cvar_edv1 = Model(solver=GurobiSolver(Presolve=1))\n",
    "\n",
    "#Generator feasible space\n",
    "@variable(cvar_edv1, generator_min <= p_g <= generator_max);\n",
    "#Slack variables for the power balance\n",
    "@variable(cvar_edv1, delta_1 >= 0)\n",
    "@variable(cvar_edv1, delta_2 >= 0)\n",
    "\n",
    "#Variables to estimate the VaR \n",
    "@variable(cvar_edv1, a1)\n",
    "@variable(cvar_edv1, a2)\n",
    "\n",
    "#Slack Variables CVaR\n",
    "@variable(cvar_edv1, y1[k = 1:M] >= 0);\n",
    "@variable(cvar_edv1, y2[k = 1:M] >= 0);\n",
    "\n",
    "#Robust Power balance constraints \n",
    "#RHS value of the CVaR constraints (+)\n",
    "@constraint(cvar_edv1, a1 + 1/(ϵ)*sum((p_n_pv[k]*y1[k]) for k = 1:M) <= delta_1);\n",
    "@constraint(cvar_edv1, a1 + y1[k = 1:M] .>= -1*(p_g + solar_output[k = 1:M] - load));           \n",
    "\n",
    "#LHS of the CVaR constraints (-)            \n",
    "@constraint(cvar_edv1, a2 + 1/(ϵ)*sum((p_n_pv[k]*y2[k]) for k = 1:M) <= delta_2);\n",
    "@constraint(cvar_edv1, a2 + y2[k = 1:M] .>= (p_g + solar_output[k = 1:M] - load));                                   \n",
    "\n",
    "@objective(cvar_edv1, Min, delta_1 + delta_2 + p_g);     "
   ]
  },
  {
   "cell_type": "code",
   "execution_count": null,
   "metadata": {},
   "outputs": [],
   "source": [
    "solve(cvar_edv1)\n",
    "println(\"\")\n",
    "println(\"The optimal Dispatch is $(getvalue(p_g))\")\n",
    "println(\"CVaR of Load Shedding is $(getvalue(delta_1))\")\n",
    "println(\"CVaR of Curtailment is $(getvalue(delta_2))\")"
   ]
  },
  {
   "cell_type": "markdown",
   "metadata": {},
   "source": [
    "The results of the model show the lowest cost dispatch and the CVaR values for each one of the possible cost drivers, load shedding and power curtailment. However, since the objective function is linear and both terms $\\delta_1$ and $\\delta_2$ are equally weighted, the optimizer dispatches the generator to the minimum value. This creates a comparatively high risk of Load Shedding. On the other hand, if the $\\delta$ terms a unevenvely weighted it will dispatch the generator to its maximum in order to reduce the risk of load shedding. \n",
    "\n",
    "This is known as a bang-bang solution, where the optimizer only chooses one of the extremes. The performance of the model can be improved by using a convex cost function that better balances both risks. "
   ]
  },
  {
   "cell_type": "markdown",
   "metadata": {},
   "source": [
    "## Two sided CVaR ED formulation v2 (using the dual of CVaR)\n",
    "\n",
    "The previous formulation has the disadvantage that forces to declare a constraint for each scenario $z^k$; hence, the large size of rows described by the solver. However, it is possible to use the alternative formulation of the uncertainty set and arrange the problem in the following fashion:\n",
    "\n",
    "Where: \n",
    "\n",
    "$$\n",
    "\\begin{aligned}\n",
    "CVaR_{\\varepsilon}\\left(\\mathcal{L}\\left(\\widetilde{P_{pv}}\\right)\\right) = &\\left\\{\\begin{array}{l@{\\;}ll}\n",
    "-\\min_{\\bf{u},\\bar{z}} & \\mathcal{L}(\\bar{z}) \\\\\n",
    "& \\bar{z} = \\sum_{k=1}^M u^k P_{pv}^k \\\\\n",
    "&\\sum_{k=1}^M u_2^k = 1\\\\\n",
    "&0 \\le u_1^k \\le \\frac{1}{\\varepsilon}p^k &\\forall k = 1,...,M\n",
    "\\end{array}\\right\\}\n",
    "\\end{aligned}\n",
    "$$\n",
    "\n",
    "Exploiting the affine property of the loss function, the ED problem can be reformulated in an equivalent form as follows:\n",
    "\n",
    "$$\n",
    "\\begin{aligned}\n",
    "\\min_{P_g, \\delta_1, \\delta_2} \\ &\\delta_1 + \\delta_2 + P_g\\\\\n",
    "s.t.\\ & Pg \\in \\mathcal{X}_g\\\\\n",
    "&\\left\\{\\begin{array}{l@{\\;}ll}\n",
    "-\\min_{\\bf{u_1}} & - \\left(P_g +\\sum_{k=1}^M u_1^k P_{pv}^k - P_L \\right) &\\\\\n",
    "s.t.&\\sum_{k=1}^M u_1^k = 1\\\\\n",
    " & 0 \\le u_1^k \\le \\frac{1}{\\varepsilon}p^k &\\forall k = 1,...,M\\\\\n",
    "\\end{array}\\right\\} \\le \\delta_1\\\\\n",
    "&\\left\\{\\begin{array}{l@{\\;}ll}\n",
    "-\\min_{\\bf{u_2}} & (P_g +\\sum_{k=1}^M u_2^k P_{pv}^k - P_L) \\\\\n",
    "s.t.&\\sum_{k=1}^M u_2^k = 1\\\\\n",
    " & 0 \\le u_2^k \\le \\frac{1}{\\varepsilon}p^k &\\forall k = 1,...,M\n",
    "\\end{array}\\right\\} \\le \\delta_2\\\\\n",
    "&\\delta_1 \\ge 0, \\quad \\delta_2 \\ge 0\n",
    "\\end{aligned}\n",
    "$$\n",
    "\n",
    "Which leads to the following relaxed formulation:\n",
    "\n",
    "$$\n",
    "\\begin{aligned}\n",
    "\\min_{P_g, \\delta_1, \\delta_2} \\ &-(\\delta_1 + \\delta_2) + P_g\\\\\n",
    "       s.t.\\ & Pg \\in \\mathcal{X}_g\\\\\n",
    "             & - \\left(P_g +\\sum_{k=1}^M u_1^k P_{pv}^k - P_L \\right) \\ge \\delta_1\\\\\n",
    "             & \\sum_{k=1}^M u_1^k = 1\\\\\n",
    "             & 0 \\le u_1^k \\le \\frac{1}{\\varepsilon}p^k &\\forall k = 1,...,M\\\\\n",
    "             & P_g +\\sum_{k=1}^M u_2^k P_{pv}^k - P_L  \\ge \\delta_2\\\\\n",
    "             & \\sum_{k=1}^M u_2^k = 1\\\\\n",
    "             & 0 \\le u_2^k \\le \\frac{1}{\\varepsilon}p^k &\\forall k = 1,...,M\\\\ \n",
    "             & \\delta_1 \\ge 0, \\ \\delta_2 \\ge 0\n",
    "\\end{aligned}\n",
    "$$\n",
    "\n",
    "The results of implementing this model are as follows: "
   ]
  },
  {
   "cell_type": "code",
   "execution_count": null,
   "metadata": {},
   "outputs": [],
   "source": [
    "ϵ = 0.05 \n",
    "cvar_edv2 = Model(solver=GurobiSolver(Presolve=1))\n",
    "\n",
    "#Generator feasible space\n",
    "@variable(cvar_edv2, generator_min <= p_g <= generator_max)\n",
    "\n",
    "#Slack variables for the power balance\n",
    "@variable(cvar_edv2, delta_1 >= 0)\n",
    "@variable(cvar_edv2, delta_2 >= 0)\n",
    "\n",
    "#Slack Variables CVaR\n",
    "@variable(cvar_edv2, 0<= u1[k = 1:M] <= p_n_pv[k]/(ϵ));\n",
    "@variable(cvar_edv2, 0<= u2[k = 1:M] <= p_n_pv[k]/(ϵ));\n",
    "\n",
    "#Robust Power balance constraints \n",
    "@constraint(cvar_edv2,  -(p_g + sum((u1[k]*(solar_output[k] - load) for k = 1:M))) >= delta_1);\n",
    "@constraint(cvar_edv2,   (p_g + sum((u2[k]*(solar_output[k] - load) for k = 1:M))) >= delta_2);\n",
    "\n",
    "@constraint(cvar_edv2, sum(u1[k] for k = 1:M)  == 1);\n",
    "@constraint(cvar_edv2, sum(u2[k] for k = 1:M)  == 1);\n",
    "\n",
    "@objective(cvar_edv2, Min, (-delta_1-delta_2) + 1*p_g )\n",
    "solve(cvar_edv2)                                                            "
   ]
  },
  {
   "cell_type": "code",
   "execution_count": null,
   "metadata": {},
   "outputs": [],
   "source": [
    "println(\"The optimal Dispatch is $(getvalue(p_g))\")\n",
    "println(\"CVaR of load shedding is $(getvalue(delta_1))\")\n",
    "println(\"CVaR of Curtailment is $(getvalue(delta_2))\")"
   ]
  },
  {
   "cell_type": "markdown",
   "metadata": {},
   "source": [
    "The results obtained from using the dual of the uncertainty set are the same as in the previous case, with the advantage of reducing the number of rows to 4. As a result, it is possible to model $\\mathcal{U}_{pv}$ using only 4 equations instead of $M$. Moreover, if we compare the iteration number in each model, there is a performance gain from 456 to 15. "
   ]
  },
  {
   "cell_type": "markdown",
   "metadata": {},
   "source": [
    "## Two sided CVaR ED with 2 PV panel power plants\n",
    "\n",
    "This example illustrates the application and interpretation of the 2-sided CVaR in the context of multiple renewable energy power plants. The system has the same configuration as in the previous cases with an increased load and the installation of two PV power plants. "
   ]
  },
  {
   "cell_type": "code",
   "execution_count": null,
   "metadata": {},
   "outputs": [],
   "source": [
    "d1 = Normal(58,15)\n",
    "d2 = Normal(40,12)\n",
    "solar_output1 = 17:5:95 #In MW\n",
    "solar_output2 = 7:5:85 #In MW\n",
    "p1 = pdf.(d1,solar_output1)\n",
    "p2 = pdf.(d2,solar_output2) \n",
    "#Julia doesn't have a meshgrid command, so all the combinations of the solar output have to \n",
    "# arranged manually. \n",
    "solar_output = [0;0];\n",
    "p = []\n",
    "for (i, val_i) in enumerate(solar_output1)\n",
    "    for (j, val_j) in enumerate(solar_output2)\n",
    "        \n",
    "        solar_output = hcat(solar_output,[val_i;val_j])\n",
    "        push!(p,p1[i]*p2[j]) #Joint probabilities, assumming no particular correlation. This has to be captured by\n",
    "                             #the probabilistic forecast.        \n",
    "    end\n",
    "end\n",
    "solar_output = transpose(solar_output[:,2:end]);\n",
    "p_n_pv = p/sum(p) #Normalized probability space\n",
    "M = length(p_n_pv);\n",
    "#The system data for the rest of the components is as follows\n",
    "load = 175;\n",
    "generator_max = 85;\n",
    "generator_min = 50;"
   ]
  },
  {
   "cell_type": "markdown",
   "metadata": {},
   "source": [
    "The uncertainty space for the solar power production is shown in the figure, where each one of the points represents a possible combination of the power output for the PV systems and the color code represents the probability $p^k$ for the particular combination $P^k_{pv} = [P^k_{pv_1}, P^k_{pv_2}]$. Also, the expected output of both PV systems is shown in the figure.  "
   ]
  },
  {
   "cell_type": "code",
   "execution_count": null,
   "metadata": {},
   "outputs": [],
   "source": [
    "scatter(solar_output[:,1],solar_output[:,2],leg=false, zcolor=p, xlabel = \"PV sys 1 [MW]\", ylabel = \"PV sys 2 [MW]\",\n",
    "        xticks = 2:10:95, yticks = 2:10:95, cbar=true, markerstrokealpha = 0.1)\n",
    "scatter!([mean(Truncated(d1, 17, 95))],[mean(Truncated(d2, 7, 85))], annotations=(58,44.5,text(\"Expected Value\",:left)),\n",
    "    c = :red, m = (8, :diamond), xlims = [2,95], ylims = [2,95])"
   ]
  },
  {
   "cell_type": "markdown",
   "metadata": {},
   "source": [
    "In a previous section it was described that the results from the CVaR optimization model is a generating family $\\mathcal{Q} = \\left\\{conv\\left(\\left\\{q^1,...q^k\\right\\}\\right): q_k \\le \\frac{p_k}{\\varepsilon}\\right\\}$ that represents how much of the uncertainty space is used for the calculation of the expected value. In the optimization model, this generating family is represented by the values of the dual variable $u^k$ for each of the uncertainty sets. \n",
    "\n",
    "The Robust Counterpart for the problem with $N$ PV power plants is as follows:\n",
    "\n",
    "$$\n",
    "\\begin{aligned}\n",
    "\\min_{P_g, \\delta_1, \\delta_2} \\ &-(\\delta_1 + \\delta_2) + P_g\\\\\n",
    "       s.t.\\ & Pg \\in \\mathcal{X}_g\\\\\n",
    "             & - \\left(P_g +\\sum_{k=1}^M u_1^k \\sum_{n=1}^N P^k_{pv,n} - P_L \\right) \\ge \\delta_1\\\\\n",
    "             & \\sum_{k=1}^M u_1^k = 1\\\\\n",
    "             & 0 \\le u_1^k \\le \\frac{1}{\\varepsilon}p^k &\\forall k = 1,...,M\\\\\n",
    "             & P_g +\\sum_{k=1}^M u_2^k \\sum_{n=1}^N P^k_{pv,n} - P_L  \\ge \\delta_2\\\\\n",
    "             & \\sum_{k=1}^M u_2^k = 1\\\\\n",
    "             & 0 \\le u_2^k \\le \\frac{1}{\\varepsilon}p^k &\\forall k = 1,...,M\\\\ \n",
    "             & \\delta_1 \\ge 0, \\ \\delta_2 \\ge 0\n",
    "\\end{aligned}\n",
    "$$"
   ]
  },
  {
   "cell_type": "code",
   "execution_count": null,
   "metadata": {},
   "outputs": [],
   "source": [
    "function epsilon_testing(e)\n",
    "        ϵ = e\n",
    "        cvar_edv3 = Model(solver=GurobiSolver(Presolve=1,OutputFlag=0))\n",
    "\n",
    "        #Generator feasible space\n",
    "        @variable(cvar_edv3, generator_min <= p_g <= generator_max)\n",
    "\n",
    "        #Slack variables for the power balance\n",
    "        @variable(cvar_edv3, delta_1 >= 0)\n",
    "        @variable(cvar_edv3, delta_2 >= 0)\n",
    "\n",
    "        #Slack Variables CVaR\n",
    "        @variable(cvar_edv3, 0<= u1[k = 1:M] <= p_n_pv[k]/(ϵ));\n",
    "        @variable(cvar_edv3, 0<= u2[k = 1:M] <= p_n_pv[k]/(ϵ));\n",
    "\n",
    "        #Robust Power balance constraints \n",
    "        @constraint(cvar_edv3,  -(p_g + sum((u1[k]*(sum(solar_output[k,:]) - load) for k = 1:M))) >= delta_1);\n",
    "        @constraint(cvar_edv3,   (p_g + sum((u2[k]*(sum(solar_output[k,:]) - load) for k = 1:M))) >= delta_2);\n",
    "\n",
    "        @constraint(cvar_edv3, sum(u1[k] for k = 1:M)  == 1);\n",
    "        @constraint(cvar_edv3, sum(u2[k] for k = 1:M)  == 1);\n",
    "\n",
    "        @objective(cvar_edv3, Min, (-delta_1-delta_2) + 0.1*p_g )\n",
    "        solve(cvar_edv3) \n",
    "\n",
    "        uo1 = getvalue(u1);\n",
    "        uo2 = getvalue(u2);  \n",
    "                                                                    \n",
    "        #println(getvalue(delta_1))\n",
    "        #println(getvalue(delta_2))\n",
    "     return uo1, uo2\n",
    "                                                                    \n",
    "end                                                                                                                                   "
   ]
  },
  {
   "cell_type": "code",
   "execution_count": null,
   "metadata": {},
   "outputs": [],
   "source": [
    "uo1_1p, uo2_1p = epsilon_testing(0.01);\n",
    "uo1_5p, uo2_5p = epsilon_testing(0.05);\n",
    "uo1_50p, uo2_50p = epsilon_testing(0.50);\n",
    "uo1_100p, uo2_100p = epsilon_testing(1);"
   ]
  },
  {
   "cell_type": "markdown",
   "metadata": {},
   "source": [
    "In the two-system example is possible to visualize the effect of the selection of $\\varepsilon$ in the generating family.\n",
    "\n",
    "These plots show the samples used for the calculation of each one of the CVaR uncertainty set. The figures show the cases for $\\varepsilon = \\{0.01, 0.05, 0.5, 1\\}$. Also, the plots show the expected value in each one of the tails with respect to the rest of the samples. In the case of $\\varepsilon = 1$ it is possible to see that the two uncertainty sets overlap completely and that the expected values match, as predicted by the theory. "
   ]
  },
  {
   "cell_type": "code",
   "execution_count": null,
   "metadata": {},
   "outputs": [],
   "source": [
    "scatter([solar_output[(uo1_1p .> 0),1],solar_output[(uo1_5p .> 0),1],solar_output[(uo1_50p .> 0),1],solar_output[(uo1_100p .> 0),1],\n",
    "        [sum(solar_output[:,1].*uo1_1p)],[sum(solar_output[:,1].*uo1_5p)],[sum(solar_output[:,1].*uo1_50p)],[sum(solar_output[:,1].*uo1_100p)]],\n",
    "        [solar_output[(uo1_1p .> 0),2],solar_output[(uo1_5p .> 0),2],solar_output[(uo1_50p .> 0),2],solar_output[(uo1_100p .> 0),2],\n",
    "        [sum(solar_output[:,2].*uo1_1p)],[sum(solar_output[:,2].*uo1_5p)],[sum(solar_output[:,2].*uo1_50p)],[sum(solar_output[:,2].*uo1_100p)]],   \n",
    "        leg=false, xlabel = \"PV sys 1 [MW]\", \n",
    "        ylabel = \"PV sys 2 [MW]\",\n",
    "        xticks = 2:10:95, \n",
    "        yticks = 2:10:95,\n",
    "        xlims = [2,95], \n",
    "        ylims = [2,95],\n",
    "        title=[\"1%\" \"5%\" \"50%\" \"100%\"],\n",
    "        title_location = :left,\n",
    "        markeralpha = [1 1 1 0.5],\n",
    "        layout=4)\n",
    "scatter!([solar_output[(uo2_1p .> 0),1],solar_output[(uo2_5p .> 0),1],solar_output[(uo2_50p .> 0),1],solar_output[(uo2_100p .> 0),1],\n",
    "        [sum(solar_output[:,1].*uo2_1p)],[sum(solar_output[:,1].*uo2_5p)],[sum(solar_output[:,1].*uo2_50p)],[sum(solar_output[:,1].*uo2_100p)]],\n",
    "        [solar_output[(uo2_1p .> 0),2],solar_output[(uo2_5p .> 0),2],solar_output[(uo2_50p .> 0),2],solar_output[(uo2_100p .> 0),2],\n",
    "        [sum(solar_output[:,2].*uo2_1p)],[sum(solar_output[:,2].*uo2_5p)],[sum(solar_output[:,2].*uo2_50p)],[sum(solar_output[:,2].*uo2_100p)]],\n",
    "        leg=false,\n",
    "        markeralpha = [1 1 1 0.5],\n",
    "        layout=4)"
   ]
  },
  {
   "cell_type": "markdown",
   "metadata": {},
   "source": [
    "## Final Remarks \n",
    "\n",
    "- This notebook showcases the concept of risk measures and the application of the CVaR risk measure to the problem of economic dispatch. \n",
    "\n",
    "- It develops two variants of the same mathematical problem with different computational performance and establishes an equivalency between the two models. \n",
    "\n",
    "- The results also show that the objective function of the form $\\delta_1 + \\delta_2 + P_g$ is unable to capture any risk preferences from the decision maker and it leads to bang-bang solutions that can't be completely implemented in practice. \n",
    "\n",
    "- The integration of more constraints, particularly netword constraints can create conditions for different types of solutions. \n",
    "\n",
    "- The formulations presented here show that is possible to define a robust counterpart of the ED using probabilistic forecasts as inputs while maintaining the feasibility space as a polytope. "
   ]
  }
 ],
 "metadata": {
  "kernelspec": {
   "display_name": "Julia 0.6.0",
   "language": "julia",
   "name": "julia-0.6"
  },
  "language_info": {
   "file_extension": ".jl",
   "mimetype": "application/julia",
   "name": "julia",
   "version": "0.6.0"
  }
 },
 "nbformat": 4,
 "nbformat_minor": 2
}
