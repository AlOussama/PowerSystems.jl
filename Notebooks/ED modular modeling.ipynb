{
 "cells": [
  {
   "cell_type": "markdown",
   "metadata": {},
   "source": [
    "# Economic Dispatch Modeling\n",
    "\n",
    "This notebook is intended to show a power system modeling framework that exploits the capabilities of Julia to improve performance and allow modelers to develop modular system to analyze problems with different complexities. The code has been developed based on the [Economic Distpatch (ED) Problem](https://en.wikipedia.org/wiki/Economic_dispatch).\n",
    "\n",
    "The example system for this notebook is the [Small Test Systems for Power System Economic Studies](http://ieeexplore.ieee.org/stamp/stamp.jsp?arnumber=5589973), modified to include 2 PV-Plants and time series of load and renewable energy. The system data can also be accessed in [Matpower format](http://www.pserc.cornell.edu/matpower/docs/ref/matpower5.0/case5.html). "
   ]
  },
  {
   "cell_type": "markdown",
   "metadata": {},
   "source": [
    "## 5 - Bus system example\n",
    "\n",
    "It is possible to store the data for the 5-bus system described in the later sections in terms of the aforementioned type structure. \n",
    "\n",
    "The one-line diagram of the system is as follows, where the peak load of each bus is shown: \n",
    "\n",
    "![5_bus_system](5bus.png)\n",
    "\n",
    "First the nodes and system parameters are defined in terms of the system and bus types. Which eventually allows for the re-use of the same information is some other components of the system change. "
   ]
  },
  {
   "cell_type": "code",
   "execution_count": 1,
   "metadata": {},
   "outputs": [
    {
     "name": "stderr",
     "output_type": "stream",
     "text": [
      "WARNING: Method definition ==(Base.Nullable{S}, Base.Nullable{T}) in module Base at nullable.jl:238 overwritten in module NullableArrays at /Users/jdlara/.julia/v0.6/NullableArrays/src/operators.jl:99.\n"
     ]
    }
   ],
   "source": [
    "using PowerSystems\n",
    "using JuMP\n",
    "using Ipopt \n",
    "using Gurobi \n",
    "using Cbc \n",
    "using Plotly\n",
    "cd(string(homedir(),\"/.julia/v0.6/PowerSystems\"))\n",
    "include(\"data_files/data_14bus.jl\");\n",
    "include(\"data_files/data_5bus.jl\");"
   ]
  },
  {
   "cell_type": "code",
   "execution_count": null,
   "metadata": {},
   "outputs": [],
   "source": []
  }
 ],
 "metadata": {
  "kernelspec": {
   "display_name": "Julia 0.6.2",
   "language": "julia",
   "name": "julia-0.6"
  },
  "language_info": {
   "file_extension": ".jl",
   "mimetype": "application/julia",
   "name": "julia",
   "version": "0.6.2"
  }
 },
 "nbformat": 4,
 "nbformat_minor": 2
}
