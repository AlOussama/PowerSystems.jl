{
 "cells": [
  {
   "cell_type": "markdown",
   "metadata": {},
   "source": [
    "# Economic Dispatch modular modeling primer\n",
    "\n",
    "This notebook is intended to show a power system modeling framework that exploits the capabilities of Julia to improve performance and allow modelers to develop modular system to analyze problems with different complexities. The aim is to replicate the practices of other communities such as Climate Change Integrated Assessment Models (IAM) that allow the integration of expertise from different fields into large scale optimization problems. An example of these efforts is the [Mimi modeling framework](https://github.com/davidanthoff/Mimi.jl). \n",
    "\n",
    "The approach is divided in two main portions: \n",
    "\n",
    "- Type definitions for power system components. (Discussed in another notebook)\n",
    "- Model definitions and modifiers. \n",
    "\n",
    "The first version of the modeling platform is based on [JuMP](https://github.com/JuliaOpt/JuMP.jl) model modification.  Currently JuMP has some difficulties with model modification, however, in [in this post](https://discourse.julialang.org/t/mathoptinterface-and-upcoming-breaking-changes-in-jump-0-19/4874) the developers have expressed the interest in expanding the capabilities in JuMP to make the modifications easier. \n",
    "\n",
    "Finally, the current version of the code should be interpreted as a proof of concept considering that my expertise is power systems and not software engineering. In the future, the code can be improved with better practices. The code has been developed based on the [Economic Distpatch (ED) Problem](https://en.wikipedia.org/wiki/Economic_dispatch).\n",
    "\n",
    "The example system for this notebook is the [Small Test Systems for Power System Economic Studies](http://ieeexplore.ieee.org/stamp/stamp.jsp?arnumber=5589973), modified to include 2 PV-Plants and time series of load and renewable energy. The system data can also be accessed in [Matpower format](http://www.pserc.cornell.edu/matpower/docs/ref/matpower5.0/case5.html). "
   ]
  },
  {
   "cell_type": "markdown",
   "metadata": {},
   "source": [
    "## 5 - Bus system example\n",
    "\n",
    "It is possible to store the data for the 5-bus system described in the later sections in terms of the aforementioned type structure. \n",
    "\n",
    "The one-line diagram of the system is as follows, where the peak load of each bus is shown: \n",
    "\n",
    "![5_bus_system](5bus.png)\n",
    "\n",
    "First the nodes and system parameters are defined in terms of the system and bus types. Which eventually allows for the re-use of the same information is some other components of the system change. "
   ]
  },
  {
   "cell_type": "code",
   "execution_count": 1,
   "metadata": {},
   "outputs": [],
   "source": [
    "include(\"../ed_models/data_5bus.jl\");"
   ]
  },
  {
   "cell_type": "code",
   "execution_count": null,
   "metadata": {},
   "outputs": [],
   "source": [
    "include(\"../base_tools/build_network.jl\")\n",
    "using build_network\n",
    "include(\"../ed_models/data_5bus.jl\");\n",
    "net = create_network(FiveBus, Branches, nodes);"
   ]
  },
  {
   "cell_type": "markdown",
   "metadata": {},
   "source": [
    "## Problem creators \n",
    "\n",
    "The concept of the model creator is a function that takes data stored in the different structures and produces a JuMP model that can be manipulated. The process is shown un the following figure: \n",
    "\n",
    "![Model_creator](model_creator.png)\n",
    "\n",
    "In the case of the ED problem, the function ``build_ed()`` takes data from the system, buses and generators and returns a JuMP model that can be solved or modified. In the five-bus case, the model can be printed and read easily.  "
   ]
  },
  {
   "cell_type": "code",
   "execution_count": null,
   "metadata": {},
   "outputs": [],
   "source": [
    "include(\"../ed_models/economic_dispatch.jl\")\n",
    "using economic_dispatch;\n",
    "include(\"../ed_models/renewables_ed.jl\")\n",
    "using renewables_ed"
   ]
  },
  {
   "cell_type": "code",
   "execution_count": null,
   "metadata": {},
   "outputs": [],
   "source": [
    "include(\"../ed_models/transmission_constraints.jl\")\n",
    "using transmission_constraints"
   ]
  },
  {
   "cell_type": "code",
   "execution_count": null,
   "metadata": {},
   "outputs": [],
   "source": [
    "ed_problem1 = build_ed(FiveBus, Loads, Generators)"
   ]
  },
  {
   "cell_type": "markdown",
   "metadata": {},
   "source": [
    "Once the model is created and returned, it can be passed to the solving function. Inside this function is possible to define the solver and the solver parameters. For this version of the code, the solving function doesn't accept parameters for the solver. \n",
    "\n",
    "The solving function returns a solved model that later can be used to parse out the solution. The process returns the results as follows:"
   ]
  },
  {
   "cell_type": "code",
   "execution_count": null,
   "metadata": {},
   "outputs": [],
   "source": [
    "ed_solution1 = solve_ed(ed_problem1);\n",
    "results = results_ed(ed_solution1)"
   ]
  },
  {
   "cell_type": "markdown",
   "metadata": {},
   "source": [
    "It is possible to define a modifier to add security constrains to the ED problem. When studying renewable energy integration there are many alternatives to model resources and technologies. In this regard, the objective in MEMFS is to provide what are called model modifiers, which can take a model and include the constraints or changes to the objective function to produce new model formulations. The process is as follows: \n",
    "\n",
    "![Model_creator](modifier.png)\n",
    "\n",
    "Julia's capabilities to handle models as variables of a certain structure makes the process straightforward. For example, the function ```inyection_constraints()``` takes a JuMP model of ED and system data to return the modified problem. This problem then can be passed to the solving function and results functions to compare the results with respect to the solution of the base ED problem. "
   ]
  },
  {
   "cell_type": "code",
   "execution_count": null,
   "metadata": {},
   "outputs": [],
   "source": [
    "ed_const = inyection_constraints(ed_problem1, FiveBus, Loads, Generators, net)"
   ]
  },
  {
   "cell_type": "code",
   "execution_count": null,
   "metadata": {},
   "outputs": [],
   "source": [
    "ed_solution2 = solve_ed(ed_const);\n",
    "results = results_ed(ed_solution2)"
   ]
  },
  {
   "cell_type": "code",
   "execution_count": null,
   "metadata": {},
   "outputs": [],
   "source": [
    "ed_re = renewables_withcurtailment(ed_const, FiveBus, PV)"
   ]
  },
  {
   "cell_type": "code",
   "execution_count": null,
   "metadata": {},
   "outputs": [],
   "source": [
    "ed_solution3 = solve_ed(ed_re);\n",
    "results = results_ed(ed_solution3)"
   ]
  }
 ],
 "metadata": {
  "kernelspec": {
   "display_name": "Julia 0.6.1",
   "language": "julia",
   "name": "julia-0.6"
  },
  "language_info": {
   "file_extension": ".jl",
   "mimetype": "application/julia",
   "name": "julia",
   "version": "0.6.1"
  }
 },
 "nbformat": 4,
 "nbformat_minor": 2
}
