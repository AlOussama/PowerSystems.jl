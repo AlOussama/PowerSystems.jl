{
 "cells": [
  {
   "cell_type": "markdown",
   "metadata": {},
   "source": [
    "# Parsing System Files Code \n",
    "This notebook is intended to show how the parsing of matpower, pss/e and plexos data can be done to integrate it with the PowerSy platform. \n",
    "\n",
    "Currently IPOPT is not working in Julia the [issue](https://github.com/JuliaOpt/Ipopt.jl/issues/61#issuecomment-339160928) has been raised and a solution is coming. While this gets resolved, the solution to powerflow models will use NLopt with the SQP solver. "
   ]
  },
  {
   "cell_type": "code",
   "execution_count": 1,
   "metadata": {},
   "outputs": [
    {
     "name": "stderr",
     "output_type": "stream",
     "text": [
      "WARNING: Method definition ==(Base.Nullable{S}, Base.Nullable{T}) in module Base at nullable.jl:238 overwritten in module NullableArrays at /Users/jdlara/.julia/v0.6/NullableArrays/src/operators.jl:99.\n"
     ]
    }
   ],
   "source": [
    "using PowerSystems\n",
    "#using PowerModels\n",
    "#using NLopt\n",
    "#using Ipopt\n",
    "#model_constructor = ACPPowerModel\n",
    "#solver1 = NLoptSolver(algorithm = :LD_SLSQP);\n",
    "#solver2 = IpoptSolver();"
   ]
  },
  {
   "cell_type": "markdown",
   "metadata": {},
   "source": [
    "The plexos parser is working, but the sequences to parse load data from time series and the generation costs function is still nothing. Information about the buses and branches has been already incorporated. "
   ]
  },
  {
   "cell_type": "code",
   "execution_count": 2,
   "metadata": {},
   "outputs": [
    {
     "name": "stdout",
     "output_type": "stream",
     "text": [
      "8719\n"
     ]
    },
    {
     "data": {
      "text/plain": [
       "Dict{String,Any} with 9 entries:\n",
       "  \"name\"         => \"csv_case\"\n",
       "  \"dcline\"       => Dict{String,Any}()\n",
       "  \"baseMVA\"      => 100\n",
       "  \"gen\"          => Dict{String,Any}(Pair{String,Any}(\"153\", Dict{String,Any}(P…\n",
       "  \"branch\"       => Dict{String,Any}(Pair{String,Any}(\"1\", Dict{String,Any}(Pai…\n",
       "  \"multinetwork\" => false\n",
       "  \"bus\"          => Dict{String,Any}(Pair{String,Any}(\"32\", Dict{String,Any}(Pa…\n",
       "  \"version\"      => \"Plexos csv data\"\n",
       "  \"per_unit\"     => true"
      ]
     },
     "execution_count": 2,
     "metadata": {},
     "output_type": "execute_result"
    }
   ],
   "source": [
    "using PowerSystems\n",
    "cd(string(homedir(),\"/.julia/v0.6/PowerSystems\"))\n",
    "plexos = plexoscsv_parser(\"data_files/plexos_csv_118/\")"
   ]
  },
  {
   "cell_type": "markdown",
   "metadata": {},
   "source": [
    "Matpower files are parsed using PowerModels and the solution to the models has been modified to allow using power models pf solver with any type of datafile and not only MPC. "
   ]
  }
 ],
 "metadata": {
  "kernelspec": {
   "display_name": "Julia 0.6.2",
   "language": "julia",
   "name": "julia-0.6"
  },
  "language_info": {
   "file_extension": ".jl",
   "mimetype": "application/julia",
   "name": "julia",
   "version": "0.6.2"
  }
 },
 "nbformat": 4,
 "nbformat_minor": 2
}
