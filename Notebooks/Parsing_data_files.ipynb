{
 "cells": [
  {
   "cell_type": "markdown",
   "metadata": {},
   "source": [
    "# Parsing System Files Code \n",
    "This notebook is intended to show how the parsing of matpower, pss/e and plexos data can be done to integrate it with the PowerSy platform. \n",
    "\n",
    "Currently IPOPT is not working in Julia the [issue](https://github.com/JuliaOpt/Ipopt.jl/issues/61#issuecomment-339160928) has been raised and a solution is coming. While this gets resolved, the solution to powerflow models will use NLopt with the SQP solver. "
   ]
  },
  {
   "cell_type": "code",
   "execution_count": 1,
   "metadata": {},
   "outputs": [
    {
     "name": "stderr",
     "output_type": "stream",
     "text": [
      "WARNING: Method definition ==(Base.Nullable{S}, Base.Nullable{T}) in module Base at nullable.jl:238 overwritten in module NullableArrays at /Users/jdlara/.julia/v0.6/NullableArrays/src/operators.jl:99.\n"
     ]
    }
   ],
   "source": [
    "using PowerSystems\n",
    "#using PowerModels\n",
    "#using NLopt\n",
    "#using Ipopt\n",
    "#model_constructor = ACPPowerModel\n",
    "#solver1 = NLoptSolver(algorithm = :LD_SLSQP);\n",
    "#solver2 = IpoptSolver();"
   ]
  },
  {
   "cell_type": "markdown",
   "metadata": {},
   "source": [
    "The plexos parser is working, but the sequences to parse load data from time series and the generation costs function is still nothing. Information about the buses and branches has been already incorporated. "
   ]
  },
  {
   "cell_type": "code",
   "execution_count": 2,
   "metadata": {},
   "outputs": [
    {
     "name": "stdout",
     "output_type": "stream",
     "text": [
      "8719\n"
     ]
    },
    {
     "name": "stderr",
     "output_type": "stream",
     "text": [
      "\u001b[1m\u001b[33mWARNING: \u001b[39m\u001b[22m\u001b[33m\n",
      "NetLoad and WIND16DA have mismatched lengths.\n",
      "Therefore, could not fill in pg attribute for generator 326.\u001b[39m\n",
      "\u001b[1m\u001b[33mWARNING: \u001b[39m\u001b[22m\u001b[33m\n",
      "NetLoad and SOLAR6DA have mismatched lengths.\n",
      "Therefore, could not fill in pg attribute for generator 228.\u001b[39m\n",
      "\u001b[1m\u001b[33mWARNING: \u001b[39m\u001b[22m\u001b[33m\n",
      "Filled the pg attribute for generator 190 by index.\u001b[39m\n"
     ]
    },
    {
     "ename": "LoadError",
     "evalue": "\u001b[91mKeyError: key \"ind_at_max_load\" not found\u001b[39m",
     "output_type": "error",
     "traceback": [
      "\u001b[91mKeyError: key \"ind_at_max_load\" not found\u001b[39m",
      "",
      "Stacktrace:",
      " [1] \u001b[1mgetindex\u001b[22m\u001b[22m\u001b[1m(\u001b[22m\u001b[22m::Dict{String,Any}, ::String\u001b[1m)\u001b[22m\u001b[22m at \u001b[1m./dict.jl:474\u001b[22m\u001b[22m",
      " [2] \u001b[1mcsv_to_pm_gen\u001b[22m\u001b[22m\u001b[1m(\u001b[22m\u001b[22m::Dict{String,Any}\u001b[1m)\u001b[22m\u001b[22m at \u001b[1m/Users/jdlara/.julia/v0.6/PowerSystems/src/parsers/plexoscsv_parser.jl:482\u001b[22m\u001b[22m",
      " [3] \u001b[1mcsv_to_pm\u001b[22m\u001b[22m\u001b[1m(\u001b[22m\u001b[22m::Dict{String,Any}\u001b[1m)\u001b[22m\u001b[22m at \u001b[1m/Users/jdlara/.julia/v0.6/PowerSystems/src/parsers/plexoscsv_parser.jl:362\u001b[22m\u001b[22m",
      " [4] \u001b[1mplexoscsv_parser\u001b[22m\u001b[22m\u001b[1m(\u001b[22m\u001b[22m::String\u001b[1m)\u001b[22m\u001b[22m at \u001b[1m/Users/jdlara/.julia/v0.6/PowerSystems/src/parsers/plexoscsv_parser.jl:719\u001b[22m\u001b[22m",
      " [5] \u001b[1minclude_string\u001b[22m\u001b[22m\u001b[1m(\u001b[22m\u001b[22m::String, ::String\u001b[1m)\u001b[22m\u001b[22m at \u001b[1m./loading.jl:522\u001b[22m\u001b[22m"
     ]
    }
   ],
   "source": [
    "cd(string(homedir(),\"/.julia/v0.6/PowerSystems\"))\n",
    "plexos = plexoscsv_parser(\"data_files/plexos_csv_118/\")"
   ]
  },
  {
   "cell_type": "markdown",
   "metadata": {},
   "source": [
    "Matpower files are parsed using PowerModels and the solution to the models has been modified to allow using power models pf solver with any type of datafile and not only MPC. "
   ]
  }
 ],
 "metadata": {
  "kernelspec": {
   "display_name": "Julia 0.6.2",
   "language": "julia",
   "name": "julia-0.6"
  },
  "language_info": {
   "file_extension": ".jl",
   "mimetype": "application/julia",
   "name": "julia",
   "version": "0.6.2"
  }
 },
 "nbformat": 4,
 "nbformat_minor": 2
}
